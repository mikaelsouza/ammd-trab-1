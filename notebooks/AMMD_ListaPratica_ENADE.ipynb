{
 "cells": [
  {
   "cell_type": "markdown",
   "metadata": {},
   "source": [
    "<table style=\"width: 100%; margin-left: auto; margin-right: auto; background-color: white;\">\n",
    "<tbody>\n",
    "<tr>\n",
    "\n",
    "<td style=\"text-align: center; width: 12%;\"><img src=imagens/brasil-brasao.png alt=\"\" /></td>\n",
    "\n",
    "<td style=\"width: 68%;\">\n",
    "<h2 style=\"text-align: center; margin-top: 1%;\">Rep&uacute;blica Federativa do Brasil</h2>\n",
    "<h2 style=\"text-align: center; margin-top: 1%;\">Minist&eacute;rio da Educa&ccedil;&atilde;o</h2>\n",
    "<h2 style=\"text-align: center; margin-top: 1%;\">Universidade Federal do Amazonas</h2>\n",
    "<h2 style=\"text-align: center; margin-top: 1%;\">Instituto de Computa&ccedil;&atilde;o</h2>\n",
    "</td>\n",
    "\n",
    "<td style=\"width: 12%;\"><img src=\"imagens/UFAM-logo.png\" alt=\"\" /></td>\n",
    "\n",
    "</tr>\n",
    "</tbody>\n",
    "</table>"
   ]
  },
  {
   "cell_type": "markdown",
   "metadata": {},
   "source": [
    "# Aprendizado de Máquina e Mineração de Dados\n",
    "## Lista Prática de Análise de Dados"
   ]
  },
  {
   "cell_type": "markdown",
   "metadata": {},
   "source": [
    "Professor _Marco Cristo_ \n",
    "\n",
    "**Aluno**: Mikael Souza Silva"
   ]
  },
  {
   "cell_type": "markdown",
   "metadata": {},
   "source": [
    "__Introdução__: Neste trabalho, vamos analisar dados do INEP sobre o ENADE 2017. Estes dados estão organizados em uma releção com as informações do candidato necessárias para realizar a prova, além das suas notas e as respostas que os candidatos deram a questionários sobre a prova, seus dados pessoais e curso realizado. Em anexo, ao fim deste notebook, temos uma descrição detalhada das informações obtidas. "
   ]
  },
  {
   "cell_type": "markdown",
   "metadata": {},
   "source": [
    "#### Preliminares"
   ]
  },
  {
   "cell_type": "code",
   "execution_count": 1,
   "metadata": {},
   "outputs": [],
   "source": [
    "# usar versão do Python 3.x\n",
    "\n",
    "# Imports\n",
    "import pandas as pd\n",
    "import numpy as np\n",
    "import matplotlib.pyplot as plt\n",
    "import sklearn\n",
    "import sys"
   ]
  },
  {
   "cell_type": "code",
   "execution_count": 2,
   "metadata": {},
   "outputs": [
    {
     "name": "stdout",
     "output_type": "stream",
     "text": [
      "Python 3.7.3 (default, Mar 27 2019, 09:23:15) \n",
      "[Clang 10.0.1 (clang-1001.0.46.3)]\n",
      "--------\n",
      "Pandas: 0.24.2\n",
      "Numpy: 1.16.4\n",
      "SKLearn: 0.21.2\n"
     ]
    }
   ],
   "source": [
    "print('Python', sys.version)\n",
    "print('--------')\n",
    "print('Pandas:', pd.__version__)\n",
    "print('Numpy:', np.__version__)\n",
    "print('SKLearn:', sklearn.__version__)"
   ]
  },
  {
   "cell_type": "code",
   "execution_count": 38,
   "metadata": {},
   "outputs": [],
   "source": [
    "def bp(data, by, title, xlabel, ylabel):\n",
    "    fig, ax = plt.subplots(figsize=(6, 6))\n",
    "    data.boxplot(by=by, ax=ax, showmeans=True)\n",
    "    _ = plt.suptitle('')\n",
    "    _ = plt.title(title)\n",
    "    _ = plt.xlabel(xlabel)\n",
    "    _ = plt.ylabel(ylabel)"
   ]
  },
  {
   "cell_type": "code",
   "execution_count": 39,
   "metadata": {},
   "outputs": [],
   "source": [
    "# Caminho do arquivo\n",
    "egeral = pd.read_csv('../data/enade2017_Fisica.csv', sep=';') "
   ]
  },
  {
   "cell_type": "code",
   "execution_count": 40,
   "metadata": {},
   "outputs": [
    {
     "data": {
      "text/html": [
       "<div>\n",
       "<style scoped>\n",
       "    .dataframe tbody tr th:only-of-type {\n",
       "        vertical-align: middle;\n",
       "    }\n",
       "\n",
       "    .dataframe tbody tr th {\n",
       "        vertical-align: top;\n",
       "    }\n",
       "\n",
       "    .dataframe thead th {\n",
       "        text-align: right;\n",
       "    }\n",
       "</style>\n",
       "<table border=\"1\" class=\"dataframe\">\n",
       "  <thead>\n",
       "    <tr style=\"text-align: right;\">\n",
       "      <th></th>\n",
       "      <th>CO_IES</th>\n",
       "      <th>CO_CATEGAD</th>\n",
       "      <th>CO_ORGACAD</th>\n",
       "      <th>CO_MODALIDADE</th>\n",
       "      <th>NU_IDADE</th>\n",
       "      <th>ANO_FIM_EM</th>\n",
       "      <th>ANO_IN_GRAD</th>\n",
       "      <th>CO_TURNO_GRADUACAO</th>\n",
       "      <th>NT_GER</th>\n",
       "      <th>NT_FG</th>\n",
       "      <th>...</th>\n",
       "      <th>QE_I59</th>\n",
       "      <th>QE_I60</th>\n",
       "      <th>QE_I61</th>\n",
       "      <th>QE_I62</th>\n",
       "      <th>QE_I63</th>\n",
       "      <th>QE_I64</th>\n",
       "      <th>QE_I65</th>\n",
       "      <th>QE_I66</th>\n",
       "      <th>QE_I67</th>\n",
       "      <th>QE_I68</th>\n",
       "    </tr>\n",
       "  </thead>\n",
       "  <tbody>\n",
       "    <tr>\n",
       "      <th>count</th>\n",
       "      <td>3579.000000</td>\n",
       "      <td>3579.000000</td>\n",
       "      <td>3579.000000</td>\n",
       "      <td>3579.000000</td>\n",
       "      <td>3579.000000</td>\n",
       "      <td>3579.000000</td>\n",
       "      <td>3579.000000</td>\n",
       "      <td>3579.000000</td>\n",
       "      <td>3570.000000</td>\n",
       "      <td>3570.000000</td>\n",
       "      <td>...</td>\n",
       "      <td>3482.000000</td>\n",
       "      <td>3482.000000</td>\n",
       "      <td>3482.000000</td>\n",
       "      <td>3482.000000</td>\n",
       "      <td>3482.000000</td>\n",
       "      <td>3482.000000</td>\n",
       "      <td>3482.000000</td>\n",
       "      <td>3482.000000</td>\n",
       "      <td>3482.000000</td>\n",
       "      <td>3482.000000</td>\n",
       "    </tr>\n",
       "    <tr>\n",
       "      <th>mean</th>\n",
       "      <td>1500.868678</td>\n",
       "      <td>1.637329</td>\n",
       "      <td>10027.316848</td>\n",
       "      <td>0.909472</td>\n",
       "      <td>27.482258</td>\n",
       "      <td>2007.729254</td>\n",
       "      <td>2012.741269</td>\n",
       "      <td>3.056720</td>\n",
       "      <td>39.936162</td>\n",
       "      <td>53.520644</td>\n",
       "      <td>...</td>\n",
       "      <td>4.910684</td>\n",
       "      <td>4.700172</td>\n",
       "      <td>4.720563</td>\n",
       "      <td>4.643021</td>\n",
       "      <td>4.711086</td>\n",
       "      <td>4.914130</td>\n",
       "      <td>4.897473</td>\n",
       "      <td>5.022114</td>\n",
       "      <td>4.748420</td>\n",
       "      <td>4.648191</td>\n",
       "    </tr>\n",
       "    <tr>\n",
       "      <th>std</th>\n",
       "      <td>3085.326989</td>\n",
       "      <td>1.226826</td>\n",
       "      <td>1.527345</td>\n",
       "      <td>0.286977</td>\n",
       "      <td>7.105561</td>\n",
       "      <td>6.060729</td>\n",
       "      <td>2.121545</td>\n",
       "      <td>1.079496</td>\n",
       "      <td>13.789994</td>\n",
       "      <td>18.059580</td>\n",
       "      <td>...</td>\n",
       "      <td>1.419609</td>\n",
       "      <td>1.563827</td>\n",
       "      <td>1.490476</td>\n",
       "      <td>1.525355</td>\n",
       "      <td>1.462875</td>\n",
       "      <td>1.322178</td>\n",
       "      <td>1.935204</td>\n",
       "      <td>1.544262</td>\n",
       "      <td>1.718615</td>\n",
       "      <td>1.598624</td>\n",
       "    </tr>\n",
       "    <tr>\n",
       "      <th>min</th>\n",
       "      <td>1.000000</td>\n",
       "      <td>1.000000</td>\n",
       "      <td>10019.000000</td>\n",
       "      <td>0.000000</td>\n",
       "      <td>18.000000</td>\n",
       "      <td>1965.000000</td>\n",
       "      <td>2000.000000</td>\n",
       "      <td>1.000000</td>\n",
       "      <td>0.000000</td>\n",
       "      <td>0.000000</td>\n",
       "      <td>...</td>\n",
       "      <td>1.000000</td>\n",
       "      <td>1.000000</td>\n",
       "      <td>1.000000</td>\n",
       "      <td>1.000000</td>\n",
       "      <td>1.000000</td>\n",
       "      <td>1.000000</td>\n",
       "      <td>1.000000</td>\n",
       "      <td>1.000000</td>\n",
       "      <td>1.000000</td>\n",
       "      <td>1.000000</td>\n",
       "    </tr>\n",
       "    <tr>\n",
       "      <th>25%</th>\n",
       "      <td>338.000000</td>\n",
       "      <td>1.000000</td>\n",
       "      <td>10028.000000</td>\n",
       "      <td>1.000000</td>\n",
       "      <td>23.000000</td>\n",
       "      <td>2006.000000</td>\n",
       "      <td>2012.000000</td>\n",
       "      <td>2.000000</td>\n",
       "      <td>30.500000</td>\n",
       "      <td>41.725000</td>\n",
       "      <td>...</td>\n",
       "      <td>4.000000</td>\n",
       "      <td>4.000000</td>\n",
       "      <td>4.000000</td>\n",
       "      <td>4.000000</td>\n",
       "      <td>4.000000</td>\n",
       "      <td>4.000000</td>\n",
       "      <td>4.000000</td>\n",
       "      <td>4.000000</td>\n",
       "      <td>4.000000</td>\n",
       "      <td>4.000000</td>\n",
       "    </tr>\n",
       "    <tr>\n",
       "      <th>50%</th>\n",
       "      <td>579.000000</td>\n",
       "      <td>1.000000</td>\n",
       "      <td>10028.000000</td>\n",
       "      <td>1.000000</td>\n",
       "      <td>25.000000</td>\n",
       "      <td>2010.000000</td>\n",
       "      <td>2013.000000</td>\n",
       "      <td>3.000000</td>\n",
       "      <td>39.000000</td>\n",
       "      <td>54.600000</td>\n",
       "      <td>...</td>\n",
       "      <td>5.000000</td>\n",
       "      <td>5.000000</td>\n",
       "      <td>5.000000</td>\n",
       "      <td>5.000000</td>\n",
       "      <td>5.000000</td>\n",
       "      <td>5.000000</td>\n",
       "      <td>5.000000</td>\n",
       "      <td>5.000000</td>\n",
       "      <td>5.000000</td>\n",
       "      <td>5.000000</td>\n",
       "    </tr>\n",
       "    <tr>\n",
       "      <th>75%</th>\n",
       "      <td>1146.000000</td>\n",
       "      <td>2.000000</td>\n",
       "      <td>10028.000000</td>\n",
       "      <td>1.000000</td>\n",
       "      <td>30.000000</td>\n",
       "      <td>2012.000000</td>\n",
       "      <td>2014.000000</td>\n",
       "      <td>4.000000</td>\n",
       "      <td>48.900000</td>\n",
       "      <td>66.675000</td>\n",
       "      <td>...</td>\n",
       "      <td>6.000000</td>\n",
       "      <td>6.000000</td>\n",
       "      <td>6.000000</td>\n",
       "      <td>6.000000</td>\n",
       "      <td>6.000000</td>\n",
       "      <td>6.000000</td>\n",
       "      <td>6.000000</td>\n",
       "      <td>6.000000</td>\n",
       "      <td>6.000000</td>\n",
       "      <td>6.000000</td>\n",
       "    </tr>\n",
       "    <tr>\n",
       "      <th>max</th>\n",
       "      <td>18506.000000</td>\n",
       "      <td>7.000000</td>\n",
       "      <td>10028.000000</td>\n",
       "      <td>1.000000</td>\n",
       "      <td>69.000000</td>\n",
       "      <td>2016.000000</td>\n",
       "      <td>2017.000000</td>\n",
       "      <td>4.000000</td>\n",
       "      <td>87.000000</td>\n",
       "      <td>97.600000</td>\n",
       "      <td>...</td>\n",
       "      <td>8.000000</td>\n",
       "      <td>8.000000</td>\n",
       "      <td>8.000000</td>\n",
       "      <td>8.000000</td>\n",
       "      <td>8.000000</td>\n",
       "      <td>8.000000</td>\n",
       "      <td>8.000000</td>\n",
       "      <td>8.000000</td>\n",
       "      <td>8.000000</td>\n",
       "      <td>8.000000</td>\n",
       "    </tr>\n",
       "  </tbody>\n",
       "</table>\n",
       "<p>8 rows × 67 columns</p>\n",
       "</div>"
      ],
      "text/plain": [
       "             CO_IES   CO_CATEGAD    CO_ORGACAD  CO_MODALIDADE     NU_IDADE  \\\n",
       "count   3579.000000  3579.000000   3579.000000    3579.000000  3579.000000   \n",
       "mean    1500.868678     1.637329  10027.316848       0.909472    27.482258   \n",
       "std     3085.326989     1.226826      1.527345       0.286977     7.105561   \n",
       "min        1.000000     1.000000  10019.000000       0.000000    18.000000   \n",
       "25%      338.000000     1.000000  10028.000000       1.000000    23.000000   \n",
       "50%      579.000000     1.000000  10028.000000       1.000000    25.000000   \n",
       "75%     1146.000000     2.000000  10028.000000       1.000000    30.000000   \n",
       "max    18506.000000     7.000000  10028.000000       1.000000    69.000000   \n",
       "\n",
       "        ANO_FIM_EM  ANO_IN_GRAD  CO_TURNO_GRADUACAO       NT_GER        NT_FG  \\\n",
       "count  3579.000000  3579.000000         3579.000000  3570.000000  3570.000000   \n",
       "mean   2007.729254  2012.741269            3.056720    39.936162    53.520644   \n",
       "std       6.060729     2.121545            1.079496    13.789994    18.059580   \n",
       "min    1965.000000  2000.000000            1.000000     0.000000     0.000000   \n",
       "25%    2006.000000  2012.000000            2.000000    30.500000    41.725000   \n",
       "50%    2010.000000  2013.000000            3.000000    39.000000    54.600000   \n",
       "75%    2012.000000  2014.000000            4.000000    48.900000    66.675000   \n",
       "max    2016.000000  2017.000000            4.000000    87.000000    97.600000   \n",
       "\n",
       "       ...       QE_I59       QE_I60       QE_I61       QE_I62       QE_I63  \\\n",
       "count  ...  3482.000000  3482.000000  3482.000000  3482.000000  3482.000000   \n",
       "mean   ...     4.910684     4.700172     4.720563     4.643021     4.711086   \n",
       "std    ...     1.419609     1.563827     1.490476     1.525355     1.462875   \n",
       "min    ...     1.000000     1.000000     1.000000     1.000000     1.000000   \n",
       "25%    ...     4.000000     4.000000     4.000000     4.000000     4.000000   \n",
       "50%    ...     5.000000     5.000000     5.000000     5.000000     5.000000   \n",
       "75%    ...     6.000000     6.000000     6.000000     6.000000     6.000000   \n",
       "max    ...     8.000000     8.000000     8.000000     8.000000     8.000000   \n",
       "\n",
       "            QE_I64       QE_I65       QE_I66       QE_I67       QE_I68  \n",
       "count  3482.000000  3482.000000  3482.000000  3482.000000  3482.000000  \n",
       "mean      4.914130     4.897473     5.022114     4.748420     4.648191  \n",
       "std       1.322178     1.935204     1.544262     1.718615     1.598624  \n",
       "min       1.000000     1.000000     1.000000     1.000000     1.000000  \n",
       "25%       4.000000     4.000000     4.000000     4.000000     4.000000  \n",
       "50%       5.000000     5.000000     5.000000     5.000000     5.000000  \n",
       "75%       6.000000     6.000000     6.000000     6.000000     6.000000  \n",
       "max       8.000000     8.000000     8.000000     8.000000     8.000000  \n",
       "\n",
       "[8 rows x 67 columns]"
      ]
     },
     "execution_count": 40,
     "metadata": {},
     "output_type": "execute_result"
    }
   ],
   "source": [
    "egeral.describe()"
   ]
  },
  {
   "cell_type": "markdown",
   "metadata": {},
   "source": [
    "#### Análise de valores faltantes"
   ]
  },
  {
   "cell_type": "markdown",
   "metadata": {},
   "source": [
    "<div class=\"alert alert-info\">\n",
    "<b>1</b> - Que colunas possuem campos nulos em **egeral**?\n",
    "</div>"
   ]
  },
  {
   "cell_type": "markdown",
   "metadata": {},
   "source": [
    "Há muitas formas de fazer isso em Pandas, como por exemplo através da utilização do método isnull()"
   ]
  },
  {
   "cell_type": "markdown",
   "metadata": {},
   "source": [
    "### Reposta 1:"
   ]
  },
  {
   "cell_type": "code",
   "execution_count": 41,
   "metadata": {},
   "outputs": [
    {
     "name": "stdout",
     "output_type": "stream",
     "text": [
      "Index(['NT_GER', 'NT_FG', 'NT_OBJ_FG', 'NT_DIS_FG', 'NT_FG_D1', 'NT_FG_D1_PT',\n",
      "       'NT_FG_D1_CT', 'NT_FG_D2', 'NT_FG_D2_PT', 'NT_FG_D2_CT', 'NT_CE',\n",
      "       'NT_OBJ_CE', 'NT_DIS_CE', 'NT_CE_D1', 'NT_CE_D2', 'NT_CE_D3', 'QE_I01',\n",
      "       'QE_I02', 'QE_I03', 'QE_I04', 'QE_I05', 'QE_I06', 'QE_I07', 'QE_I08',\n",
      "       'QE_I09', 'QE_I10', 'QE_I11', 'QE_I12', 'QE_I13', 'QE_I14', 'QE_I15',\n",
      "       'QE_I16', 'QE_I17', 'QE_I18', 'QE_I19', 'QE_I20', 'QE_I21', 'QE_I22',\n",
      "       'QE_I23', 'QE_I24', 'QE_I25', 'QE_I26', 'QE_I27', 'QE_I28', 'QE_I29',\n",
      "       'QE_I30', 'QE_I31', 'QE_I32', 'QE_I33', 'QE_I34', 'QE_I35', 'QE_I36',\n",
      "       'QE_I37', 'QE_I38', 'QE_I39', 'QE_I40', 'QE_I41', 'QE_I42', 'QE_I43',\n",
      "       'QE_I44', 'QE_I45', 'QE_I46', 'QE_I47', 'QE_I48', 'QE_I49', 'QE_I50',\n",
      "       'QE_I51', 'QE_I52', 'QE_I53', 'QE_I54', 'QE_I55', 'QE_I56', 'QE_I57',\n",
      "       'QE_I58', 'QE_I59', 'QE_I60', 'QE_I61', 'QE_I62', 'QE_I63', 'QE_I64',\n",
      "       'QE_I65', 'QE_I66', 'QE_I67', 'QE_I68'],\n",
      "      dtype='object')\n"
     ]
    }
   ],
   "source": [
    "# Colunas com dados faltando:\n",
    "colunas_faltantes = egeral.isnull().any()\n",
    "print(egeral.columns[colunas_faltantes])"
   ]
  },
  {
   "cell_type": "markdown",
   "metadata": {},
   "source": [
    "<div class=\"alert alert-info\">\n",
    "<b>2</b> - Substitua dados faltantes por valores razoáveis. No caso dos questionários, as colunas até QE_I26 podem ser substituídas por um 'Z'. As colunas após a QE_I26 podem ser substituídas por 7 (7 = _Não sei responder_).\n",
    "</div>"
   ]
  },
  {
   "cell_type": "markdown",
   "metadata": {},
   "source": [
    "No caso das notas, se elas forem NaN, podemos substituí-las por 0. Após isso, imprima o vetor resultante para confirmar se não há mais valores NaNs"
   ]
  },
  {
   "cell_type": "markdown",
   "metadata": {},
   "source": [
    "### Resposta 2:"
   ]
  },
  {
   "cell_type": "code",
   "execution_count": 42,
   "metadata": {},
   "outputs": [
    {
     "name": "stdout",
     "output_type": "stream",
     "text": [
      "10 primeiras colunas de questionário: ['QE_I01', 'QE_I02', 'QE_I03', 'QE_I04', 'QE_I05', 'QE_I06', 'QE_I07', 'QE_I08', 'QE_I09', 'QE_I10']\n"
     ]
    }
   ],
   "source": [
    "# Filtrando colunas de questionários\n",
    "colunas = egeral.columns\n",
    "questionario = list(filter(lambda x: x.startswith('QE_'), colunas))\n",
    "print(\"10 primeiras colunas de questionário:\",questionario[:10])"
   ]
  },
  {
   "cell_type": "code",
   "execution_count": 43,
   "metadata": {},
   "outputs": [
    {
     "data": {
      "text/html": [
       "<div>\n",
       "<style scoped>\n",
       "    .dataframe tbody tr th:only-of-type {\n",
       "        vertical-align: middle;\n",
       "    }\n",
       "\n",
       "    .dataframe tbody tr th {\n",
       "        vertical-align: top;\n",
       "    }\n",
       "\n",
       "    .dataframe thead th {\n",
       "        text-align: right;\n",
       "    }\n",
       "</style>\n",
       "<table border=\"1\" class=\"dataframe\">\n",
       "  <thead>\n",
       "    <tr style=\"text-align: right;\">\n",
       "      <th></th>\n",
       "      <th>QE_I01</th>\n",
       "      <th>QE_I02</th>\n",
       "      <th>QE_I03</th>\n",
       "      <th>QE_I04</th>\n",
       "      <th>QE_I05</th>\n",
       "      <th>QE_I06</th>\n",
       "      <th>QE_I07</th>\n",
       "      <th>QE_I08</th>\n",
       "      <th>QE_I09</th>\n",
       "      <th>QE_I10</th>\n",
       "      <th>...</th>\n",
       "      <th>QE_I59</th>\n",
       "      <th>QE_I60</th>\n",
       "      <th>QE_I61</th>\n",
       "      <th>QE_I62</th>\n",
       "      <th>QE_I63</th>\n",
       "      <th>QE_I64</th>\n",
       "      <th>QE_I65</th>\n",
       "      <th>QE_I66</th>\n",
       "      <th>QE_I67</th>\n",
       "      <th>QE_I68</th>\n",
       "    </tr>\n",
       "  </thead>\n",
       "  <tbody>\n",
       "    <tr>\n",
       "      <th>0</th>\n",
       "      <td>A</td>\n",
       "      <td>D</td>\n",
       "      <td>A</td>\n",
       "      <td>A</td>\n",
       "      <td>D</td>\n",
       "      <td>B</td>\n",
       "      <td>D</td>\n",
       "      <td>B</td>\n",
       "      <td>A</td>\n",
       "      <td>A</td>\n",
       "      <td>...</td>\n",
       "      <td>6.0</td>\n",
       "      <td>6.0</td>\n",
       "      <td>5.0</td>\n",
       "      <td>4.0</td>\n",
       "      <td>4.0</td>\n",
       "      <td>2.0</td>\n",
       "      <td>2.0</td>\n",
       "      <td>6.0</td>\n",
       "      <td>6.0</td>\n",
       "      <td>4.0</td>\n",
       "    </tr>\n",
       "    <tr>\n",
       "      <th>1</th>\n",
       "      <td>A</td>\n",
       "      <td>D</td>\n",
       "      <td>A</td>\n",
       "      <td>B</td>\n",
       "      <td>B</td>\n",
       "      <td>B</td>\n",
       "      <td>D</td>\n",
       "      <td>A</td>\n",
       "      <td>A</td>\n",
       "      <td>A</td>\n",
       "      <td>...</td>\n",
       "      <td>5.0</td>\n",
       "      <td>5.0</td>\n",
       "      <td>4.0</td>\n",
       "      <td>3.0</td>\n",
       "      <td>3.0</td>\n",
       "      <td>2.0</td>\n",
       "      <td>2.0</td>\n",
       "      <td>2.0</td>\n",
       "      <td>2.0</td>\n",
       "      <td>3.0</td>\n",
       "    </tr>\n",
       "    <tr>\n",
       "      <th>2</th>\n",
       "      <td>A</td>\n",
       "      <td>C</td>\n",
       "      <td>A</td>\n",
       "      <td>D</td>\n",
       "      <td>D</td>\n",
       "      <td>A</td>\n",
       "      <td>C</td>\n",
       "      <td>A</td>\n",
       "      <td>A</td>\n",
       "      <td>A</td>\n",
       "      <td>...</td>\n",
       "      <td>2.0</td>\n",
       "      <td>4.0</td>\n",
       "      <td>1.0</td>\n",
       "      <td>5.0</td>\n",
       "      <td>2.0</td>\n",
       "      <td>4.0</td>\n",
       "      <td>1.0</td>\n",
       "      <td>5.0</td>\n",
       "      <td>6.0</td>\n",
       "      <td>6.0</td>\n",
       "    </tr>\n",
       "    <tr>\n",
       "      <th>3</th>\n",
       "      <td>B</td>\n",
       "      <td>D</td>\n",
       "      <td>A</td>\n",
       "      <td>C</td>\n",
       "      <td>A</td>\n",
       "      <td>C</td>\n",
       "      <td>C</td>\n",
       "      <td>C</td>\n",
       "      <td>E</td>\n",
       "      <td>E</td>\n",
       "      <td>...</td>\n",
       "      <td>6.0</td>\n",
       "      <td>6.0</td>\n",
       "      <td>3.0</td>\n",
       "      <td>6.0</td>\n",
       "      <td>6.0</td>\n",
       "      <td>6.0</td>\n",
       "      <td>6.0</td>\n",
       "      <td>6.0</td>\n",
       "      <td>3.0</td>\n",
       "      <td>4.0</td>\n",
       "    </tr>\n",
       "    <tr>\n",
       "      <th>4</th>\n",
       "      <td>B</td>\n",
       "      <td>A</td>\n",
       "      <td>A</td>\n",
       "      <td>D</td>\n",
       "      <td>D</td>\n",
       "      <td>C</td>\n",
       "      <td>D</td>\n",
       "      <td>F</td>\n",
       "      <td>F</td>\n",
       "      <td>D</td>\n",
       "      <td>...</td>\n",
       "      <td>4.0</td>\n",
       "      <td>3.0</td>\n",
       "      <td>3.0</td>\n",
       "      <td>4.0</td>\n",
       "      <td>3.0</td>\n",
       "      <td>5.0</td>\n",
       "      <td>4.0</td>\n",
       "      <td>3.0</td>\n",
       "      <td>4.0</td>\n",
       "      <td>3.0</td>\n",
       "    </tr>\n",
       "  </tbody>\n",
       "</table>\n",
       "<p>5 rows × 68 columns</p>\n",
       "</div>"
      ],
      "text/plain": [
       "  QE_I01 QE_I02 QE_I03 QE_I04 QE_I05 QE_I06 QE_I07 QE_I08 QE_I09 QE_I10  ...  \\\n",
       "0      A      D      A      A      D      B      D      B      A      A  ...   \n",
       "1      A      D      A      B      B      B      D      A      A      A  ...   \n",
       "2      A      C      A      D      D      A      C      A      A      A  ...   \n",
       "3      B      D      A      C      A      C      C      C      E      E  ...   \n",
       "4      B      A      A      D      D      C      D      F      F      D  ...   \n",
       "\n",
       "  QE_I59 QE_I60 QE_I61 QE_I62 QE_I63 QE_I64 QE_I65 QE_I66 QE_I67 QE_I68  \n",
       "0    6.0    6.0    5.0    4.0    4.0    2.0    2.0    6.0    6.0    4.0  \n",
       "1    5.0    5.0    4.0    3.0    3.0    2.0    2.0    2.0    2.0    3.0  \n",
       "2    2.0    4.0    1.0    5.0    2.0    4.0    1.0    5.0    6.0    6.0  \n",
       "3    6.0    6.0    3.0    6.0    6.0    6.0    6.0    6.0    3.0    4.0  \n",
       "4    4.0    3.0    3.0    4.0    3.0    5.0    4.0    3.0    4.0    3.0  \n",
       "\n",
       "[5 rows x 68 columns]"
      ]
     },
     "execution_count": 43,
     "metadata": {},
     "output_type": "execute_result"
    }
   ],
   "source": [
    "# Substituição dos valores do questionário\n",
    "# Questionário 16 tem um valor não catalogado.\n",
    "# Nos valores NaN, vou adicionar a moda dos valores por estar\n",
    "# Dentro de um conjunto de questões categóricas.\n",
    "egeral['QE_I16'] = egeral['QE_I16'].fillna(egeral['QE_I16'].mode())\n",
    "\n",
    "# Substuindo o resto:\n",
    "egeral[questionario[:26]] = egeral[questionario[:26]].fillna('Z')\n",
    "egeral[questionario[26:]] = egeral[questionario[26:]].fillna(7)\n",
    "egeral[questionario].head()"
   ]
  },
  {
   "cell_type": "code",
   "execution_count": 44,
   "metadata": {},
   "outputs": [
    {
     "data": {
      "text/plain": [
       "Index(['NT_GER', 'NT_FG', 'NT_OBJ_FG', 'NT_DIS_FG', 'NT_FG_D1', 'NT_FG_D1_PT',\n",
       "       'NT_FG_D1_CT', 'NT_FG_D2', 'NT_FG_D2_PT', 'NT_FG_D2_CT', 'NT_CE',\n",
       "       'NT_OBJ_CE', 'NT_DIS_CE', 'NT_CE_D1', 'NT_CE_D2', 'NT_CE_D3'],\n",
       "      dtype='object')"
      ]
     },
     "execution_count": 44,
     "metadata": {},
     "output_type": "execute_result"
    }
   ],
   "source": [
    "# Verificando quais colunas sobraram com valores faltantes:\n",
    "filtro_colunas_na = list(egeral.isnull().any())\n",
    "colunas_com_na = egeral.columns[filtro_colunas_na]\n",
    "colunas_com_na"
   ]
  },
  {
   "cell_type": "code",
   "execution_count": 45,
   "metadata": {},
   "outputs": [
    {
     "name": "stdout",
     "output_type": "stream",
     "text": [
      "Quantidade de alunos sem nota: 9\n"
     ]
    }
   ],
   "source": [
    "# Aparentemente alguns alunos estão sem as notas da prova\n",
    "# Isso pode ser devido a um erro dos dados, ou os alunos não estavam presentes na prova.\n",
    "# Verificarei quantos alunos estão sem a nota da prova.\n",
    "filtro_alunos_sem_nota = egeral[colunas_com_na].isnull().any(axis=1)\n",
    "alunos_sem_nota = egeral[filtro_alunos_sem_nota]\n",
    "print(\"Quantidade de alunos sem nota: {}\".format(len(alunos_sem_nota)))"
   ]
  },
  {
   "cell_type": "code",
   "execution_count": 46,
   "metadata": {},
   "outputs": [
    {
     "data": {
      "text/plain": [
       "3570    True\n",
       "3571    True\n",
       "3572    True\n",
       "3573    True\n",
       "3574    True\n",
       "3575    True\n",
       "3576    True\n",
       "3577    True\n",
       "3578    True\n",
       "dtype: bool"
      ]
     },
     "execution_count": 46,
     "metadata": {},
     "output_type": "execute_result"
    }
   ],
   "source": [
    "# Uma coisa interessante é que não existe alunos com apenas algumas notas faltando.\n",
    "# Todos eles não tem nenhuma das notas da prova, o que indica que eles faltaram a prova.\n",
    "alunos_sem_nota[colunas_com_na].isna().all(axis=1)"
   ]
  },
  {
   "cell_type": "code",
   "execution_count": 47,
   "metadata": {},
   "outputs": [
    {
     "data": {
      "text/html": [
       "<div>\n",
       "<style scoped>\n",
       "    .dataframe tbody tr th:only-of-type {\n",
       "        vertical-align: middle;\n",
       "    }\n",
       "\n",
       "    .dataframe tbody tr th {\n",
       "        vertical-align: top;\n",
       "    }\n",
       "\n",
       "    .dataframe thead th {\n",
       "        text-align: right;\n",
       "    }\n",
       "</style>\n",
       "<table border=\"1\" class=\"dataframe\">\n",
       "  <thead>\n",
       "    <tr style=\"text-align: right;\">\n",
       "      <th></th>\n",
       "      <th>NT_GER</th>\n",
       "      <th>NT_FG</th>\n",
       "      <th>NT_OBJ_FG</th>\n",
       "      <th>NT_DIS_FG</th>\n",
       "      <th>NT_FG_D1</th>\n",
       "      <th>NT_FG_D1_PT</th>\n",
       "      <th>NT_FG_D1_CT</th>\n",
       "      <th>NT_FG_D2</th>\n",
       "      <th>NT_FG_D2_PT</th>\n",
       "      <th>NT_FG_D2_CT</th>\n",
       "      <th>NT_CE</th>\n",
       "      <th>NT_OBJ_CE</th>\n",
       "      <th>NT_DIS_CE</th>\n",
       "      <th>NT_CE_D1</th>\n",
       "      <th>NT_CE_D2</th>\n",
       "      <th>NT_CE_D3</th>\n",
       "    </tr>\n",
       "  </thead>\n",
       "  <tbody>\n",
       "    <tr>\n",
       "      <th>3570</th>\n",
       "      <td>0.0</td>\n",
       "      <td>0.0</td>\n",
       "      <td>0.0</td>\n",
       "      <td>0.0</td>\n",
       "      <td>0.0</td>\n",
       "      <td>0.0</td>\n",
       "      <td>0.0</td>\n",
       "      <td>0.0</td>\n",
       "      <td>0.0</td>\n",
       "      <td>0.0</td>\n",
       "      <td>0.0</td>\n",
       "      <td>0.0</td>\n",
       "      <td>0.0</td>\n",
       "      <td>0.0</td>\n",
       "      <td>0.0</td>\n",
       "      <td>0.0</td>\n",
       "    </tr>\n",
       "    <tr>\n",
       "      <th>3571</th>\n",
       "      <td>0.0</td>\n",
       "      <td>0.0</td>\n",
       "      <td>0.0</td>\n",
       "      <td>0.0</td>\n",
       "      <td>0.0</td>\n",
       "      <td>0.0</td>\n",
       "      <td>0.0</td>\n",
       "      <td>0.0</td>\n",
       "      <td>0.0</td>\n",
       "      <td>0.0</td>\n",
       "      <td>0.0</td>\n",
       "      <td>0.0</td>\n",
       "      <td>0.0</td>\n",
       "      <td>0.0</td>\n",
       "      <td>0.0</td>\n",
       "      <td>0.0</td>\n",
       "    </tr>\n",
       "    <tr>\n",
       "      <th>3572</th>\n",
       "      <td>0.0</td>\n",
       "      <td>0.0</td>\n",
       "      <td>0.0</td>\n",
       "      <td>0.0</td>\n",
       "      <td>0.0</td>\n",
       "      <td>0.0</td>\n",
       "      <td>0.0</td>\n",
       "      <td>0.0</td>\n",
       "      <td>0.0</td>\n",
       "      <td>0.0</td>\n",
       "      <td>0.0</td>\n",
       "      <td>0.0</td>\n",
       "      <td>0.0</td>\n",
       "      <td>0.0</td>\n",
       "      <td>0.0</td>\n",
       "      <td>0.0</td>\n",
       "    </tr>\n",
       "    <tr>\n",
       "      <th>3573</th>\n",
       "      <td>0.0</td>\n",
       "      <td>0.0</td>\n",
       "      <td>0.0</td>\n",
       "      <td>0.0</td>\n",
       "      <td>0.0</td>\n",
       "      <td>0.0</td>\n",
       "      <td>0.0</td>\n",
       "      <td>0.0</td>\n",
       "      <td>0.0</td>\n",
       "      <td>0.0</td>\n",
       "      <td>0.0</td>\n",
       "      <td>0.0</td>\n",
       "      <td>0.0</td>\n",
       "      <td>0.0</td>\n",
       "      <td>0.0</td>\n",
       "      <td>0.0</td>\n",
       "    </tr>\n",
       "    <tr>\n",
       "      <th>3574</th>\n",
       "      <td>0.0</td>\n",
       "      <td>0.0</td>\n",
       "      <td>0.0</td>\n",
       "      <td>0.0</td>\n",
       "      <td>0.0</td>\n",
       "      <td>0.0</td>\n",
       "      <td>0.0</td>\n",
       "      <td>0.0</td>\n",
       "      <td>0.0</td>\n",
       "      <td>0.0</td>\n",
       "      <td>0.0</td>\n",
       "      <td>0.0</td>\n",
       "      <td>0.0</td>\n",
       "      <td>0.0</td>\n",
       "      <td>0.0</td>\n",
       "      <td>0.0</td>\n",
       "    </tr>\n",
       "    <tr>\n",
       "      <th>3575</th>\n",
       "      <td>0.0</td>\n",
       "      <td>0.0</td>\n",
       "      <td>0.0</td>\n",
       "      <td>0.0</td>\n",
       "      <td>0.0</td>\n",
       "      <td>0.0</td>\n",
       "      <td>0.0</td>\n",
       "      <td>0.0</td>\n",
       "      <td>0.0</td>\n",
       "      <td>0.0</td>\n",
       "      <td>0.0</td>\n",
       "      <td>0.0</td>\n",
       "      <td>0.0</td>\n",
       "      <td>0.0</td>\n",
       "      <td>0.0</td>\n",
       "      <td>0.0</td>\n",
       "    </tr>\n",
       "    <tr>\n",
       "      <th>3576</th>\n",
       "      <td>0.0</td>\n",
       "      <td>0.0</td>\n",
       "      <td>0.0</td>\n",
       "      <td>0.0</td>\n",
       "      <td>0.0</td>\n",
       "      <td>0.0</td>\n",
       "      <td>0.0</td>\n",
       "      <td>0.0</td>\n",
       "      <td>0.0</td>\n",
       "      <td>0.0</td>\n",
       "      <td>0.0</td>\n",
       "      <td>0.0</td>\n",
       "      <td>0.0</td>\n",
       "      <td>0.0</td>\n",
       "      <td>0.0</td>\n",
       "      <td>0.0</td>\n",
       "    </tr>\n",
       "    <tr>\n",
       "      <th>3577</th>\n",
       "      <td>0.0</td>\n",
       "      <td>0.0</td>\n",
       "      <td>0.0</td>\n",
       "      <td>0.0</td>\n",
       "      <td>0.0</td>\n",
       "      <td>0.0</td>\n",
       "      <td>0.0</td>\n",
       "      <td>0.0</td>\n",
       "      <td>0.0</td>\n",
       "      <td>0.0</td>\n",
       "      <td>0.0</td>\n",
       "      <td>0.0</td>\n",
       "      <td>0.0</td>\n",
       "      <td>0.0</td>\n",
       "      <td>0.0</td>\n",
       "      <td>0.0</td>\n",
       "    </tr>\n",
       "    <tr>\n",
       "      <th>3578</th>\n",
       "      <td>0.0</td>\n",
       "      <td>0.0</td>\n",
       "      <td>0.0</td>\n",
       "      <td>0.0</td>\n",
       "      <td>0.0</td>\n",
       "      <td>0.0</td>\n",
       "      <td>0.0</td>\n",
       "      <td>0.0</td>\n",
       "      <td>0.0</td>\n",
       "      <td>0.0</td>\n",
       "      <td>0.0</td>\n",
       "      <td>0.0</td>\n",
       "      <td>0.0</td>\n",
       "      <td>0.0</td>\n",
       "      <td>0.0</td>\n",
       "      <td>0.0</td>\n",
       "    </tr>\n",
       "  </tbody>\n",
       "</table>\n",
       "</div>"
      ],
      "text/plain": [
       "      NT_GER  NT_FG  NT_OBJ_FG  NT_DIS_FG  NT_FG_D1  NT_FG_D1_PT  NT_FG_D1_CT  \\\n",
       "3570     0.0    0.0        0.0        0.0       0.0          0.0          0.0   \n",
       "3571     0.0    0.0        0.0        0.0       0.0          0.0          0.0   \n",
       "3572     0.0    0.0        0.0        0.0       0.0          0.0          0.0   \n",
       "3573     0.0    0.0        0.0        0.0       0.0          0.0          0.0   \n",
       "3574     0.0    0.0        0.0        0.0       0.0          0.0          0.0   \n",
       "3575     0.0    0.0        0.0        0.0       0.0          0.0          0.0   \n",
       "3576     0.0    0.0        0.0        0.0       0.0          0.0          0.0   \n",
       "3577     0.0    0.0        0.0        0.0       0.0          0.0          0.0   \n",
       "3578     0.0    0.0        0.0        0.0       0.0          0.0          0.0   \n",
       "\n",
       "      NT_FG_D2  NT_FG_D2_PT  NT_FG_D2_CT  NT_CE  NT_OBJ_CE  NT_DIS_CE  \\\n",
       "3570       0.0          0.0          0.0    0.0        0.0        0.0   \n",
       "3571       0.0          0.0          0.0    0.0        0.0        0.0   \n",
       "3572       0.0          0.0          0.0    0.0        0.0        0.0   \n",
       "3573       0.0          0.0          0.0    0.0        0.0        0.0   \n",
       "3574       0.0          0.0          0.0    0.0        0.0        0.0   \n",
       "3575       0.0          0.0          0.0    0.0        0.0        0.0   \n",
       "3576       0.0          0.0          0.0    0.0        0.0        0.0   \n",
       "3577       0.0          0.0          0.0    0.0        0.0        0.0   \n",
       "3578       0.0          0.0          0.0    0.0        0.0        0.0   \n",
       "\n",
       "      NT_CE_D1  NT_CE_D2  NT_CE_D3  \n",
       "3570       0.0       0.0       0.0  \n",
       "3571       0.0       0.0       0.0  \n",
       "3572       0.0       0.0       0.0  \n",
       "3573       0.0       0.0       0.0  \n",
       "3574       0.0       0.0       0.0  \n",
       "3575       0.0       0.0       0.0  \n",
       "3576       0.0       0.0       0.0  \n",
       "3577       0.0       0.0       0.0  \n",
       "3578       0.0       0.0       0.0  "
      ]
     },
     "execution_count": 47,
     "metadata": {},
     "output_type": "execute_result"
    }
   ],
   "source": [
    "# Devido a isso, temos duas opções: Remover estes alunos da base de dados\n",
    "# Para estudar o comportamento apenas dos alunos que participaram, ou dar\n",
    "# A nota 0 para estes alunos que faltaram e contar com eles na análise de todos os alunos.\n",
    "# Como esses alunos sem nota são um número pequeno comparado com a quantidade total de alunos\n",
    "# 9 comparado com 3579 então darei a estes alunos a nota 0 pois os mesmo não terão muita\n",
    "# Influência no resultado das análises posteriores.\n",
    "\n",
    "egeral[colunas_com_na] = egeral[colunas_com_na].fillna(0)\n",
    "egeral[colunas_com_na].iloc[alunos_sem_nota.index]"
   ]
  },
  {
   "cell_type": "code",
   "execution_count": 48,
   "metadata": {},
   "outputs": [
    {
     "data": {
      "text/plain": [
       "0"
      ]
     },
     "execution_count": 48,
     "metadata": {},
     "output_type": "execute_result"
    }
   ],
   "source": [
    "# Verificando se tem alguma coluna com valor NaN\n",
    "# Caso exista, a soma abaixo gera um valor maior que 0\n",
    "sum(egeral.isnull().any())"
   ]
  },
  {
   "cell_type": "markdown",
   "metadata": {},
   "source": [
    "#### Consultando os dados e comparando distribuições"
   ]
  },
  {
   "cell_type": "markdown",
   "metadata": {},
   "source": [
    "<div class=\"alert alert-info\">\n",
    "<b>3</b> - Considerando as distribuições de notas, quem se saiu melhor, os alunos da modalidade presencial ou à distância? _Dica_: boxplots são ótimos para comparar distribuições\n",
    "</div>"
   ]
  },
  {
   "cell_type": "markdown",
   "metadata": {},
   "source": [
    "Para várias questões a partir daqui, vamos eventualmente usar um dataframe extra, onde criamos colunas novas, em geral, que servem para fornecer descrição para outra colunas."
   ]
  },
  {
   "cell_type": "code",
   "execution_count": 49,
   "metadata": {},
   "outputs": [],
   "source": [
    "data = egeral.copy()\n",
    "# Escolhendo colunas\n",
    "colunas = ['NT_GER', 'CO_MODALIDADE']\n",
    "data = data[colunas]"
   ]
  },
  {
   "cell_type": "code",
   "execution_count": 50,
   "metadata": {},
   "outputs": [],
   "source": [
    "# Modalidades:\n",
    "# 0 - Distância\n",
    "# 1 - Presencial\n",
    "notas_dist = data[data['CO_MODALIDADE'] == 0]['NT_GER']\n",
    "notas_pres = data[data['CO_MODALIDADE'] == 1]['NT_GER']"
   ]
  },
  {
   "cell_type": "code",
   "execution_count": 51,
   "metadata": {},
   "outputs": [],
   "source": [
    "# Transformando dados numéricos para categorias\n",
    "data['CO_MODALIDADE'] = data['CO_MODALIDADE'].apply(lambda x: 'Distância' if x == 0 else 'Presencial')"
   ]
  },
  {
   "cell_type": "code",
   "execution_count": 52,
   "metadata": {},
   "outputs": [
    {
     "data": {
      "text/html": [
       "<div>\n",
       "<style scoped>\n",
       "    .dataframe tbody tr th:only-of-type {\n",
       "        vertical-align: middle;\n",
       "    }\n",
       "\n",
       "    .dataframe tbody tr th {\n",
       "        vertical-align: top;\n",
       "    }\n",
       "\n",
       "    .dataframe thead tr th {\n",
       "        text-align: left;\n",
       "    }\n",
       "\n",
       "    .dataframe thead tr:last-of-type th {\n",
       "        text-align: right;\n",
       "    }\n",
       "</style>\n",
       "<table border=\"1\" class=\"dataframe\">\n",
       "  <thead>\n",
       "    <tr>\n",
       "      <th></th>\n",
       "      <th colspan=\"8\" halign=\"left\">NT_GER</th>\n",
       "    </tr>\n",
       "    <tr>\n",
       "      <th></th>\n",
       "      <th>count</th>\n",
       "      <th>mean</th>\n",
       "      <th>std</th>\n",
       "      <th>min</th>\n",
       "      <th>25%</th>\n",
       "      <th>50%</th>\n",
       "      <th>75%</th>\n",
       "      <th>max</th>\n",
       "    </tr>\n",
       "    <tr>\n",
       "      <th>CO_MODALIDADE</th>\n",
       "      <th></th>\n",
       "      <th></th>\n",
       "      <th></th>\n",
       "      <th></th>\n",
       "      <th></th>\n",
       "      <th></th>\n",
       "      <th></th>\n",
       "      <th></th>\n",
       "    </tr>\n",
       "  </thead>\n",
       "  <tbody>\n",
       "    <tr>\n",
       "      <th>Distância</th>\n",
       "      <td>324.0</td>\n",
       "      <td>37.679938</td>\n",
       "      <td>14.300124</td>\n",
       "      <td>0.0</td>\n",
       "      <td>27.4</td>\n",
       "      <td>36.3</td>\n",
       "      <td>45.875</td>\n",
       "      <td>82.4</td>\n",
       "    </tr>\n",
       "    <tr>\n",
       "      <th>Presencial</th>\n",
       "      <td>3255.0</td>\n",
       "      <td>40.050323</td>\n",
       "      <td>13.862370</td>\n",
       "      <td>0.0</td>\n",
       "      <td>30.7</td>\n",
       "      <td>39.3</td>\n",
       "      <td>49.000</td>\n",
       "      <td>87.0</td>\n",
       "    </tr>\n",
       "  </tbody>\n",
       "</table>\n",
       "</div>"
      ],
      "text/plain": [
       "               NT_GER                                                     \n",
       "                count       mean        std  min   25%   50%     75%   max\n",
       "CO_MODALIDADE                                                             \n",
       "Distância       324.0  37.679938  14.300124  0.0  27.4  36.3  45.875  82.4\n",
       "Presencial     3255.0  40.050323  13.862370  0.0  30.7  39.3  49.000  87.0"
      ]
     },
     "execution_count": 52,
     "metadata": {},
     "output_type": "execute_result"
    }
   ],
   "source": [
    "# Verificando distribuição dos dados\n",
    "data.groupby(by='CO_MODALIDADE').describe()"
   ]
  },
  {
   "cell_type": "code",
   "execution_count": 53,
   "metadata": {},
   "outputs": [
    {
     "data": {
      "image/png": "[encoded data removed]",
      "text/plain": [
       "<Figure size 432x432 with 1 Axes>"
      ]
     },
     "metadata": {
      "needs_background": "light"
     },
     "output_type": "display_data"
    }
   ],
   "source": [
    "bp(data, 'CO_MODALIDADE', 'Boxplot: Modalidade e Nota', 'Modalidade', 'Nota')"
   ]
  },
  {
   "cell_type": "code",
   "execution_count": 54,
   "metadata": {},
   "outputs": [
    {
     "data": {
      "image/png": "[encoded data removed]",
      "text/plain": [
       "<Figure size 576x360 with 1 Axes>"
      ]
     },
     "metadata": {
      "needs_background": "light"
     },
     "output_type": "display_data"
    }
   ],
   "source": [
    "# Plotando histograma de densidade\n",
    "fig, ax = plt.subplots(figsize=(8,5))\n",
    "plt.hist([notas_dist, notas_pres], density=True, bins=10)\n",
    "_ = plt.title('Histograma: Densidade de Notas')\n",
    "_ = plt.xlabel(\"Nota\")\n",
    "_ = plt.ylabel(\"Quantidade de Pessoas (Normalizado)\")\n",
    "_ = plt.legend([\"Distância\", \"Presencial\"])"
   ]
  },
  {
   "cell_type": "markdown",
   "metadata": {},
   "source": [
    "Explique os resultados obtidos."
   ]
  },
  {
   "cell_type": "markdown",
   "metadata": {},
   "source": [
    "### Resposta 3:\n",
    "\n",
    "Com o gráfico de caixa, podemos ver que a média dos alunos da modalidade presencial é maior que a média dos alunos a distância. É notável também que embora as notas dos alunos da modalidade presencial sejam mais distantes da média, temos uma maior concentração de notas acima do limite que considera outliers.\n",
    "\n",
    "Olhando para o histograma de densidade, podemos confirmar que os alunos da modalidade presencial tendem a tirar notas maiores que os alunos da modalidade a distância, pois há uma maior porcentagem de alunos da modalidade presencial com nota acima de 40 comparados com os alunos da modalidade a distância."
   ]
  },
  {
   "cell_type": "markdown",
   "metadata": {},
   "source": [
    "<div class=\"alert alert-info\">\n",
    "<b>4</b> - Novamente considere as distribuições de notas. Como se comparam os alunos do turno noturno com os dos demais turnos? Há mais alunos estudando ao dia ou à noite? \n",
    "</div> "
   ]
  },
  {
   "cell_type": "code",
   "execution_count": 55,
   "metadata": {},
   "outputs": [
    {
     "data": {
      "text/html": [
       "<div>\n",
       "<style scoped>\n",
       "    .dataframe tbody tr th:only-of-type {\n",
       "        vertical-align: middle;\n",
       "    }\n",
       "\n",
       "    .dataframe tbody tr th {\n",
       "        vertical-align: top;\n",
       "    }\n",
       "\n",
       "    .dataframe thead th {\n",
       "        text-align: right;\n",
       "    }\n",
       "</style>\n",
       "<table border=\"1\" class=\"dataframe\">\n",
       "  <thead>\n",
       "    <tr style=\"text-align: right;\">\n",
       "      <th></th>\n",
       "      <th>NT_GER</th>\n",
       "      <th>CO_TURNO_GRADUACAO</th>\n",
       "    </tr>\n",
       "  </thead>\n",
       "  <tbody>\n",
       "    <tr>\n",
       "      <th>0</th>\n",
       "      <td>12.1</td>\n",
       "      <td>1.0</td>\n",
       "    </tr>\n",
       "    <tr>\n",
       "      <th>1</th>\n",
       "      <td>25.1</td>\n",
       "      <td>1.0</td>\n",
       "    </tr>\n",
       "    <tr>\n",
       "      <th>2</th>\n",
       "      <td>47.3</td>\n",
       "      <td>1.0</td>\n",
       "    </tr>\n",
       "    <tr>\n",
       "      <th>3</th>\n",
       "      <td>24.4</td>\n",
       "      <td>4.0</td>\n",
       "    </tr>\n",
       "    <tr>\n",
       "      <th>4</th>\n",
       "      <td>64.9</td>\n",
       "      <td>4.0</td>\n",
       "    </tr>\n",
       "  </tbody>\n",
       "</table>\n",
       "</div>"
      ],
      "text/plain": [
       "   NT_GER  CO_TURNO_GRADUACAO\n",
       "0    12.1                 1.0\n",
       "1    25.1                 1.0\n",
       "2    47.3                 1.0\n",
       "3    24.4                 4.0\n",
       "4    64.9                 4.0"
      ]
     },
     "execution_count": 55,
     "metadata": {},
     "output_type": "execute_result"
    }
   ],
   "source": [
    "# Novo dataframe\n",
    "data = egeral.copy()\n",
    "colunas = ['NT_GER', 'CO_TURNO_GRADUACAO']\n",
    "data = data[colunas]\n",
    "data.head()"
   ]
  },
  {
   "cell_type": "code",
   "execution_count": 56,
   "metadata": {},
   "outputs": [
    {
     "name": "stdout",
     "output_type": "stream",
     "text": [
      "Quantida de alunos:  3579\n"
     ]
    }
   ],
   "source": [
    "# Quantidade de alunos no total\n",
    "print(\"Quantida de alunos: \", len(data))"
   ]
  },
  {
   "cell_type": "code",
   "execution_count": 57,
   "metadata": {},
   "outputs": [],
   "source": [
    "# Transformando dados numéricos para categorias\n",
    "categorias = ['Matutino', 'Vespertino', 'Integral', 'Noturno']\n",
    "data['CO_TURNO_GRADUACAO'] = data['CO_TURNO_GRADUACAO'].apply(lambda x: categorias[int(x) - 1])"
   ]
  },
  {
   "cell_type": "code",
   "execution_count": 58,
   "metadata": {},
   "outputs": [
    {
     "data": {
      "text/html": [
       "<div>\n",
       "<style scoped>\n",
       "    .dataframe tbody tr th:only-of-type {\n",
       "        vertical-align: middle;\n",
       "    }\n",
       "\n",
       "    .dataframe tbody tr th {\n",
       "        vertical-align: top;\n",
       "    }\n",
       "\n",
       "    .dataframe thead tr th {\n",
       "        text-align: left;\n",
       "    }\n",
       "\n",
       "    .dataframe thead tr:last-of-type th {\n",
       "        text-align: right;\n",
       "    }\n",
       "</style>\n",
       "<table border=\"1\" class=\"dataframe\">\n",
       "  <thead>\n",
       "    <tr>\n",
       "      <th></th>\n",
       "      <th colspan=\"8\" halign=\"left\">NT_GER</th>\n",
       "    </tr>\n",
       "    <tr>\n",
       "      <th></th>\n",
       "      <th>count</th>\n",
       "      <th>mean</th>\n",
       "      <th>std</th>\n",
       "      <th>min</th>\n",
       "      <th>25%</th>\n",
       "      <th>50%</th>\n",
       "      <th>75%</th>\n",
       "      <th>max</th>\n",
       "    </tr>\n",
       "    <tr>\n",
       "      <th>CO_TURNO_GRADUACAO</th>\n",
       "      <th></th>\n",
       "      <th></th>\n",
       "      <th></th>\n",
       "      <th></th>\n",
       "      <th></th>\n",
       "      <th></th>\n",
       "      <th></th>\n",
       "      <th></th>\n",
       "    </tr>\n",
       "  </thead>\n",
       "  <tbody>\n",
       "    <tr>\n",
       "      <th>Integral</th>\n",
       "      <td>928.0</td>\n",
       "      <td>40.665948</td>\n",
       "      <td>14.035016</td>\n",
       "      <td>0.0</td>\n",
       "      <td>31.375</td>\n",
       "      <td>40.0</td>\n",
       "      <td>50.125</td>\n",
       "      <td>79.7</td>\n",
       "    </tr>\n",
       "    <tr>\n",
       "      <th>Matutino</th>\n",
       "      <td>510.0</td>\n",
       "      <td>39.046863</td>\n",
       "      <td>14.167813</td>\n",
       "      <td>0.0</td>\n",
       "      <td>29.800</td>\n",
       "      <td>37.5</td>\n",
       "      <td>47.450</td>\n",
       "      <td>87.0</td>\n",
       "    </tr>\n",
       "    <tr>\n",
       "      <th>Noturno</th>\n",
       "      <td>1682.0</td>\n",
       "      <td>40.222354</td>\n",
       "      <td>13.886250</td>\n",
       "      <td>0.0</td>\n",
       "      <td>30.900</td>\n",
       "      <td>39.4</td>\n",
       "      <td>49.000</td>\n",
       "      <td>82.9</td>\n",
       "    </tr>\n",
       "    <tr>\n",
       "      <th>Vespertino</th>\n",
       "      <td>459.0</td>\n",
       "      <td>37.616993</td>\n",
       "      <td>13.268244</td>\n",
       "      <td>0.0</td>\n",
       "      <td>28.450</td>\n",
       "      <td>36.1</td>\n",
       "      <td>46.800</td>\n",
       "      <td>84.7</td>\n",
       "    </tr>\n",
       "  </tbody>\n",
       "</table>\n",
       "</div>"
      ],
      "text/plain": [
       "                    NT_GER                                                   \\\n",
       "                     count       mean        std  min     25%   50%     75%   \n",
       "CO_TURNO_GRADUACAO                                                            \n",
       "Integral             928.0  40.665948  14.035016  0.0  31.375  40.0  50.125   \n",
       "Matutino             510.0  39.046863  14.167813  0.0  29.800  37.5  47.450   \n",
       "Noturno             1682.0  40.222354  13.886250  0.0  30.900  39.4  49.000   \n",
       "Vespertino           459.0  37.616993  13.268244  0.0  28.450  36.1  46.800   \n",
       "\n",
       "                          \n",
       "                     max  \n",
       "CO_TURNO_GRADUACAO        \n",
       "Integral            79.7  \n",
       "Matutino            87.0  \n",
       "Noturno             82.9  \n",
       "Vespertino          84.7  "
      ]
     },
     "execution_count": 58,
     "metadata": {},
     "output_type": "execute_result"
    }
   ],
   "source": [
    "# Dados sobre turnos\n",
    "data.groupby(by='CO_TURNO_GRADUACAO').describe()"
   ]
  },
  {
   "cell_type": "code",
   "execution_count": 59,
   "metadata": {},
   "outputs": [
    {
     "data": {
      "image/png": "[encoded data removed]",
      "text/plain": [
       "<Figure size 432x432 with 1 Axes>"
      ]
     },
     "metadata": {
      "needs_background": "light"
     },
     "output_type": "display_data"
    }
   ],
   "source": [
    "# Plotando gráfico\n",
    "bp(data, 'CO_TURNO_GRADUACAO', 'Boxplot: Turno e Nota', 'Turno', 'Nota')"
   ]
  },
  {
   "cell_type": "markdown",
   "metadata": {},
   "source": [
    "Explique os resultados obtidos."
   ]
  },
  {
   "cell_type": "markdown",
   "metadata": {},
   "source": [
    "### Resposta 4:\n",
    "\n",
    "**4.1:** O turno noturno, em média, tem notas maiores que os turnos matutino e vespertino, mas se sai pior que o turno integral.\n",
    "\n",
    "O turno noturno, quando comparado ao turno integral, tem um número maior de outliers. Isso pode indicar que existe uma maior variabilidade entre as notas dos alunos do turno noturno, enquanto os alunos de tempo integral tendem a tirar notas mais próximas da média.\n",
    "\n",
    "**4.2:** Existem 3579 na base de dados, sendo 1682 do período noturno e 1897 dos turnos restantes combinados, portanto, se considerarmos o período integral como manhã e tarde, há um número maior de alunos estudando ao dia que à noite."
   ]
  },
  {
   "cell_type": "markdown",
   "metadata": {},
   "source": [
    "<div class=\"alert alert-info\">\n",
    "<b>5</b> - Em geral, o MEC acredita que **não** há importantes diferenças de desepenho entre alunos quotistas e não quotistas. Isto é o que você observa, considerando as distribuições de notas dos dois grupos? _Dica_: não são quotistas os alunos que responderam A à pergunta QE_I15.\n",
    "</div>"
   ]
  },
  {
   "cell_type": "code",
   "execution_count": 60,
   "metadata": {},
   "outputs": [
    {
     "data": {
      "text/html": [
       "<div>\n",
       "<style scoped>\n",
       "    .dataframe tbody tr th:only-of-type {\n",
       "        vertical-align: middle;\n",
       "    }\n",
       "\n",
       "    .dataframe tbody tr th {\n",
       "        vertical-align: top;\n",
       "    }\n",
       "\n",
       "    .dataframe thead th {\n",
       "        text-align: right;\n",
       "    }\n",
       "</style>\n",
       "<table border=\"1\" class=\"dataframe\">\n",
       "  <thead>\n",
       "    <tr style=\"text-align: right;\">\n",
       "      <th></th>\n",
       "      <th>NT_GER</th>\n",
       "      <th>QE_I15</th>\n",
       "    </tr>\n",
       "  </thead>\n",
       "  <tbody>\n",
       "    <tr>\n",
       "      <th>0</th>\n",
       "      <td>12.1</td>\n",
       "      <td>D</td>\n",
       "    </tr>\n",
       "    <tr>\n",
       "      <th>1</th>\n",
       "      <td>25.1</td>\n",
       "      <td>C</td>\n",
       "    </tr>\n",
       "    <tr>\n",
       "      <th>2</th>\n",
       "      <td>47.3</td>\n",
       "      <td>A</td>\n",
       "    </tr>\n",
       "    <tr>\n",
       "      <th>3</th>\n",
       "      <td>24.4</td>\n",
       "      <td>B</td>\n",
       "    </tr>\n",
       "    <tr>\n",
       "      <th>4</th>\n",
       "      <td>64.9</td>\n",
       "      <td>A</td>\n",
       "    </tr>\n",
       "  </tbody>\n",
       "</table>\n",
       "</div>"
      ],
      "text/plain": [
       "   NT_GER QE_I15\n",
       "0    12.1      D\n",
       "1    25.1      C\n",
       "2    47.3      A\n",
       "3    24.4      B\n",
       "4    64.9      A"
      ]
     },
     "execution_count": 60,
     "metadata": {},
     "output_type": "execute_result"
    }
   ],
   "source": [
    "colunas = ['NT_GER', 'QE_I15']\n",
    "data = egeral[colunas]\n",
    "data.head()"
   ]
  },
  {
   "cell_type": "code",
   "execution_count": 61,
   "metadata": {},
   "outputs": [],
   "source": [
    "# Removendo dados com Z por não ter resposta\n",
    "data = data.drop(data[data['QE_I15'] == 'Z'].index)"
   ]
  },
  {
   "cell_type": "code",
   "execution_count": 62,
   "metadata": {},
   "outputs": [
    {
     "data": {
      "image/png": "[encoded data removed]",
      "text/plain": [
       "<Figure size 432x432 with 1 Axes>"
      ]
     },
     "metadata": {
      "needs_background": "light"
     },
     "output_type": "display_data"
    }
   ],
   "source": [
    "# Plotando gráfico\n",
    "bp(data, 'QE_I15', 'Boxplot: Categorias de Quota', 'Categoria', 'Nota')"
   ]
  },
  {
   "cell_type": "code",
   "execution_count": 63,
   "metadata": {},
   "outputs": [],
   "source": [
    "# Juntando alunos cotistas em uma categoria:\n",
    "data['QE_I15'] = data['QE_I15'].apply(lambda x: 'Q' if x != 'A' else 'A')"
   ]
  },
  {
   "cell_type": "code",
   "execution_count": 64,
   "metadata": {},
   "outputs": [
    {
     "data": {
      "image/png": "[encoded data removed]",
      "text/plain": [
       "<Figure size 432x432 with 1 Axes>"
      ]
     },
     "metadata": {
      "needs_background": "light"
     },
     "output_type": "display_data"
    }
   ],
   "source": [
    "# Plotando Gráfico\n",
    "bp(data, 'QE_I15', 'Boxplot: Categorias de Quota', 'Categoria', 'Nota')"
   ]
  },
  {
   "cell_type": "markdown",
   "metadata": {},
   "source": [
    "Explique os resultados obtidos."
   ]
  },
  {
   "cell_type": "markdown",
   "metadata": {},
   "source": []
  },
  {
   "cell_type": "markdown",
   "metadata": {},
   "source": [
    "<div class=\"alert alert-info\">\n",
    "<b>6</b> - Como se comparam os desempenhos dos alunos de instituíções públicas, privadas sem fim lucrativo e privadas com fim lucrativo?\n",
    "</div>"
   ]
  },
  {
   "cell_type": "code",
   "execution_count": 65,
   "metadata": {},
   "outputs": [
    {
     "data": {
      "text/html": [
       "<div>\n",
       "<style scoped>\n",
       "    .dataframe tbody tr th:only-of-type {\n",
       "        vertical-align: middle;\n",
       "    }\n",
       "\n",
       "    .dataframe tbody tr th {\n",
       "        vertical-align: top;\n",
       "    }\n",
       "\n",
       "    .dataframe thead th {\n",
       "        text-align: right;\n",
       "    }\n",
       "</style>\n",
       "<table border=\"1\" class=\"dataframe\">\n",
       "  <thead>\n",
       "    <tr style=\"text-align: right;\">\n",
       "      <th></th>\n",
       "      <th>NT_GER</th>\n",
       "      <th>CO_CATEGAD</th>\n",
       "    </tr>\n",
       "  </thead>\n",
       "  <tbody>\n",
       "    <tr>\n",
       "      <th>0</th>\n",
       "      <td>12.1</td>\n",
       "      <td>1</td>\n",
       "    </tr>\n",
       "    <tr>\n",
       "      <th>1</th>\n",
       "      <td>25.1</td>\n",
       "      <td>1</td>\n",
       "    </tr>\n",
       "    <tr>\n",
       "      <th>2</th>\n",
       "      <td>47.3</td>\n",
       "      <td>1</td>\n",
       "    </tr>\n",
       "    <tr>\n",
       "      <th>3</th>\n",
       "      <td>24.4</td>\n",
       "      <td>1</td>\n",
       "    </tr>\n",
       "    <tr>\n",
       "      <th>4</th>\n",
       "      <td>64.9</td>\n",
       "      <td>1</td>\n",
       "    </tr>\n",
       "  </tbody>\n",
       "</table>\n",
       "</div>"
      ],
      "text/plain": [
       "   NT_GER  CO_CATEGAD\n",
       "0    12.1           1\n",
       "1    25.1           1\n",
       "2    47.3           1\n",
       "3    24.4           1\n",
       "4    64.9           1"
      ]
     },
     "execution_count": 65,
     "metadata": {},
     "output_type": "execute_result"
    }
   ],
   "source": [
    "data = egeral.copy()\n",
    "colunas = ['NT_GER', 'CO_CATEGAD']\n",
    "data = data[colunas]\n",
    "data.head()"
   ]
  },
  {
   "cell_type": "code",
   "execution_count": 66,
   "metadata": {},
   "outputs": [],
   "source": [
    "# Removendo dados com 7 por não ter resposta\n",
    "data = data.drop(data[data['CO_CATEGAD'] == 7].index)"
   ]
  },
  {
   "cell_type": "code",
   "execution_count": 67,
   "metadata": {},
   "outputs": [
    {
     "data": {
      "text/plain": [
       "[1, 2, 3, 4, 5]"
      ]
     },
     "execution_count": 67,
     "metadata": {},
     "output_type": "execute_result"
    }
   ],
   "source": [
    "sorted(data['CO_CATEGAD'].unique())"
   ]
  },
  {
   "cell_type": "code",
   "execution_count": 68,
   "metadata": {},
   "outputs": [],
   "source": [
    "categorias = ['Pública\\nFederal', 'Pública\\nEstadual', 'Pública\\nMunicipal',\n",
    "              'Privada\\ncom FL', 'Privada\\nsem FL', 'Especial']\n",
    "data['CO_CATEGAD'] = data['CO_CATEGAD'].apply(lambda x: categorias[x - 1])"
   ]
  },
  {
   "cell_type": "code",
   "execution_count": 69,
   "metadata": {},
   "outputs": [
    {
     "data": {
      "image/png": "[encoded data removed]",
      "text/plain": [
       "<Figure size 432x432 with 1 Axes>"
      ]
     },
     "metadata": {
      "needs_background": "light"
     },
     "output_type": "display_data"
    }
   ],
   "source": [
    "# Plotando gráfico\n",
    "bp(data, 'CO_CATEGAD', 'Boxplot: Categorias de Instituição', 'Categoria', 'Nota')"
   ]
  },
  {
   "cell_type": "markdown",
   "metadata": {},
   "source": [
    "Comente sobre os resultados obtidos."
   ]
  },
  {
   "cell_type": "markdown",
   "metadata": {},
   "source": []
  },
  {
   "cell_type": "markdown",
   "metadata": {},
   "source": [
    "#### Cruzando dados"
   ]
  },
  {
   "cell_type": "markdown",
   "metadata": {},
   "source": [
    "Os motivos elencados para descrever o que leva um candidato a escolher seu curso incluem:\n",
    "\n",
    "A = Inserção no mercado de trabalho.<br>B = Influência familiar.<br>C = Valorização profissional.<br>D = Prestígio Social.<br>E = Vocação.<br>F = Oferecimento do curso na modalidade a distância.<br>G = Baixa concorrência para ingresso.<br>H = Outro motivo. \n",
    "\n",
    "<div class=\"alert alert-info\">\n",
    "<b>7</b> - Cruze a informação sobre o turno do curso do aluno com a resposta dada a esta pergunta (QE_I25), de forma a obter, para os motivos dados, o percentual de alunos que os escolheram, de acordo com os cursos realizados.\n",
    "</div>"
   ]
  },
  {
   "cell_type": "code",
   "execution_count": null,
   "metadata": {},
   "outputs": [],
   "source": []
  },
  {
   "cell_type": "markdown",
   "metadata": {},
   "source": [
    "Comente sobre os resultados obtidos."
   ]
  },
  {
   "cell_type": "markdown",
   "metadata": {},
   "source": []
  },
  {
   "cell_type": "markdown",
   "metadata": {},
   "source": [
    "Considerando as seguintes faixas de renda (QE_I08):\n",
    "\n",
    "A = Até 1,5 salário mínimo (até R\\$ 1.086,00).<br>B = De 1,5 a 3 salários mínimos (R\\$ 1.086,01 a R\\$ 2.172,00).<br>C = De 3 a 4,5 salários mínimos (R\\$ 2.172,01 a R\\$ 3.258,00).<br>D = De 4,5 a 6 salários mínimos (R\\$ 3.258,01 a R\\$ 4.344,00).<br>E = De 6 a 10 salários mínimos (R\\$ 4.344,01 a R\\$ 7.240,00).<br>F = De 10 a 30 salários mínimos (R\\$ 7.240,01 a R\\$ 21.720,00).<br>G = Acima de 30 salários mínimos (mais de R\\$ 21.720,01).\n",
    "\n",
    "<div class=\"alert alert-info\">\n",
    "<b>8</b> - É verdade que, quando comparado às instituíções privadas, estão nos cursos das universidades federais tanto os estudantes mais pobres quanto os mais ricos do país?\n",
    "</div>"
   ]
  },
  {
   "cell_type": "code",
   "execution_count": null,
   "metadata": {},
   "outputs": [],
   "source": []
  },
  {
   "cell_type": "markdown",
   "metadata": {},
   "source": [
    "Comente sobre os resultados."
   ]
  },
  {
   "cell_type": "markdown",
   "metadata": {},
   "source": []
  },
  {
   "cell_type": "markdown",
   "metadata": {},
   "source": [
    "#### Obtendo valor consolidado sobre dados cruzados (pivô)"
   ]
  },
  {
   "cell_type": "markdown",
   "metadata": {},
   "source": [
    "Considerando como foi o ensino médio dos alunos, de acordo com as opções em QE_I17:\n",
    "\n",
    "A = Todo em escola pública.<br>B = Todo em escola privada (particular).<br>C = Todo no exterior.<br>D = A maior parte em escola pública.<br>E = A maior parte em escola privada (particular).<br>F = Parte no Brasil e parte no exterior.\n",
    "\n",
    "<div class=\"alert alert-info\">\n",
    "<b>9</b> - Qual a nota geral média dos alunos, de acordo com a forma como ele cursou ensino médio?\n",
    "</div>"
   ]
  },
  {
   "cell_type": "code",
   "execution_count": null,
   "metadata": {},
   "outputs": [],
   "source": []
  },
  {
   "cell_type": "markdown",
   "metadata": {},
   "source": [
    "Comente sobre os resultados."
   ]
  },
  {
   "cell_type": "markdown",
   "metadata": {},
   "source": []
  },
  {
   "cell_type": "markdown",
   "metadata": {},
   "source": [
    "<div class=\"alert alert-info\">\n",
    "<b>10</b> - Qual a nota geral média dos alunos, de acordo com sua renda, por regiao? Caso sua base se refira a uma única região, considere a renda por estado daquela região.\n",
    "</div>"
   ]
  },
  {
   "cell_type": "code",
   "execution_count": null,
   "metadata": {},
   "outputs": [],
   "source": []
  },
  {
   "cell_type": "markdown",
   "metadata": {},
   "source": [
    "Explique os resultados."
   ]
  },
  {
   "cell_type": "markdown",
   "metadata": {},
   "source": []
  },
  {
   "cell_type": "markdown",
   "metadata": {},
   "source": [
    "#### Agrupando e ordenando dados"
   ]
  },
  {
   "cell_type": "markdown",
   "metadata": {},
   "source": [
    "<div class=\"alert alert-info\">\n",
    "<b>11</b> - Qual o ranking dos estados de acordo com a nota média obtida por alunos, considerando apenas instituições públicas?\n",
    "</div>"
   ]
  },
  {
   "cell_type": "code",
   "execution_count": null,
   "metadata": {},
   "outputs": [],
   "source": []
  },
  {
   "cell_type": "markdown",
   "metadata": {},
   "source": [
    "Explique os resultados obtidos."
   ]
  },
  {
   "cell_type": "markdown",
   "metadata": {},
   "source": []
  },
  {
   "cell_type": "markdown",
   "metadata": {},
   "source": [
    "#### Comportamentos anômalos"
   ]
  },
  {
   "cell_type": "markdown",
   "metadata": {},
   "source": [
    "<div class=\"alert alert-info\">\n",
    "<b>12</b> - Como se comparam as variáveis **idade**, **nota geral**, **ano de início da graduação** e **ano de fim do ensino médio** em termos de anomalias?\n",
    "</div>"
   ]
  },
  {
   "cell_type": "code",
   "execution_count": null,
   "metadata": {},
   "outputs": [],
   "source": []
  },
  {
   "cell_type": "markdown",
   "metadata": {},
   "source": [
    "Dica: Utilize BOXPLOT ou histograma para facilitar o entendimento."
   ]
  },
  {
   "cell_type": "markdown",
   "metadata": {},
   "source": [
    "Comente sobre os resultados."
   ]
  },
  {
   "cell_type": "markdown",
   "metadata": {},
   "source": []
  },
  {
   "cell_type": "markdown",
   "metadata": {},
   "source": [
    "#### Engenharia de atributos"
   ]
  },
  {
   "cell_type": "markdown",
   "metadata": {},
   "source": [
    "As questões QE_I27 a QE_I68 nos permitem avaliar quão boa é a instituição de acordo com a visão dos estudantes. Ela deve ser calculada como:\n",
    "\n",
    "NT_INST = $\\frac{1}{N} \\sum_{i=27}^{68} \\frac{f(\\text{QE_I}_i) - 1}{5}$\n",
    "\n",
    "onde $f$ é uma função que retorna o valor de QE_I$_i$ se ele estiver entre 1 a 6; ela retorna 1, caso contrário. $N$ é o total de questões, entre QE_I27 a QE_I68, que tiveram nota entre 1 a 6.\n",
    "\n",
    "<div class=\"alert alert-info\">\n",
    "<b>13</b> - Seguindo a definição dada, crie a coluna NT_INST que reflete a nota que cada estudante daria para a instituição. \n",
    "</div>    "
   ]
  },
  {
   "cell_type": "code",
   "execution_count": null,
   "metadata": {},
   "outputs": [],
   "source": []
  },
  {
   "cell_type": "markdown",
   "metadata": {},
   "source": [
    "#### Preparando dados para classificação"
   ]
  },
  {
   "cell_type": "markdown",
   "metadata": {},
   "source": [
    "Queremos tentar prever a nota de um aluno apartir das seguintes informações:\n",
    "\n",
    "* CO_CATEGAD, CO_ORGACAD, CO_MODALIDADE, CO_UF_CURSO, REGIAO,  \n",
    "* NU_IDADE, TP_SEXO, CO_TURNO_GRADUACAO, \n",
    "* QE_I01, QE_I02, QE_I03, QE_I04, QE_I05, QE_I06, QE_I07, QE_I08, QE_I09, QE_I10, QE_I11, QE_I12, QE_I13, QE_I14, QE_I15, QE_I17, QE_I18, QE_I19, QE_I20, QE_I21, QE_I22, QE_I23, QE_I24, QE_I25, QE_I26 \n",
    "* NT_INST\n",
    "\n",
    "<div class=\"alert alert-info\">\n",
    "<b>14</b> - Prepare os dados para aprendizado, convertendo strings para dados categóricos, dados categóricos não binários para hot-vectors e padronizando dados numéricos usando Z-score.\n",
    "</div> "
   ]
  },
  {
   "cell_type": "code",
   "execution_count": null,
   "metadata": {},
   "outputs": [],
   "source": []
  },
  {
   "cell_type": "markdown",
   "metadata": {},
   "source": [
    "## Questão bônus \n",
    "### Classificação"
   ]
  },
  {
   "cell_type": "markdown",
   "metadata": {},
   "source": [
    "Se você gerou os dados corretamente, você pode agora tentar prever, dado um aluno, se ele vai passar ou não no ENADE:"
   ]
  },
  {
   "cell_type": "code",
   "execution_count": 35,
   "metadata": {},
   "outputs": [],
   "source": [
    "# imports a serem utilizados\n",
    "\n",
    "# utilize a train_test_split para separar o treino e teste\n",
    "from sklearn.model_selection import train_test_split\n",
    "\n",
    "# utilize o Random Forest\n",
    "from sklearn.ensemble import RandomForestClassifier"
   ]
  },
  {
   "cell_type": "code",
   "execution_count": 36,
   "metadata": {},
   "outputs": [],
   "source": [
    "### Implemente seu treinamento e inferência:"
   ]
  },
  {
   "cell_type": "code",
   "execution_count": 37,
   "metadata": {},
   "outputs": [
    {
     "ename": "NameError",
     "evalue": "name 'clf' is not defined",
     "output_type": "error",
     "traceback": [
      "\u001b[0;31m---------------------------------------------------------------------------\u001b[0m",
      "\u001b[0;31mNameError\u001b[0m                                 Traceback (most recent call last)",
      "\u001b[0;32m<ipython-input-37-d0fa2bb23bd3>\u001b[0m in \u001b[0;36m<module>\u001b[0;34m\u001b[0m\n\u001b[1;32m      1\u001b[0m \u001b[0;31m# utilize a matriz de confusão para auxiliar na interpretação dos resultados\u001b[0m\u001b[0;34m\u001b[0m\u001b[0;34m\u001b[0m\u001b[0;34m\u001b[0m\u001b[0m\n\u001b[1;32m      2\u001b[0m \u001b[0;32mfrom\u001b[0m \u001b[0msklearn\u001b[0m\u001b[0;34m.\u001b[0m\u001b[0mmetrics\u001b[0m \u001b[0;32mimport\u001b[0m \u001b[0mconfusion_matrix\u001b[0m\u001b[0;34m\u001b[0m\u001b[0;34m\u001b[0m\u001b[0m\n\u001b[0;32m----> 3\u001b[0;31m \u001b[0my_pred\u001b[0m \u001b[0;34m=\u001b[0m \u001b[0mclf\u001b[0m\u001b[0;34m.\u001b[0m\u001b[0mpredict\u001b[0m\u001b[0;34m(\u001b[0m\u001b[0mX_test\u001b[0m\u001b[0;34m)\u001b[0m\u001b[0;34m\u001b[0m\u001b[0;34m\u001b[0m\u001b[0m\n\u001b[0m\u001b[1;32m      4\u001b[0m \u001b[0mconfusion_matrix\u001b[0m\u001b[0;34m(\u001b[0m\u001b[0my_test\u001b[0m\u001b[0;34m,\u001b[0m \u001b[0my_pred\u001b[0m\u001b[0;34m)\u001b[0m\u001b[0;34m\u001b[0m\u001b[0;34m\u001b[0m\u001b[0m\n",
      "\u001b[0;31mNameError\u001b[0m: name 'clf' is not defined"
     ]
    }
   ],
   "source": [
    "# utilize a matriz de confusão para auxiliar na interpretação dos resultados\n",
    "from sklearn.metrics import confusion_matrix\n",
    "y_pred = clf.predict(X_test)\n",
    "confusion_matrix(y_test, y_pred)"
   ]
  },
  {
   "cell_type": "markdown",
   "metadata": {},
   "source": [
    "<div class=\"alert alert-info\">\n",
    "<b>15</b> - Que atributos a RandomForest julgou mais relevantes para determinar se o aluno vai ou não passar?\n",
    "</div>"
   ]
  },
  {
   "cell_type": "code",
   "execution_count": null,
   "metadata": {},
   "outputs": [],
   "source": []
  }
 ],
 "metadata": {
  "kernelspec": {
   "display_name": "Python 3",
   "language": "python",
   "name": "python3"
  },
  "language_info": {
   "codemirror_mode": {
    "name": "ipython",
    "version": 3
   },
   "file_extension": ".py",
   "mimetype": "text/x-python",
   "name": "python",
   "nbconvert_exporter": "python",
   "pygments_lexer": "ipython3",
   "version": "3.7.3"
  }
 },
 "nbformat": 4,
 "nbformat_minor": 2
}
