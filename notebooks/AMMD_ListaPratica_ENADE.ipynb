{
 "cells": [
  {
   "cell_type": "markdown",
   "metadata": {},
   "source": [
    "<table style=\"width: 100%; margin-left: auto; margin-right: auto; background-color: white;\">\n",
    "<tbody>\n",
    "<tr>\n",
    "\n",
    "<td style=\"text-align: center; width: 12%;\"><img src=imagens/brasil-brasao.png alt=\"\" /></td>\n",
    "\n",
    "<td style=\"width: 68%;\">\n",
    "<h2 style=\"text-align: center; margin-top: 1%;\">Rep&uacute;blica Federativa do Brasil</h2>\n",
    "<h2 style=\"text-align: center; margin-top: 1%;\">Minist&eacute;rio da Educa&ccedil;&atilde;o</h2>\n",
    "<h2 style=\"text-align: center; margin-top: 1%;\">Universidade Federal do Amazonas</h2>\n",
    "<h2 style=\"text-align: center; margin-top: 1%;\">Instituto de Computa&ccedil;&atilde;o</h2>\n",
    "</td>\n",
    "\n",
    "<td style=\"width: 12%;\"><img src=\"imagens/UFAM-logo.png\" alt=\"\" /></td>\n",
    "\n",
    "</tr>\n",
    "</tbody>\n",
    "</table>"
   ]
  },
  {
   "cell_type": "markdown",
   "metadata": {},
   "source": [
    "# Aprendizado de Máquina e Mineração de Dados\n",
    "## Lista Prática de Análise de Dados"
   ]
  },
  {
   "cell_type": "markdown",
   "metadata": {},
   "source": [
    "Professor _Marco Cristo_ \n",
    "\n",
    "**Aluno**: Mikael Souza Silva"
   ]
  },
  {
   "cell_type": "markdown",
   "metadata": {},
   "source": [
    "__Introdução__: Neste trabalho, vamos analisar dados do INEP sobre o ENADE 2017. Estes dados estão organizados em uma releção com as informações do candidato necessárias para realizar a prova, além das suas notas e as respostas que os candidatos deram a questionários sobre a prova, seus dados pessoais e curso realizado. Em anexo, ao fim deste notebook, temos uma descrição detalhada das informações obtidas. "
   ]
  },
  {
   "cell_type": "markdown",
   "metadata": {},
   "source": [
    "#### Preliminares"
   ]
  },
  {
   "cell_type": "code",
   "execution_count": 1,
   "metadata": {},
   "outputs": [],
   "source": [
    "# usar versão do Python 3.x\n",
    "\n",
    "# Imports\n",
    "import pandas as pd\n",
    "import numpy as np\n",
    "import matplotlib.pyplot as plt\n",
    "import sklearn.preprocessing\n",
    "import sys"
   ]
  },
  {
   "cell_type": "code",
   "execution_count": 2,
   "metadata": {},
   "outputs": [
    {
     "name": "stdout",
     "output_type": "stream",
     "text": [
      "Python 3.7.3 (default, Mar 27 2019, 09:23:15) \n",
      "[Clang 10.0.1 (clang-1001.0.46.3)]\n",
      "--------\n",
      "Pandas: 0.24.2\n",
      "Numpy: 1.16.4\n",
      "SKLearn: 0.21.2\n"
     ]
    }
   ],
   "source": [
    "print('Python', sys.version)\n",
    "print('--------')\n",
    "print('Pandas:', pd.__version__)\n",
    "print('Numpy:', np.__version__)\n",
    "print('SKLearn:', sklearn.__version__)"
   ]
  },
  {
   "cell_type": "code",
   "execution_count": 3,
   "metadata": {},
   "outputs": [],
   "source": [
    "def bp(data, by, title, xlabel, ylabel):\n",
    "    fig, ax = plt.subplots(figsize=(12, 6))\n",
    "    data.boxplot(by=by, ax=ax, showmeans=True)\n",
    "    _ = plt.suptitle('')\n",
    "    _ = plt.title(title)\n",
    "    _ = plt.xlabel(xlabel)\n",
    "    _ = plt.ylabel(ylabel)\n",
    "    \n",
    "def density(data, title, xlabel, ylabel, legend):\n",
    "    fig, ax = plt.subplots(figsize=(8,5))\n",
    "    plt.hist(data, density=True, bins=10)\n",
    "    _ = plt.title(title)\n",
    "    _ = plt.xlabel(xlabel)\n",
    "    _ = plt.ylabel(ylabel)\n",
    "    _ = plt.legend(legend)"
   ]
  },
  {
   "cell_type": "code",
   "execution_count": 4,
   "metadata": {},
   "outputs": [],
   "source": [
    "# Caminho do arquivo\n",
    "egeral = pd.read_csv('../data/enade2017_Fisica.csv', sep=';') "
   ]
  },
  {
   "cell_type": "code",
   "execution_count": 5,
   "metadata": {},
   "outputs": [
    {
     "data": {
      "text/html": [
       "<div>\n",
       "<style scoped>\n",
       "    .dataframe tbody tr th:only-of-type {\n",
       "        vertical-align: middle;\n",
       "    }\n",
       "\n",
       "    .dataframe tbody tr th {\n",
       "        vertical-align: top;\n",
       "    }\n",
       "\n",
       "    .dataframe thead th {\n",
       "        text-align: right;\n",
       "    }\n",
       "</style>\n",
       "<table border=\"1\" class=\"dataframe\">\n",
       "  <thead>\n",
       "    <tr style=\"text-align: right;\">\n",
       "      <th></th>\n",
       "      <th>CO_IES</th>\n",
       "      <th>CO_CATEGAD</th>\n",
       "      <th>CO_ORGACAD</th>\n",
       "      <th>CO_MODALIDADE</th>\n",
       "      <th>NU_IDADE</th>\n",
       "      <th>ANO_FIM_EM</th>\n",
       "      <th>ANO_IN_GRAD</th>\n",
       "      <th>CO_TURNO_GRADUACAO</th>\n",
       "      <th>NT_GER</th>\n",
       "      <th>NT_FG</th>\n",
       "      <th>...</th>\n",
       "      <th>QE_I59</th>\n",
       "      <th>QE_I60</th>\n",
       "      <th>QE_I61</th>\n",
       "      <th>QE_I62</th>\n",
       "      <th>QE_I63</th>\n",
       "      <th>QE_I64</th>\n",
       "      <th>QE_I65</th>\n",
       "      <th>QE_I66</th>\n",
       "      <th>QE_I67</th>\n",
       "      <th>QE_I68</th>\n",
       "    </tr>\n",
       "  </thead>\n",
       "  <tbody>\n",
       "    <tr>\n",
       "      <th>count</th>\n",
       "      <td>3579.000000</td>\n",
       "      <td>3579.000000</td>\n",
       "      <td>3579.000000</td>\n",
       "      <td>3579.000000</td>\n",
       "      <td>3579.000000</td>\n",
       "      <td>3579.000000</td>\n",
       "      <td>3579.000000</td>\n",
       "      <td>3579.000000</td>\n",
       "      <td>3570.000000</td>\n",
       "      <td>3570.000000</td>\n",
       "      <td>...</td>\n",
       "      <td>3482.000000</td>\n",
       "      <td>3482.000000</td>\n",
       "      <td>3482.000000</td>\n",
       "      <td>3482.000000</td>\n",
       "      <td>3482.000000</td>\n",
       "      <td>3482.000000</td>\n",
       "      <td>3482.000000</td>\n",
       "      <td>3482.000000</td>\n",
       "      <td>3482.000000</td>\n",
       "      <td>3482.000000</td>\n",
       "    </tr>\n",
       "    <tr>\n",
       "      <th>mean</th>\n",
       "      <td>1500.868678</td>\n",
       "      <td>1.637329</td>\n",
       "      <td>10027.316848</td>\n",
       "      <td>0.909472</td>\n",
       "      <td>27.482258</td>\n",
       "      <td>2007.729254</td>\n",
       "      <td>2012.741269</td>\n",
       "      <td>3.056720</td>\n",
       "      <td>39.936162</td>\n",
       "      <td>53.520644</td>\n",
       "      <td>...</td>\n",
       "      <td>4.910684</td>\n",
       "      <td>4.700172</td>\n",
       "      <td>4.720563</td>\n",
       "      <td>4.643021</td>\n",
       "      <td>4.711086</td>\n",
       "      <td>4.914130</td>\n",
       "      <td>4.897473</td>\n",
       "      <td>5.022114</td>\n",
       "      <td>4.748420</td>\n",
       "      <td>4.648191</td>\n",
       "    </tr>\n",
       "    <tr>\n",
       "      <th>std</th>\n",
       "      <td>3085.326989</td>\n",
       "      <td>1.226826</td>\n",
       "      <td>1.527345</td>\n",
       "      <td>0.286977</td>\n",
       "      <td>7.105561</td>\n",
       "      <td>6.060729</td>\n",
       "      <td>2.121545</td>\n",
       "      <td>1.079496</td>\n",
       "      <td>13.789994</td>\n",
       "      <td>18.059580</td>\n",
       "      <td>...</td>\n",
       "      <td>1.419609</td>\n",
       "      <td>1.563827</td>\n",
       "      <td>1.490476</td>\n",
       "      <td>1.525355</td>\n",
       "      <td>1.462875</td>\n",
       "      <td>1.322178</td>\n",
       "      <td>1.935204</td>\n",
       "      <td>1.544262</td>\n",
       "      <td>1.718615</td>\n",
       "      <td>1.598624</td>\n",
       "    </tr>\n",
       "    <tr>\n",
       "      <th>min</th>\n",
       "      <td>1.000000</td>\n",
       "      <td>1.000000</td>\n",
       "      <td>10019.000000</td>\n",
       "      <td>0.000000</td>\n",
       "      <td>18.000000</td>\n",
       "      <td>1965.000000</td>\n",
       "      <td>2000.000000</td>\n",
       "      <td>1.000000</td>\n",
       "      <td>0.000000</td>\n",
       "      <td>0.000000</td>\n",
       "      <td>...</td>\n",
       "      <td>1.000000</td>\n",
       "      <td>1.000000</td>\n",
       "      <td>1.000000</td>\n",
       "      <td>1.000000</td>\n",
       "      <td>1.000000</td>\n",
       "      <td>1.000000</td>\n",
       "      <td>1.000000</td>\n",
       "      <td>1.000000</td>\n",
       "      <td>1.000000</td>\n",
       "      <td>1.000000</td>\n",
       "    </tr>\n",
       "    <tr>\n",
       "      <th>25%</th>\n",
       "      <td>338.000000</td>\n",
       "      <td>1.000000</td>\n",
       "      <td>10028.000000</td>\n",
       "      <td>1.000000</td>\n",
       "      <td>23.000000</td>\n",
       "      <td>2006.000000</td>\n",
       "      <td>2012.000000</td>\n",
       "      <td>2.000000</td>\n",
       "      <td>30.500000</td>\n",
       "      <td>41.725000</td>\n",
       "      <td>...</td>\n",
       "      <td>4.000000</td>\n",
       "      <td>4.000000</td>\n",
       "      <td>4.000000</td>\n",
       "      <td>4.000000</td>\n",
       "      <td>4.000000</td>\n",
       "      <td>4.000000</td>\n",
       "      <td>4.000000</td>\n",
       "      <td>4.000000</td>\n",
       "      <td>4.000000</td>\n",
       "      <td>4.000000</td>\n",
       "    </tr>\n",
       "    <tr>\n",
       "      <th>50%</th>\n",
       "      <td>579.000000</td>\n",
       "      <td>1.000000</td>\n",
       "      <td>10028.000000</td>\n",
       "      <td>1.000000</td>\n",
       "      <td>25.000000</td>\n",
       "      <td>2010.000000</td>\n",
       "      <td>2013.000000</td>\n",
       "      <td>3.000000</td>\n",
       "      <td>39.000000</td>\n",
       "      <td>54.600000</td>\n",
       "      <td>...</td>\n",
       "      <td>5.000000</td>\n",
       "      <td>5.000000</td>\n",
       "      <td>5.000000</td>\n",
       "      <td>5.000000</td>\n",
       "      <td>5.000000</td>\n",
       "      <td>5.000000</td>\n",
       "      <td>5.000000</td>\n",
       "      <td>5.000000</td>\n",
       "      <td>5.000000</td>\n",
       "      <td>5.000000</td>\n",
       "    </tr>\n",
       "    <tr>\n",
       "      <th>75%</th>\n",
       "      <td>1146.000000</td>\n",
       "      <td>2.000000</td>\n",
       "      <td>10028.000000</td>\n",
       "      <td>1.000000</td>\n",
       "      <td>30.000000</td>\n",
       "      <td>2012.000000</td>\n",
       "      <td>2014.000000</td>\n",
       "      <td>4.000000</td>\n",
       "      <td>48.900000</td>\n",
       "      <td>66.675000</td>\n",
       "      <td>...</td>\n",
       "      <td>6.000000</td>\n",
       "      <td>6.000000</td>\n",
       "      <td>6.000000</td>\n",
       "      <td>6.000000</td>\n",
       "      <td>6.000000</td>\n",
       "      <td>6.000000</td>\n",
       "      <td>6.000000</td>\n",
       "      <td>6.000000</td>\n",
       "      <td>6.000000</td>\n",
       "      <td>6.000000</td>\n",
       "    </tr>\n",
       "    <tr>\n",
       "      <th>max</th>\n",
       "      <td>18506.000000</td>\n",
       "      <td>7.000000</td>\n",
       "      <td>10028.000000</td>\n",
       "      <td>1.000000</td>\n",
       "      <td>69.000000</td>\n",
       "      <td>2016.000000</td>\n",
       "      <td>2017.000000</td>\n",
       "      <td>4.000000</td>\n",
       "      <td>87.000000</td>\n",
       "      <td>97.600000</td>\n",
       "      <td>...</td>\n",
       "      <td>8.000000</td>\n",
       "      <td>8.000000</td>\n",
       "      <td>8.000000</td>\n",
       "      <td>8.000000</td>\n",
       "      <td>8.000000</td>\n",
       "      <td>8.000000</td>\n",
       "      <td>8.000000</td>\n",
       "      <td>8.000000</td>\n",
       "      <td>8.000000</td>\n",
       "      <td>8.000000</td>\n",
       "    </tr>\n",
       "  </tbody>\n",
       "</table>\n",
       "<p>8 rows × 67 columns</p>\n",
       "</div>"
      ],
      "text/plain": [
       "             CO_IES   CO_CATEGAD    CO_ORGACAD  CO_MODALIDADE     NU_IDADE  \\\n",
       "count   3579.000000  3579.000000   3579.000000    3579.000000  3579.000000   \n",
       "mean    1500.868678     1.637329  10027.316848       0.909472    27.482258   \n",
       "std     3085.326989     1.226826      1.527345       0.286977     7.105561   \n",
       "min        1.000000     1.000000  10019.000000       0.000000    18.000000   \n",
       "25%      338.000000     1.000000  10028.000000       1.000000    23.000000   \n",
       "50%      579.000000     1.000000  10028.000000       1.000000    25.000000   \n",
       "75%     1146.000000     2.000000  10028.000000       1.000000    30.000000   \n",
       "max    18506.000000     7.000000  10028.000000       1.000000    69.000000   \n",
       "\n",
       "        ANO_FIM_EM  ANO_IN_GRAD  CO_TURNO_GRADUACAO       NT_GER        NT_FG  \\\n",
       "count  3579.000000  3579.000000         3579.000000  3570.000000  3570.000000   \n",
       "mean   2007.729254  2012.741269            3.056720    39.936162    53.520644   \n",
       "std       6.060729     2.121545            1.079496    13.789994    18.059580   \n",
       "min    1965.000000  2000.000000            1.000000     0.000000     0.000000   \n",
       "25%    2006.000000  2012.000000            2.000000    30.500000    41.725000   \n",
       "50%    2010.000000  2013.000000            3.000000    39.000000    54.600000   \n",
       "75%    2012.000000  2014.000000            4.000000    48.900000    66.675000   \n",
       "max    2016.000000  2017.000000            4.000000    87.000000    97.600000   \n",
       "\n",
       "       ...       QE_I59       QE_I60       QE_I61       QE_I62       QE_I63  \\\n",
       "count  ...  3482.000000  3482.000000  3482.000000  3482.000000  3482.000000   \n",
       "mean   ...     4.910684     4.700172     4.720563     4.643021     4.711086   \n",
       "std    ...     1.419609     1.563827     1.490476     1.525355     1.462875   \n",
       "min    ...     1.000000     1.000000     1.000000     1.000000     1.000000   \n",
       "25%    ...     4.000000     4.000000     4.000000     4.000000     4.000000   \n",
       "50%    ...     5.000000     5.000000     5.000000     5.000000     5.000000   \n",
       "75%    ...     6.000000     6.000000     6.000000     6.000000     6.000000   \n",
       "max    ...     8.000000     8.000000     8.000000     8.000000     8.000000   \n",
       "\n",
       "            QE_I64       QE_I65       QE_I66       QE_I67       QE_I68  \n",
       "count  3482.000000  3482.000000  3482.000000  3482.000000  3482.000000  \n",
       "mean      4.914130     4.897473     5.022114     4.748420     4.648191  \n",
       "std       1.322178     1.935204     1.544262     1.718615     1.598624  \n",
       "min       1.000000     1.000000     1.000000     1.000000     1.000000  \n",
       "25%       4.000000     4.000000     4.000000     4.000000     4.000000  \n",
       "50%       5.000000     5.000000     5.000000     5.000000     5.000000  \n",
       "75%       6.000000     6.000000     6.000000     6.000000     6.000000  \n",
       "max       8.000000     8.000000     8.000000     8.000000     8.000000  \n",
       "\n",
       "[8 rows x 67 columns]"
      ]
     },
     "execution_count": 5,
     "metadata": {},
     "output_type": "execute_result"
    }
   ],
   "source": [
    "egeral.describe()"
   ]
  },
  {
   "cell_type": "markdown",
   "metadata": {},
   "source": [
    "#### Análise de valores faltantes"
   ]
  },
  {
   "cell_type": "markdown",
   "metadata": {},
   "source": [
    "<div class=\"alert alert-info\">\n",
    "<b>1</b> - Que colunas possuem campos nulos em **egeral**?\n",
    "</div>"
   ]
  },
  {
   "cell_type": "markdown",
   "metadata": {},
   "source": [
    "Há muitas formas de fazer isso em Pandas, como por exemplo através da utilização do método isnull()"
   ]
  },
  {
   "cell_type": "markdown",
   "metadata": {},
   "source": [
    "### Reposta 1:"
   ]
  },
  {
   "cell_type": "code",
   "execution_count": 6,
   "metadata": {},
   "outputs": [
    {
     "name": "stdout",
     "output_type": "stream",
     "text": [
      "Index(['NT_GER', 'NT_FG', 'NT_OBJ_FG', 'NT_DIS_FG', 'NT_FG_D1', 'NT_FG_D1_PT',\n",
      "       'NT_FG_D1_CT', 'NT_FG_D2', 'NT_FG_D2_PT', 'NT_FG_D2_CT', 'NT_CE',\n",
      "       'NT_OBJ_CE', 'NT_DIS_CE', 'NT_CE_D1', 'NT_CE_D2', 'NT_CE_D3', 'QE_I01',\n",
      "       'QE_I02', 'QE_I03', 'QE_I04', 'QE_I05', 'QE_I06', 'QE_I07', 'QE_I08',\n",
      "       'QE_I09', 'QE_I10', 'QE_I11', 'QE_I12', 'QE_I13', 'QE_I14', 'QE_I15',\n",
      "       'QE_I16', 'QE_I17', 'QE_I18', 'QE_I19', 'QE_I20', 'QE_I21', 'QE_I22',\n",
      "       'QE_I23', 'QE_I24', 'QE_I25', 'QE_I26', 'QE_I27', 'QE_I28', 'QE_I29',\n",
      "       'QE_I30', 'QE_I31', 'QE_I32', 'QE_I33', 'QE_I34', 'QE_I35', 'QE_I36',\n",
      "       'QE_I37', 'QE_I38', 'QE_I39', 'QE_I40', 'QE_I41', 'QE_I42', 'QE_I43',\n",
      "       'QE_I44', 'QE_I45', 'QE_I46', 'QE_I47', 'QE_I48', 'QE_I49', 'QE_I50',\n",
      "       'QE_I51', 'QE_I52', 'QE_I53', 'QE_I54', 'QE_I55', 'QE_I56', 'QE_I57',\n",
      "       'QE_I58', 'QE_I59', 'QE_I60', 'QE_I61', 'QE_I62', 'QE_I63', 'QE_I64',\n",
      "       'QE_I65', 'QE_I66', 'QE_I67', 'QE_I68'],\n",
      "      dtype='object')\n"
     ]
    }
   ],
   "source": [
    "# Colunas com dados faltando:\n",
    "colunas_faltantes = egeral.isnull().any()\n",
    "print(egeral.columns[colunas_faltantes])"
   ]
  },
  {
   "cell_type": "markdown",
   "metadata": {},
   "source": [
    "<div class=\"alert alert-info\">\n",
    "<b>2</b> - Substitua dados faltantes por valores razoáveis. No caso dos questionários, as colunas até QE_I26 podem ser substituídas por um 'Z'. As colunas após a QE_I26 podem ser substituídas por 7 (7 = _Não sei responder_).\n",
    "</div>"
   ]
  },
  {
   "cell_type": "markdown",
   "metadata": {},
   "source": [
    "No caso das notas, se elas forem NaN, podemos substituí-las por 0. Após isso, imprima o vetor resultante para confirmar se não há mais valores NaNs"
   ]
  },
  {
   "cell_type": "markdown",
   "metadata": {},
   "source": [
    "### Resposta 2:"
   ]
  },
  {
   "cell_type": "code",
   "execution_count": 7,
   "metadata": {},
   "outputs": [
    {
     "name": "stdout",
     "output_type": "stream",
     "text": [
      "10 primeiras colunas de questionário: ['QE_I01', 'QE_I02', 'QE_I03', 'QE_I04', 'QE_I05', 'QE_I06', 'QE_I07', 'QE_I08', 'QE_I09', 'QE_I10']\n"
     ]
    }
   ],
   "source": [
    "# Filtrando colunas de questionários\n",
    "colunas = egeral.columns\n",
    "questionario = list(filter(lambda x: x.startswith('QE_'), colunas))\n",
    "print(\"10 primeiras colunas de questionário:\",questionario[:10])"
   ]
  },
  {
   "cell_type": "code",
   "execution_count": 8,
   "metadata": {},
   "outputs": [
    {
     "data": {
      "text/html": [
       "<div>\n",
       "<style scoped>\n",
       "    .dataframe tbody tr th:only-of-type {\n",
       "        vertical-align: middle;\n",
       "    }\n",
       "\n",
       "    .dataframe tbody tr th {\n",
       "        vertical-align: top;\n",
       "    }\n",
       "\n",
       "    .dataframe thead th {\n",
       "        text-align: right;\n",
       "    }\n",
       "</style>\n",
       "<table border=\"1\" class=\"dataframe\">\n",
       "  <thead>\n",
       "    <tr style=\"text-align: right;\">\n",
       "      <th></th>\n",
       "      <th>QE_I01</th>\n",
       "      <th>QE_I02</th>\n",
       "      <th>QE_I03</th>\n",
       "      <th>QE_I04</th>\n",
       "      <th>QE_I05</th>\n",
       "      <th>QE_I06</th>\n",
       "      <th>QE_I07</th>\n",
       "      <th>QE_I08</th>\n",
       "      <th>QE_I09</th>\n",
       "      <th>QE_I10</th>\n",
       "      <th>...</th>\n",
       "      <th>QE_I59</th>\n",
       "      <th>QE_I60</th>\n",
       "      <th>QE_I61</th>\n",
       "      <th>QE_I62</th>\n",
       "      <th>QE_I63</th>\n",
       "      <th>QE_I64</th>\n",
       "      <th>QE_I65</th>\n",
       "      <th>QE_I66</th>\n",
       "      <th>QE_I67</th>\n",
       "      <th>QE_I68</th>\n",
       "    </tr>\n",
       "  </thead>\n",
       "  <tbody>\n",
       "    <tr>\n",
       "      <th>0</th>\n",
       "      <td>A</td>\n",
       "      <td>D</td>\n",
       "      <td>A</td>\n",
       "      <td>A</td>\n",
       "      <td>D</td>\n",
       "      <td>B</td>\n",
       "      <td>D</td>\n",
       "      <td>B</td>\n",
       "      <td>A</td>\n",
       "      <td>A</td>\n",
       "      <td>...</td>\n",
       "      <td>6.0</td>\n",
       "      <td>6.0</td>\n",
       "      <td>5.0</td>\n",
       "      <td>4.0</td>\n",
       "      <td>4.0</td>\n",
       "      <td>2.0</td>\n",
       "      <td>2.0</td>\n",
       "      <td>6.0</td>\n",
       "      <td>6.0</td>\n",
       "      <td>4.0</td>\n",
       "    </tr>\n",
       "    <tr>\n",
       "      <th>1</th>\n",
       "      <td>A</td>\n",
       "      <td>D</td>\n",
       "      <td>A</td>\n",
       "      <td>B</td>\n",
       "      <td>B</td>\n",
       "      <td>B</td>\n",
       "      <td>D</td>\n",
       "      <td>A</td>\n",
       "      <td>A</td>\n",
       "      <td>A</td>\n",
       "      <td>...</td>\n",
       "      <td>5.0</td>\n",
       "      <td>5.0</td>\n",
       "      <td>4.0</td>\n",
       "      <td>3.0</td>\n",
       "      <td>3.0</td>\n",
       "      <td>2.0</td>\n",
       "      <td>2.0</td>\n",
       "      <td>2.0</td>\n",
       "      <td>2.0</td>\n",
       "      <td>3.0</td>\n",
       "    </tr>\n",
       "    <tr>\n",
       "      <th>2</th>\n",
       "      <td>A</td>\n",
       "      <td>C</td>\n",
       "      <td>A</td>\n",
       "      <td>D</td>\n",
       "      <td>D</td>\n",
       "      <td>A</td>\n",
       "      <td>C</td>\n",
       "      <td>A</td>\n",
       "      <td>A</td>\n",
       "      <td>A</td>\n",
       "      <td>...</td>\n",
       "      <td>2.0</td>\n",
       "      <td>4.0</td>\n",
       "      <td>1.0</td>\n",
       "      <td>5.0</td>\n",
       "      <td>2.0</td>\n",
       "      <td>4.0</td>\n",
       "      <td>1.0</td>\n",
       "      <td>5.0</td>\n",
       "      <td>6.0</td>\n",
       "      <td>6.0</td>\n",
       "    </tr>\n",
       "    <tr>\n",
       "      <th>3</th>\n",
       "      <td>B</td>\n",
       "      <td>D</td>\n",
       "      <td>A</td>\n",
       "      <td>C</td>\n",
       "      <td>A</td>\n",
       "      <td>C</td>\n",
       "      <td>C</td>\n",
       "      <td>C</td>\n",
       "      <td>E</td>\n",
       "      <td>E</td>\n",
       "      <td>...</td>\n",
       "      <td>6.0</td>\n",
       "      <td>6.0</td>\n",
       "      <td>3.0</td>\n",
       "      <td>6.0</td>\n",
       "      <td>6.0</td>\n",
       "      <td>6.0</td>\n",
       "      <td>6.0</td>\n",
       "      <td>6.0</td>\n",
       "      <td>3.0</td>\n",
       "      <td>4.0</td>\n",
       "    </tr>\n",
       "    <tr>\n",
       "      <th>4</th>\n",
       "      <td>B</td>\n",
       "      <td>A</td>\n",
       "      <td>A</td>\n",
       "      <td>D</td>\n",
       "      <td>D</td>\n",
       "      <td>C</td>\n",
       "      <td>D</td>\n",
       "      <td>F</td>\n",
       "      <td>F</td>\n",
       "      <td>D</td>\n",
       "      <td>...</td>\n",
       "      <td>4.0</td>\n",
       "      <td>3.0</td>\n",
       "      <td>3.0</td>\n",
       "      <td>4.0</td>\n",
       "      <td>3.0</td>\n",
       "      <td>5.0</td>\n",
       "      <td>4.0</td>\n",
       "      <td>3.0</td>\n",
       "      <td>4.0</td>\n",
       "      <td>3.0</td>\n",
       "    </tr>\n",
       "  </tbody>\n",
       "</table>\n",
       "<p>5 rows × 68 columns</p>\n",
       "</div>"
      ],
      "text/plain": [
       "  QE_I01 QE_I02 QE_I03 QE_I04 QE_I05 QE_I06 QE_I07 QE_I08 QE_I09 QE_I10  ...  \\\n",
       "0      A      D      A      A      D      B      D      B      A      A  ...   \n",
       "1      A      D      A      B      B      B      D      A      A      A  ...   \n",
       "2      A      C      A      D      D      A      C      A      A      A  ...   \n",
       "3      B      D      A      C      A      C      C      C      E      E  ...   \n",
       "4      B      A      A      D      D      C      D      F      F      D  ...   \n",
       "\n",
       "  QE_I59 QE_I60 QE_I61 QE_I62 QE_I63 QE_I64 QE_I65 QE_I66 QE_I67 QE_I68  \n",
       "0    6.0    6.0    5.0    4.0    4.0    2.0    2.0    6.0    6.0    4.0  \n",
       "1    5.0    5.0    4.0    3.0    3.0    2.0    2.0    2.0    2.0    3.0  \n",
       "2    2.0    4.0    1.0    5.0    2.0    4.0    1.0    5.0    6.0    6.0  \n",
       "3    6.0    6.0    3.0    6.0    6.0    6.0    6.0    6.0    3.0    4.0  \n",
       "4    4.0    3.0    3.0    4.0    3.0    5.0    4.0    3.0    4.0    3.0  \n",
       "\n",
       "[5 rows x 68 columns]"
      ]
     },
     "execution_count": 8,
     "metadata": {},
     "output_type": "execute_result"
    }
   ],
   "source": [
    "# Substituição dos valores do questionário\n",
    "# Questionário 16 tem um valor não catalogado.\n",
    "# Nos valores NaN, vou adicionar a moda dos valores por estar\n",
    "# Dentro de um conjunto de questões categóricas.\n",
    "egeral['QE_I16'] = egeral['QE_I16'].fillna(egeral['QE_I16'].mode())\n",
    "\n",
    "# Substuindo o resto:\n",
    "egeral[questionario[:26]] = egeral[questionario[:26]].fillna('Z')\n",
    "egeral[questionario[26:]] = egeral[questionario[26:]].fillna(7)\n",
    "egeral[questionario].head()"
   ]
  },
  {
   "cell_type": "code",
   "execution_count": 9,
   "metadata": {},
   "outputs": [
    {
     "data": {
      "text/plain": [
       "Index(['NT_GER', 'NT_FG', 'NT_OBJ_FG', 'NT_DIS_FG', 'NT_FG_D1', 'NT_FG_D1_PT',\n",
       "       'NT_FG_D1_CT', 'NT_FG_D2', 'NT_FG_D2_PT', 'NT_FG_D2_CT', 'NT_CE',\n",
       "       'NT_OBJ_CE', 'NT_DIS_CE', 'NT_CE_D1', 'NT_CE_D2', 'NT_CE_D3'],\n",
       "      dtype='object')"
      ]
     },
     "execution_count": 9,
     "metadata": {},
     "output_type": "execute_result"
    }
   ],
   "source": [
    "# Verificando quais colunas sobraram com valores faltantes:\n",
    "filtro_colunas_na = list(egeral.isnull().any())\n",
    "colunas_com_na = egeral.columns[filtro_colunas_na]\n",
    "colunas_com_na"
   ]
  },
  {
   "cell_type": "code",
   "execution_count": 10,
   "metadata": {},
   "outputs": [
    {
     "name": "stdout",
     "output_type": "stream",
     "text": [
      "Quantidade de alunos sem nota: 9\n"
     ]
    }
   ],
   "source": [
    "# Aparentemente alguns alunos estão sem as notas da prova\n",
    "# Isso pode ser devido a um erro dos dados, ou os alunos não estavam presentes na prova.\n",
    "# Verificarei quantos alunos estão sem a nota da prova.\n",
    "filtro_alunos_sem_nota = egeral[colunas_com_na].isnull().any(axis=1)\n",
    "alunos_sem_nota = egeral[filtro_alunos_sem_nota]\n",
    "print(\"Quantidade de alunos sem nota: {}\".format(len(alunos_sem_nota)))"
   ]
  },
  {
   "cell_type": "code",
   "execution_count": 11,
   "metadata": {},
   "outputs": [
    {
     "data": {
      "text/plain": [
       "3570    True\n",
       "3571    True\n",
       "3572    True\n",
       "3573    True\n",
       "3574    True\n",
       "3575    True\n",
       "3576    True\n",
       "3577    True\n",
       "3578    True\n",
       "dtype: bool"
      ]
     },
     "execution_count": 11,
     "metadata": {},
     "output_type": "execute_result"
    }
   ],
   "source": [
    "# Uma coisa interessante é que não existe alunos com apenas algumas notas faltando.\n",
    "# Todos eles não tem nenhuma das notas da prova, o que indica que eles faltaram a prova.\n",
    "alunos_sem_nota[colunas_com_na].isna().all(axis=1)"
   ]
  },
  {
   "cell_type": "code",
   "execution_count": 12,
   "metadata": {},
   "outputs": [
    {
     "data": {
      "text/html": [
       "<div>\n",
       "<style scoped>\n",
       "    .dataframe tbody tr th:only-of-type {\n",
       "        vertical-align: middle;\n",
       "    }\n",
       "\n",
       "    .dataframe tbody tr th {\n",
       "        vertical-align: top;\n",
       "    }\n",
       "\n",
       "    .dataframe thead th {\n",
       "        text-align: right;\n",
       "    }\n",
       "</style>\n",
       "<table border=\"1\" class=\"dataframe\">\n",
       "  <thead>\n",
       "    <tr style=\"text-align: right;\">\n",
       "      <th></th>\n",
       "      <th>NT_GER</th>\n",
       "      <th>NT_FG</th>\n",
       "      <th>NT_OBJ_FG</th>\n",
       "      <th>NT_DIS_FG</th>\n",
       "      <th>NT_FG_D1</th>\n",
       "      <th>NT_FG_D1_PT</th>\n",
       "      <th>NT_FG_D1_CT</th>\n",
       "      <th>NT_FG_D2</th>\n",
       "      <th>NT_FG_D2_PT</th>\n",
       "      <th>NT_FG_D2_CT</th>\n",
       "      <th>NT_CE</th>\n",
       "      <th>NT_OBJ_CE</th>\n",
       "      <th>NT_DIS_CE</th>\n",
       "      <th>NT_CE_D1</th>\n",
       "      <th>NT_CE_D2</th>\n",
       "      <th>NT_CE_D3</th>\n",
       "    </tr>\n",
       "  </thead>\n",
       "  <tbody>\n",
       "    <tr>\n",
       "      <th>3570</th>\n",
       "      <td>0.0</td>\n",
       "      <td>0.0</td>\n",
       "      <td>0.0</td>\n",
       "      <td>0.0</td>\n",
       "      <td>0.0</td>\n",
       "      <td>0.0</td>\n",
       "      <td>0.0</td>\n",
       "      <td>0.0</td>\n",
       "      <td>0.0</td>\n",
       "      <td>0.0</td>\n",
       "      <td>0.0</td>\n",
       "      <td>0.0</td>\n",
       "      <td>0.0</td>\n",
       "      <td>0.0</td>\n",
       "      <td>0.0</td>\n",
       "      <td>0.0</td>\n",
       "    </tr>\n",
       "    <tr>\n",
       "      <th>3571</th>\n",
       "      <td>0.0</td>\n",
       "      <td>0.0</td>\n",
       "      <td>0.0</td>\n",
       "      <td>0.0</td>\n",
       "      <td>0.0</td>\n",
       "      <td>0.0</td>\n",
       "      <td>0.0</td>\n",
       "      <td>0.0</td>\n",
       "      <td>0.0</td>\n",
       "      <td>0.0</td>\n",
       "      <td>0.0</td>\n",
       "      <td>0.0</td>\n",
       "      <td>0.0</td>\n",
       "      <td>0.0</td>\n",
       "      <td>0.0</td>\n",
       "      <td>0.0</td>\n",
       "    </tr>\n",
       "    <tr>\n",
       "      <th>3572</th>\n",
       "      <td>0.0</td>\n",
       "      <td>0.0</td>\n",
       "      <td>0.0</td>\n",
       "      <td>0.0</td>\n",
       "      <td>0.0</td>\n",
       "      <td>0.0</td>\n",
       "      <td>0.0</td>\n",
       "      <td>0.0</td>\n",
       "      <td>0.0</td>\n",
       "      <td>0.0</td>\n",
       "      <td>0.0</td>\n",
       "      <td>0.0</td>\n",
       "      <td>0.0</td>\n",
       "      <td>0.0</td>\n",
       "      <td>0.0</td>\n",
       "      <td>0.0</td>\n",
       "    </tr>\n",
       "    <tr>\n",
       "      <th>3573</th>\n",
       "      <td>0.0</td>\n",
       "      <td>0.0</td>\n",
       "      <td>0.0</td>\n",
       "      <td>0.0</td>\n",
       "      <td>0.0</td>\n",
       "      <td>0.0</td>\n",
       "      <td>0.0</td>\n",
       "      <td>0.0</td>\n",
       "      <td>0.0</td>\n",
       "      <td>0.0</td>\n",
       "      <td>0.0</td>\n",
       "      <td>0.0</td>\n",
       "      <td>0.0</td>\n",
       "      <td>0.0</td>\n",
       "      <td>0.0</td>\n",
       "      <td>0.0</td>\n",
       "    </tr>\n",
       "    <tr>\n",
       "      <th>3574</th>\n",
       "      <td>0.0</td>\n",
       "      <td>0.0</td>\n",
       "      <td>0.0</td>\n",
       "      <td>0.0</td>\n",
       "      <td>0.0</td>\n",
       "      <td>0.0</td>\n",
       "      <td>0.0</td>\n",
       "      <td>0.0</td>\n",
       "      <td>0.0</td>\n",
       "      <td>0.0</td>\n",
       "      <td>0.0</td>\n",
       "      <td>0.0</td>\n",
       "      <td>0.0</td>\n",
       "      <td>0.0</td>\n",
       "      <td>0.0</td>\n",
       "      <td>0.0</td>\n",
       "    </tr>\n",
       "    <tr>\n",
       "      <th>3575</th>\n",
       "      <td>0.0</td>\n",
       "      <td>0.0</td>\n",
       "      <td>0.0</td>\n",
       "      <td>0.0</td>\n",
       "      <td>0.0</td>\n",
       "      <td>0.0</td>\n",
       "      <td>0.0</td>\n",
       "      <td>0.0</td>\n",
       "      <td>0.0</td>\n",
       "      <td>0.0</td>\n",
       "      <td>0.0</td>\n",
       "      <td>0.0</td>\n",
       "      <td>0.0</td>\n",
       "      <td>0.0</td>\n",
       "      <td>0.0</td>\n",
       "      <td>0.0</td>\n",
       "    </tr>\n",
       "    <tr>\n",
       "      <th>3576</th>\n",
       "      <td>0.0</td>\n",
       "      <td>0.0</td>\n",
       "      <td>0.0</td>\n",
       "      <td>0.0</td>\n",
       "      <td>0.0</td>\n",
       "      <td>0.0</td>\n",
       "      <td>0.0</td>\n",
       "      <td>0.0</td>\n",
       "      <td>0.0</td>\n",
       "      <td>0.0</td>\n",
       "      <td>0.0</td>\n",
       "      <td>0.0</td>\n",
       "      <td>0.0</td>\n",
       "      <td>0.0</td>\n",
       "      <td>0.0</td>\n",
       "      <td>0.0</td>\n",
       "    </tr>\n",
       "    <tr>\n",
       "      <th>3577</th>\n",
       "      <td>0.0</td>\n",
       "      <td>0.0</td>\n",
       "      <td>0.0</td>\n",
       "      <td>0.0</td>\n",
       "      <td>0.0</td>\n",
       "      <td>0.0</td>\n",
       "      <td>0.0</td>\n",
       "      <td>0.0</td>\n",
       "      <td>0.0</td>\n",
       "      <td>0.0</td>\n",
       "      <td>0.0</td>\n",
       "      <td>0.0</td>\n",
       "      <td>0.0</td>\n",
       "      <td>0.0</td>\n",
       "      <td>0.0</td>\n",
       "      <td>0.0</td>\n",
       "    </tr>\n",
       "    <tr>\n",
       "      <th>3578</th>\n",
       "      <td>0.0</td>\n",
       "      <td>0.0</td>\n",
       "      <td>0.0</td>\n",
       "      <td>0.0</td>\n",
       "      <td>0.0</td>\n",
       "      <td>0.0</td>\n",
       "      <td>0.0</td>\n",
       "      <td>0.0</td>\n",
       "      <td>0.0</td>\n",
       "      <td>0.0</td>\n",
       "      <td>0.0</td>\n",
       "      <td>0.0</td>\n",
       "      <td>0.0</td>\n",
       "      <td>0.0</td>\n",
       "      <td>0.0</td>\n",
       "      <td>0.0</td>\n",
       "    </tr>\n",
       "  </tbody>\n",
       "</table>\n",
       "</div>"
      ],
      "text/plain": [
       "      NT_GER  NT_FG  NT_OBJ_FG  NT_DIS_FG  NT_FG_D1  NT_FG_D1_PT  NT_FG_D1_CT  \\\n",
       "3570     0.0    0.0        0.0        0.0       0.0          0.0          0.0   \n",
       "3571     0.0    0.0        0.0        0.0       0.0          0.0          0.0   \n",
       "3572     0.0    0.0        0.0        0.0       0.0          0.0          0.0   \n",
       "3573     0.0    0.0        0.0        0.0       0.0          0.0          0.0   \n",
       "3574     0.0    0.0        0.0        0.0       0.0          0.0          0.0   \n",
       "3575     0.0    0.0        0.0        0.0       0.0          0.0          0.0   \n",
       "3576     0.0    0.0        0.0        0.0       0.0          0.0          0.0   \n",
       "3577     0.0    0.0        0.0        0.0       0.0          0.0          0.0   \n",
       "3578     0.0    0.0        0.0        0.0       0.0          0.0          0.0   \n",
       "\n",
       "      NT_FG_D2  NT_FG_D2_PT  NT_FG_D2_CT  NT_CE  NT_OBJ_CE  NT_DIS_CE  \\\n",
       "3570       0.0          0.0          0.0    0.0        0.0        0.0   \n",
       "3571       0.0          0.0          0.0    0.0        0.0        0.0   \n",
       "3572       0.0          0.0          0.0    0.0        0.0        0.0   \n",
       "3573       0.0          0.0          0.0    0.0        0.0        0.0   \n",
       "3574       0.0          0.0          0.0    0.0        0.0        0.0   \n",
       "3575       0.0          0.0          0.0    0.0        0.0        0.0   \n",
       "3576       0.0          0.0          0.0    0.0        0.0        0.0   \n",
       "3577       0.0          0.0          0.0    0.0        0.0        0.0   \n",
       "3578       0.0          0.0          0.0    0.0        0.0        0.0   \n",
       "\n",
       "      NT_CE_D1  NT_CE_D2  NT_CE_D3  \n",
       "3570       0.0       0.0       0.0  \n",
       "3571       0.0       0.0       0.0  \n",
       "3572       0.0       0.0       0.0  \n",
       "3573       0.0       0.0       0.0  \n",
       "3574       0.0       0.0       0.0  \n",
       "3575       0.0       0.0       0.0  \n",
       "3576       0.0       0.0       0.0  \n",
       "3577       0.0       0.0       0.0  \n",
       "3578       0.0       0.0       0.0  "
      ]
     },
     "execution_count": 12,
     "metadata": {},
     "output_type": "execute_result"
    }
   ],
   "source": [
    "# Devido a isso, temos duas opções: Remover estes alunos da base de dados\n",
    "# Para estudar o comportamento apenas dos alunos que participaram, ou dar\n",
    "# A nota 0 para estes alunos que faltaram e contar com eles na análise de todos os alunos.\n",
    "# Como esses alunos sem nota são um número pequeno comparado com a quantidade total de alunos\n",
    "# 9 comparado com 3579 então darei a estes alunos a nota 0 pois os mesmo não terão muita\n",
    "# Influência no resultado das análises posteriores.\n",
    "\n",
    "egeral[colunas_com_na] = egeral[colunas_com_na].fillna(0)\n",
    "egeral[colunas_com_na].iloc[alunos_sem_nota.index]"
   ]
  },
  {
   "cell_type": "code",
   "execution_count": 13,
   "metadata": {},
   "outputs": [
    {
     "data": {
      "text/plain": [
       "0"
      ]
     },
     "execution_count": 13,
     "metadata": {},
     "output_type": "execute_result"
    }
   ],
   "source": [
    "# Verificando se tem alguma coluna com valor NaN\n",
    "# Caso exista, a soma abaixo gera um valor maior que 0\n",
    "sum(egeral.isnull().any())"
   ]
  },
  {
   "cell_type": "markdown",
   "metadata": {},
   "source": [
    "#### Consultando os dados e comparando distribuições"
   ]
  },
  {
   "cell_type": "markdown",
   "metadata": {},
   "source": [
    "<div class=\"alert alert-info\">\n",
    "<b>3</b> - Considerando as distribuições de notas, quem se saiu melhor, os alunos da modalidade presencial ou à distância? _Dica_: boxplots são ótimos para comparar distribuições\n",
    "</div>"
   ]
  },
  {
   "cell_type": "markdown",
   "metadata": {},
   "source": [
    "Para várias questões a partir daqui, vamos eventualmente usar um dataframe extra, onde criamos colunas novas, em geral, que servem para fornecer descrição para outra colunas."
   ]
  },
  {
   "cell_type": "code",
   "execution_count": 14,
   "metadata": {},
   "outputs": [],
   "source": [
    "data = egeral.copy()\n",
    "# Escolhendo colunas\n",
    "colunas = ['NT_GER', 'CO_MODALIDADE']\n",
    "data = data[colunas]"
   ]
  },
  {
   "cell_type": "code",
   "execution_count": 15,
   "metadata": {},
   "outputs": [],
   "source": [
    "# Modalidades:\n",
    "# 0 - Distância\n",
    "# 1 - Presencial\n",
    "notas_dist = data[data['CO_MODALIDADE'] == 0]['NT_GER']\n",
    "notas_pres = data[data['CO_MODALIDADE'] == 1]['NT_GER']"
   ]
  },
  {
   "cell_type": "code",
   "execution_count": 16,
   "metadata": {},
   "outputs": [],
   "source": [
    "# Transformando dados numéricos para categorias\n",
    "data['CO_MODALIDADE'] = data['CO_MODALIDADE'].apply(lambda x: 'Distância' if x == 0 else 'Presencial')"
   ]
  },
  {
   "cell_type": "code",
   "execution_count": 17,
   "metadata": {},
   "outputs": [
    {
     "data": {
      "text/html": [
       "<div>\n",
       "<style scoped>\n",
       "    .dataframe tbody tr th:only-of-type {\n",
       "        vertical-align: middle;\n",
       "    }\n",
       "\n",
       "    .dataframe tbody tr th {\n",
       "        vertical-align: top;\n",
       "    }\n",
       "\n",
       "    .dataframe thead tr th {\n",
       "        text-align: left;\n",
       "    }\n",
       "\n",
       "    .dataframe thead tr:last-of-type th {\n",
       "        text-align: right;\n",
       "    }\n",
       "</style>\n",
       "<table border=\"1\" class=\"dataframe\">\n",
       "  <thead>\n",
       "    <tr>\n",
       "      <th></th>\n",
       "      <th colspan=\"8\" halign=\"left\">NT_GER</th>\n",
       "    </tr>\n",
       "    <tr>\n",
       "      <th></th>\n",
       "      <th>count</th>\n",
       "      <th>mean</th>\n",
       "      <th>std</th>\n",
       "      <th>min</th>\n",
       "      <th>25%</th>\n",
       "      <th>50%</th>\n",
       "      <th>75%</th>\n",
       "      <th>max</th>\n",
       "    </tr>\n",
       "    <tr>\n",
       "      <th>CO_MODALIDADE</th>\n",
       "      <th></th>\n",
       "      <th></th>\n",
       "      <th></th>\n",
       "      <th></th>\n",
       "      <th></th>\n",
       "      <th></th>\n",
       "      <th></th>\n",
       "      <th></th>\n",
       "    </tr>\n",
       "  </thead>\n",
       "  <tbody>\n",
       "    <tr>\n",
       "      <th>Distância</th>\n",
       "      <td>324.0</td>\n",
       "      <td>37.679938</td>\n",
       "      <td>14.300124</td>\n",
       "      <td>0.0</td>\n",
       "      <td>27.4</td>\n",
       "      <td>36.3</td>\n",
       "      <td>45.875</td>\n",
       "      <td>82.4</td>\n",
       "    </tr>\n",
       "    <tr>\n",
       "      <th>Presencial</th>\n",
       "      <td>3255.0</td>\n",
       "      <td>40.050323</td>\n",
       "      <td>13.862370</td>\n",
       "      <td>0.0</td>\n",
       "      <td>30.7</td>\n",
       "      <td>39.3</td>\n",
       "      <td>49.000</td>\n",
       "      <td>87.0</td>\n",
       "    </tr>\n",
       "  </tbody>\n",
       "</table>\n",
       "</div>"
      ],
      "text/plain": [
       "               NT_GER                                                     \n",
       "                count       mean        std  min   25%   50%     75%   max\n",
       "CO_MODALIDADE                                                             \n",
       "Distância       324.0  37.679938  14.300124  0.0  27.4  36.3  45.875  82.4\n",
       "Presencial     3255.0  40.050323  13.862370  0.0  30.7  39.3  49.000  87.0"
      ]
     },
     "execution_count": 17,
     "metadata": {},
     "output_type": "execute_result"
    }
   ],
   "source": [
    "# Verificando distribuição dos dados\n",
    "data.groupby(by='CO_MODALIDADE').describe()"
   ]
  },
  {
   "cell_type": "code",
   "execution_count": 18,
   "metadata": {},
   "outputs": [
    {
     "data": {
      "image/png": "[encoded data removed]",
      "text/plain": [
       "<Figure size 864x432 with 1 Axes>"
      ]
     },
     "metadata": {
      "needs_background": "light"
     },
     "output_type": "display_data"
    }
   ],
   "source": [
    "bp(data, 'CO_MODALIDADE', 'Boxplot: Modalidade e Nota', 'Modalidade', 'Nota')"
   ]
  },
  {
   "cell_type": "code",
   "execution_count": 19,
   "metadata": {},
   "outputs": [
    {
     "data": {
      "image/png": "[encoded data removed]",
      "text/plain": [
       "<Figure size 576x360 with 1 Axes>"
      ]
     },
     "metadata": {
      "needs_background": "light"
     },
     "output_type": "display_data"
    }
   ],
   "source": [
    "# Plotando histograma de densidade\n",
    "density(data=[notas_dist, notas_pres],\n",
    "        title='Histograma: Densidade de Notas',\n",
    "        xlabel='Nota',\n",
    "        ylabel='Quantidade de Pessoas Normalizada',\n",
    "        legend=['Distância', 'Presencial'])"
   ]
  },
  {
   "cell_type": "markdown",
   "metadata": {},
   "source": [
    "Explique os resultados obtidos."
   ]
  },
  {
   "cell_type": "markdown",
   "metadata": {},
   "source": [
    "### Resposta 3:\n",
    "\n",
    "Com o gráfico de caixa, podemos ver que a média dos alunos da modalidade presencial é maior que a média dos alunos a distância. É notável também que embora as notas dos alunos da modalidade presencial sejam mais distantes da média, temos uma maior concentração de notas acima do limite que considera outliers.\n",
    "\n",
    "Olhando para o histograma de densidade, podemos confirmar que os alunos da modalidade presencial tendem a tirar notas maiores que os alunos da modalidade a distância, pois há uma maior porcentagem de alunos da modalidade presencial com nota acima de 40 comparados com os alunos da modalidade a distância."
   ]
  },
  {
   "cell_type": "markdown",
   "metadata": {},
   "source": [
    "<div class=\"alert alert-info\">\n",
    "<b>4</b> - Novamente considere as distribuições de notas. Como se comparam os alunos do turno noturno com os dos demais turnos? Há mais alunos estudando ao dia ou à noite? \n",
    "</div> "
   ]
  },
  {
   "cell_type": "code",
   "execution_count": 20,
   "metadata": {},
   "outputs": [
    {
     "data": {
      "text/html": [
       "<div>\n",
       "<style scoped>\n",
       "    .dataframe tbody tr th:only-of-type {\n",
       "        vertical-align: middle;\n",
       "    }\n",
       "\n",
       "    .dataframe tbody tr th {\n",
       "        vertical-align: top;\n",
       "    }\n",
       "\n",
       "    .dataframe thead th {\n",
       "        text-align: right;\n",
       "    }\n",
       "</style>\n",
       "<table border=\"1\" class=\"dataframe\">\n",
       "  <thead>\n",
       "    <tr style=\"text-align: right;\">\n",
       "      <th></th>\n",
       "      <th>NT_GER</th>\n",
       "      <th>CO_TURNO_GRADUACAO</th>\n",
       "    </tr>\n",
       "  </thead>\n",
       "  <tbody>\n",
       "    <tr>\n",
       "      <th>0</th>\n",
       "      <td>12.1</td>\n",
       "      <td>1.0</td>\n",
       "    </tr>\n",
       "    <tr>\n",
       "      <th>1</th>\n",
       "      <td>25.1</td>\n",
       "      <td>1.0</td>\n",
       "    </tr>\n",
       "    <tr>\n",
       "      <th>2</th>\n",
       "      <td>47.3</td>\n",
       "      <td>1.0</td>\n",
       "    </tr>\n",
       "    <tr>\n",
       "      <th>3</th>\n",
       "      <td>24.4</td>\n",
       "      <td>4.0</td>\n",
       "    </tr>\n",
       "    <tr>\n",
       "      <th>4</th>\n",
       "      <td>64.9</td>\n",
       "      <td>4.0</td>\n",
       "    </tr>\n",
       "  </tbody>\n",
       "</table>\n",
       "</div>"
      ],
      "text/plain": [
       "   NT_GER  CO_TURNO_GRADUACAO\n",
       "0    12.1                 1.0\n",
       "1    25.1                 1.0\n",
       "2    47.3                 1.0\n",
       "3    24.4                 4.0\n",
       "4    64.9                 4.0"
      ]
     },
     "execution_count": 20,
     "metadata": {},
     "output_type": "execute_result"
    }
   ],
   "source": [
    "# Novo dataframe\n",
    "data = egeral.copy()\n",
    "colunas = ['NT_GER', 'CO_TURNO_GRADUACAO']\n",
    "data = data[colunas]\n",
    "data.head()"
   ]
  },
  {
   "cell_type": "code",
   "execution_count": 21,
   "metadata": {},
   "outputs": [
    {
     "name": "stdout",
     "output_type": "stream",
     "text": [
      "Quantida de alunos:  3579\n"
     ]
    }
   ],
   "source": [
    "# Quantidade de alunos no total\n",
    "print(\"Quantida de alunos: \", len(data))"
   ]
  },
  {
   "cell_type": "code",
   "execution_count": 22,
   "metadata": {},
   "outputs": [],
   "source": [
    "# Transformando dados numéricos para categorias\n",
    "categorias = ['Matutino', 'Vespertino', 'Integral', 'Noturno']\n",
    "data['CO_TURNO_GRADUACAO'] = data['CO_TURNO_GRADUACAO'].apply(lambda x: categorias[int(x) - 1])"
   ]
  },
  {
   "cell_type": "code",
   "execution_count": 23,
   "metadata": {},
   "outputs": [
    {
     "data": {
      "text/html": [
       "<div>\n",
       "<style scoped>\n",
       "    .dataframe tbody tr th:only-of-type {\n",
       "        vertical-align: middle;\n",
       "    }\n",
       "\n",
       "    .dataframe tbody tr th {\n",
       "        vertical-align: top;\n",
       "    }\n",
       "\n",
       "    .dataframe thead tr th {\n",
       "        text-align: left;\n",
       "    }\n",
       "\n",
       "    .dataframe thead tr:last-of-type th {\n",
       "        text-align: right;\n",
       "    }\n",
       "</style>\n",
       "<table border=\"1\" class=\"dataframe\">\n",
       "  <thead>\n",
       "    <tr>\n",
       "      <th></th>\n",
       "      <th colspan=\"8\" halign=\"left\">NT_GER</th>\n",
       "    </tr>\n",
       "    <tr>\n",
       "      <th></th>\n",
       "      <th>count</th>\n",
       "      <th>mean</th>\n",
       "      <th>std</th>\n",
       "      <th>min</th>\n",
       "      <th>25%</th>\n",
       "      <th>50%</th>\n",
       "      <th>75%</th>\n",
       "      <th>max</th>\n",
       "    </tr>\n",
       "    <tr>\n",
       "      <th>CO_TURNO_GRADUACAO</th>\n",
       "      <th></th>\n",
       "      <th></th>\n",
       "      <th></th>\n",
       "      <th></th>\n",
       "      <th></th>\n",
       "      <th></th>\n",
       "      <th></th>\n",
       "      <th></th>\n",
       "    </tr>\n",
       "  </thead>\n",
       "  <tbody>\n",
       "    <tr>\n",
       "      <th>Integral</th>\n",
       "      <td>928.0</td>\n",
       "      <td>40.665948</td>\n",
       "      <td>14.035016</td>\n",
       "      <td>0.0</td>\n",
       "      <td>31.375</td>\n",
       "      <td>40.0</td>\n",
       "      <td>50.125</td>\n",
       "      <td>79.7</td>\n",
       "    </tr>\n",
       "    <tr>\n",
       "      <th>Matutino</th>\n",
       "      <td>510.0</td>\n",
       "      <td>39.046863</td>\n",
       "      <td>14.167813</td>\n",
       "      <td>0.0</td>\n",
       "      <td>29.800</td>\n",
       "      <td>37.5</td>\n",
       "      <td>47.450</td>\n",
       "      <td>87.0</td>\n",
       "    </tr>\n",
       "    <tr>\n",
       "      <th>Noturno</th>\n",
       "      <td>1682.0</td>\n",
       "      <td>40.222354</td>\n",
       "      <td>13.886250</td>\n",
       "      <td>0.0</td>\n",
       "      <td>30.900</td>\n",
       "      <td>39.4</td>\n",
       "      <td>49.000</td>\n",
       "      <td>82.9</td>\n",
       "    </tr>\n",
       "    <tr>\n",
       "      <th>Vespertino</th>\n",
       "      <td>459.0</td>\n",
       "      <td>37.616993</td>\n",
       "      <td>13.268244</td>\n",
       "      <td>0.0</td>\n",
       "      <td>28.450</td>\n",
       "      <td>36.1</td>\n",
       "      <td>46.800</td>\n",
       "      <td>84.7</td>\n",
       "    </tr>\n",
       "  </tbody>\n",
       "</table>\n",
       "</div>"
      ],
      "text/plain": [
       "                    NT_GER                                                   \\\n",
       "                     count       mean        std  min     25%   50%     75%   \n",
       "CO_TURNO_GRADUACAO                                                            \n",
       "Integral             928.0  40.665948  14.035016  0.0  31.375  40.0  50.125   \n",
       "Matutino             510.0  39.046863  14.167813  0.0  29.800  37.5  47.450   \n",
       "Noturno             1682.0  40.222354  13.886250  0.0  30.900  39.4  49.000   \n",
       "Vespertino           459.0  37.616993  13.268244  0.0  28.450  36.1  46.800   \n",
       "\n",
       "                          \n",
       "                     max  \n",
       "CO_TURNO_GRADUACAO        \n",
       "Integral            79.7  \n",
       "Matutino            87.0  \n",
       "Noturno             82.9  \n",
       "Vespertino          84.7  "
      ]
     },
     "execution_count": 23,
     "metadata": {},
     "output_type": "execute_result"
    }
   ],
   "source": [
    "# Dados sobre turnos\n",
    "data.groupby(by='CO_TURNO_GRADUACAO').describe()"
   ]
  },
  {
   "cell_type": "code",
   "execution_count": 24,
   "metadata": {},
   "outputs": [
    {
     "data": {
      "image/png": "[encoded data removed]",
      "text/plain": [
       "<Figure size 864x432 with 1 Axes>"
      ]
     },
     "metadata": {
      "needs_background": "light"
     },
     "output_type": "display_data"
    }
   ],
   "source": [
    "# Plotando gráfico\n",
    "bp(data, 'CO_TURNO_GRADUACAO', 'Boxplot: Turno e Nota', 'Turno', 'Nota')"
   ]
  },
  {
   "cell_type": "markdown",
   "metadata": {},
   "source": [
    "Explique os resultados obtidos."
   ]
  },
  {
   "cell_type": "markdown",
   "metadata": {},
   "source": [
    "### Resposta 4:\n",
    "\n",
    "**4.1:** O turno noturno, em relação a média, tem notas maiores que os turnos matutino e vespertino, mas se sai pior que o turno integral.\n",
    "\n",
    "O turno noturno, quando comparado ao turno integral, tem um número maior de outliers. Isso pode indicar que existe uma maior variabilidade entre as notas dos alunos do turno noturno, enquanto os alunos de tempo integral tendem a tirar notas mais próximas da média.\n",
    "\n",
    "**4.2:** Existem 3579 na base de dados, sendo 1682 do período noturno e 1897 dos turnos restantes combinados, portanto, se considerarmos o período integral como manhã e tarde, há um número maior de alunos estudando ao dia que à noite."
   ]
  },
  {
   "cell_type": "markdown",
   "metadata": {},
   "source": [
    "<div class=\"alert alert-info\">\n",
    "<b>5</b> - Em geral, o MEC acredita que **não** há importantes diferenças de desepenho entre alunos quotistas e não quotistas. Isto é o que você observa, considerando as distribuições de notas dos dois grupos? _Dica_: não são quotistas os alunos que responderam A à pergunta QE_I15.\n",
    "</div>"
   ]
  },
  {
   "cell_type": "code",
   "execution_count": 25,
   "metadata": {},
   "outputs": [
    {
     "data": {
      "text/html": [
       "<div>\n",
       "<style scoped>\n",
       "    .dataframe tbody tr th:only-of-type {\n",
       "        vertical-align: middle;\n",
       "    }\n",
       "\n",
       "    .dataframe tbody tr th {\n",
       "        vertical-align: top;\n",
       "    }\n",
       "\n",
       "    .dataframe thead th {\n",
       "        text-align: right;\n",
       "    }\n",
       "</style>\n",
       "<table border=\"1\" class=\"dataframe\">\n",
       "  <thead>\n",
       "    <tr style=\"text-align: right;\">\n",
       "      <th></th>\n",
       "      <th>NT_GER</th>\n",
       "      <th>QE_I15</th>\n",
       "    </tr>\n",
       "  </thead>\n",
       "  <tbody>\n",
       "    <tr>\n",
       "      <th>0</th>\n",
       "      <td>12.1</td>\n",
       "      <td>D</td>\n",
       "    </tr>\n",
       "    <tr>\n",
       "      <th>1</th>\n",
       "      <td>25.1</td>\n",
       "      <td>C</td>\n",
       "    </tr>\n",
       "    <tr>\n",
       "      <th>2</th>\n",
       "      <td>47.3</td>\n",
       "      <td>A</td>\n",
       "    </tr>\n",
       "    <tr>\n",
       "      <th>3</th>\n",
       "      <td>24.4</td>\n",
       "      <td>B</td>\n",
       "    </tr>\n",
       "    <tr>\n",
       "      <th>4</th>\n",
       "      <td>64.9</td>\n",
       "      <td>A</td>\n",
       "    </tr>\n",
       "  </tbody>\n",
       "</table>\n",
       "</div>"
      ],
      "text/plain": [
       "   NT_GER QE_I15\n",
       "0    12.1      D\n",
       "1    25.1      C\n",
       "2    47.3      A\n",
       "3    24.4      B\n",
       "4    64.9      A"
      ]
     },
     "execution_count": 25,
     "metadata": {},
     "output_type": "execute_result"
    }
   ],
   "source": [
    "colunas = ['NT_GER', 'QE_I15']\n",
    "data = egeral[colunas]\n",
    "data.head()"
   ]
  },
  {
   "cell_type": "code",
   "execution_count": 26,
   "metadata": {},
   "outputs": [],
   "source": [
    "# Removendo dados com Z por não ter resposta\n",
    "data = data.drop(data[data['QE_I15'] == 'Z'].index)"
   ]
  },
  {
   "cell_type": "code",
   "execution_count": 27,
   "metadata": {},
   "outputs": [
    {
     "data": {
      "image/png": "[encoded data removed]",
      "text/plain": [
       "<Figure size 864x432 with 1 Axes>"
      ]
     },
     "metadata": {
      "needs_background": "light"
     },
     "output_type": "display_data"
    }
   ],
   "source": [
    "# Plotando gráfico\n",
    "bp(data, 'QE_I15', 'Boxplot: Categorias de Quota', 'Categoria', 'Nota')"
   ]
  },
  {
   "cell_type": "code",
   "execution_count": 28,
   "metadata": {},
   "outputs": [],
   "source": [
    "# Juntando alunos cotistas em uma categoria:\n",
    "data['QE_I15'] = data['QE_I15'].apply(lambda x: 'Q' if x != 'A' else 'A')\n",
    "\n",
    "notas_nq = data[data['QE_I15'] == 'A']['NT_GER']\n",
    "notas_q = data[data['QE_I15'] == 'Q']['NT_GER']"
   ]
  },
  {
   "cell_type": "code",
   "execution_count": 29,
   "metadata": {},
   "outputs": [
    {
     "data": {
      "image/png": "[encoded data removed]",
      "text/plain": [
       "<Figure size 864x432 with 1 Axes>"
      ]
     },
     "metadata": {
      "needs_background": "light"
     },
     "output_type": "display_data"
    }
   ],
   "source": [
    "# Plotando Gráfico\n",
    "bp(data, 'QE_I15', 'Boxplot: Categorias de Quota', 'Categoria', 'Nota')"
   ]
  },
  {
   "cell_type": "code",
   "execution_count": 30,
   "metadata": {},
   "outputs": [
    {
     "data": {
      "image/png": "[encoded data removed]",
      "text/plain": [
       "<Figure size 576x360 with 1 Axes>"
      ]
     },
     "metadata": {
      "needs_background": "light"
     },
     "output_type": "display_data"
    }
   ],
   "source": [
    "# Plotando histograma de densidade\n",
    "density(data=[notas_nq, notas_q],\n",
    "        title='Histograma: Densidade de Notas',\n",
    "        xlabel='Nota',\n",
    "        ylabel='Quantidade de Pessoas Normalizada',\n",
    "        legend=[\"Não Quotista\", \"Quotista\"])"
   ]
  },
  {
   "cell_type": "markdown",
   "metadata": {},
   "source": [
    "Explique os resultados obtidos."
   ]
  },
  {
   "cell_type": "markdown",
   "metadata": {},
   "source": [
    "### Resposta 5:\n",
    "\n",
    "Através do boxplot entre as diversas categorias de alunos quotistas, podemos ver uma pequena variação entre as notas dos alunos não quotistas e quotistas, porém, ao agrupar os alunos quotistas em apenas 1 categoria, vemos que as notas são bem similares.\n",
    "\n",
    "O gráfico de densidade mostra também que os alunos quotistas tem notas que são mais centralizadas, equanto as notas dos alunos não quotistas estão mais dispersas entre notas ruins e boas.\n",
    "\n",
    "Portanto, para o curso de física, alunos quotistas não parecem ter nenhuma diferença significativa de desempenho comparado aos alunos não quotistas."
   ]
  },
  {
   "cell_type": "markdown",
   "metadata": {},
   "source": [
    "<div class=\"alert alert-info\">\n",
    "<b>6</b> - Como se comparam os desempenhos dos alunos de instituíções públicas, privadas sem fim lucrativo e privadas com fim lucrativo?\n",
    "</div>"
   ]
  },
  {
   "cell_type": "code",
   "execution_count": 31,
   "metadata": {},
   "outputs": [
    {
     "data": {
      "text/html": [
       "<div>\n",
       "<style scoped>\n",
       "    .dataframe tbody tr th:only-of-type {\n",
       "        vertical-align: middle;\n",
       "    }\n",
       "\n",
       "    .dataframe tbody tr th {\n",
       "        vertical-align: top;\n",
       "    }\n",
       "\n",
       "    .dataframe thead th {\n",
       "        text-align: right;\n",
       "    }\n",
       "</style>\n",
       "<table border=\"1\" class=\"dataframe\">\n",
       "  <thead>\n",
       "    <tr style=\"text-align: right;\">\n",
       "      <th></th>\n",
       "      <th>NT_GER</th>\n",
       "      <th>CO_CATEGAD</th>\n",
       "    </tr>\n",
       "  </thead>\n",
       "  <tbody>\n",
       "    <tr>\n",
       "      <th>0</th>\n",
       "      <td>12.1</td>\n",
       "      <td>1</td>\n",
       "    </tr>\n",
       "    <tr>\n",
       "      <th>1</th>\n",
       "      <td>25.1</td>\n",
       "      <td>1</td>\n",
       "    </tr>\n",
       "    <tr>\n",
       "      <th>2</th>\n",
       "      <td>47.3</td>\n",
       "      <td>1</td>\n",
       "    </tr>\n",
       "    <tr>\n",
       "      <th>3</th>\n",
       "      <td>24.4</td>\n",
       "      <td>1</td>\n",
       "    </tr>\n",
       "    <tr>\n",
       "      <th>4</th>\n",
       "      <td>64.9</td>\n",
       "      <td>1</td>\n",
       "    </tr>\n",
       "  </tbody>\n",
       "</table>\n",
       "</div>"
      ],
      "text/plain": [
       "   NT_GER  CO_CATEGAD\n",
       "0    12.1           1\n",
       "1    25.1           1\n",
       "2    47.3           1\n",
       "3    24.4           1\n",
       "4    64.9           1"
      ]
     },
     "execution_count": 31,
     "metadata": {},
     "output_type": "execute_result"
    }
   ],
   "source": [
    "data = egeral.copy()\n",
    "colunas = ['NT_GER', 'CO_CATEGAD']\n",
    "data = data[colunas]\n",
    "data.head()"
   ]
  },
  {
   "cell_type": "code",
   "execution_count": 32,
   "metadata": {},
   "outputs": [],
   "source": [
    "# Removendo dados com 7 por não ter resposta\n",
    "data = data.drop(data[data['CO_CATEGAD'] == 7].index)"
   ]
  },
  {
   "cell_type": "code",
   "execution_count": 33,
   "metadata": {},
   "outputs": [
    {
     "data": {
      "text/plain": [
       "[1, 2, 3, 4, 5]"
      ]
     },
     "execution_count": 33,
     "metadata": {},
     "output_type": "execute_result"
    }
   ],
   "source": [
    "sorted(data['CO_CATEGAD'].unique())"
   ]
  },
  {
   "cell_type": "code",
   "execution_count": 34,
   "metadata": {},
   "outputs": [],
   "source": [
    "categorias = ['Pública Federal', 'Pública Estadual', 'Pública Municipal',\n",
    "              'Privada com FL', 'Privada sem FL', 'Especial']\n",
    "data['CO_CATEGAD'] = data['CO_CATEGAD'].apply(lambda x: categorias[x - 1])"
   ]
  },
  {
   "cell_type": "code",
   "execution_count": 35,
   "metadata": {},
   "outputs": [
    {
     "data": {
      "image/png": "[encoded data removed]",
      "text/plain": [
       "<Figure size 864x432 with 1 Axes>"
      ]
     },
     "metadata": {
      "needs_background": "light"
     },
     "output_type": "display_data"
    }
   ],
   "source": [
    "# Plotando gráfico\n",
    "bp(data, 'CO_CATEGAD', 'Boxplot: Categorias de Instituição', 'Categoria', 'Nota')"
   ]
  },
  {
   "cell_type": "code",
   "execution_count": 36,
   "metadata": {},
   "outputs": [
    {
     "name": "stdout",
     "output_type": "stream",
     "text": [
      "Instituição: Pública Federal, Qnt Alunos: 2461\n",
      "Instituição: Pública Estadual, Qnt Alunos: 708\n",
      "Instituição: Pública Municipal, Qnt Alunos: 5\n",
      "Instituição: Privada com FL, Qnt Alunos: 67\n",
      "Instituição: Privada sem FL, Qnt Alunos: 333\n",
      "Instituição: Especial, Qnt Alunos: 0\n"
     ]
    }
   ],
   "source": [
    "for index, categoria in enumerate(categorias):\n",
    "    print(\"Instituição: {}, Qnt Alunos: {}\".format(categoria, len(data[data['CO_CATEGAD'] == categorias[index]]['NT_GER'])))"
   ]
  },
  {
   "cell_type": "code",
   "execution_count": 37,
   "metadata": {},
   "outputs": [],
   "source": [
    "# Agrupando alunos de instituições públicas:\n",
    "categorias_publicas = ['Pública Federal', 'Pública Estadual', 'Pública Municipal']\n",
    "data['INSTITUICAO'] = data['CO_CATEGAD'].apply(lambda x: 'Pública' if x in categorias_publicas else x)"
   ]
  },
  {
   "cell_type": "code",
   "execution_count": 38,
   "metadata": {},
   "outputs": [
    {
     "data": {
      "image/png": "[encoded data removed]",
      "text/plain": [
       "<Figure size 864x432 with 1 Axes>"
      ]
     },
     "metadata": {
      "needs_background": "light"
     },
     "output_type": "display_data"
    }
   ],
   "source": [
    "bp(data, 'INSTITUICAO', 'Boxplot: Categorias de Instituição', 'Categoria', 'Nota')"
   ]
  },
  {
   "cell_type": "markdown",
   "metadata": {},
   "source": [
    "Comente sobre os resultados obtidos."
   ]
  },
  {
   "cell_type": "markdown",
   "metadata": {},
   "source": [
    "### Resposta 6:\n",
    "\n",
    "Por conta da baixa quantidade de alunos das instituições públicas municipais, preferi agrupar os alunos das universidades públicas em um só grupo.\n",
    "\n",
    "A partir dos gráficos anteriores, instituições privadas sem fins lucrativos parecem ter o melhor entre os 3 tipos de instituições, com universidades públicas e privadas com fins lucrativos em segundo e terceiro respectivamente."
   ]
  },
  {
   "cell_type": "markdown",
   "metadata": {},
   "source": [
    "#### Cruzando dados"
   ]
  },
  {
   "cell_type": "markdown",
   "metadata": {},
   "source": [
    "Os motivos elencados para descrever o que leva um candidato a escolher seu curso incluem:\n",
    "\n",
    "A = Inserção no mercado de trabalho.<br>B = Influência familiar.<br>C = Valorização profissional.<br>D = Prestígio Social.<br>E = Vocação.<br>F = Oferecimento do curso na modalidade a distância.<br>G = Baixa concorrência para ingresso.<br>H = Outro motivo. \n",
    "\n",
    "<div class=\"alert alert-info\">\n",
    "<b>7</b> - Cruze a informação sobre o turno do curso do aluno com a resposta dada a esta pergunta (QE_I25), de forma a obter, para os motivos dados, o percentual de alunos que os escolheram, de acordo com os cursos realizados.\n",
    "</div>"
   ]
  },
  {
   "cell_type": "code",
   "execution_count": 39,
   "metadata": {},
   "outputs": [
    {
     "data": {
      "text/html": [
       "<div>\n",
       "<style scoped>\n",
       "    .dataframe tbody tr th:only-of-type {\n",
       "        vertical-align: middle;\n",
       "    }\n",
       "\n",
       "    .dataframe tbody tr th {\n",
       "        vertical-align: top;\n",
       "    }\n",
       "\n",
       "    .dataframe thead th {\n",
       "        text-align: right;\n",
       "    }\n",
       "</style>\n",
       "<table border=\"1\" class=\"dataframe\">\n",
       "  <thead>\n",
       "    <tr style=\"text-align: right;\">\n",
       "      <th></th>\n",
       "      <th>CO_TURNO_GRADUACAO</th>\n",
       "      <th>QE_I25</th>\n",
       "    </tr>\n",
       "  </thead>\n",
       "  <tbody>\n",
       "    <tr>\n",
       "      <th>0</th>\n",
       "      <td>Matutino</td>\n",
       "      <td>H</td>\n",
       "    </tr>\n",
       "    <tr>\n",
       "      <th>1</th>\n",
       "      <td>Matutino</td>\n",
       "      <td>H</td>\n",
       "    </tr>\n",
       "    <tr>\n",
       "      <th>2</th>\n",
       "      <td>Matutino</td>\n",
       "      <td>G</td>\n",
       "    </tr>\n",
       "    <tr>\n",
       "      <th>3</th>\n",
       "      <td>Noturno</td>\n",
       "      <td>H</td>\n",
       "    </tr>\n",
       "    <tr>\n",
       "      <th>4</th>\n",
       "      <td>Noturno</td>\n",
       "      <td>E</td>\n",
       "    </tr>\n",
       "  </tbody>\n",
       "</table>\n",
       "</div>"
      ],
      "text/plain": [
       "  CO_TURNO_GRADUACAO QE_I25\n",
       "0           Matutino      H\n",
       "1           Matutino      H\n",
       "2           Matutino      G\n",
       "3            Noturno      H\n",
       "4            Noturno      E"
      ]
     },
     "execution_count": 39,
     "metadata": {},
     "output_type": "execute_result"
    }
   ],
   "source": [
    "data = egeral.copy()\n",
    "colunas = ['CO_TURNO_GRADUACAO', 'QE_I25']\n",
    "data = data[colunas]\n",
    "\n",
    "# Convertendo turno de números para categorias:\n",
    "categorias = ['Matutino', 'Vespertino', 'Integral', 'Noturno']\n",
    "data['CO_TURNO_GRADUACAO'] = data['CO_TURNO_GRADUACAO'].apply(lambda x: categorias[int(x) - 1])\n",
    "\n",
    "# Removendo valores com Z\n",
    "data = data[data['QE_I25'] != 'Z']\n",
    "\n",
    "data.head()"
   ]
  },
  {
   "cell_type": "code",
   "execution_count": 40,
   "metadata": {},
   "outputs": [
    {
     "data": {
      "image/png": "[encoded data removed]",
      "text/plain": [
       "<Figure size 504x504 with 1 Axes>"
      ]
     },
     "metadata": {},
     "output_type": "display_data"
    },
    {
     "data": {
      "image/png": "[encoded data removed]",
      "text/plain": [
       "<Figure size 504x504 with 1 Axes>"
      ]
     },
     "metadata": {},
     "output_type": "display_data"
    },
    {
     "data": {
      "image/png": "[encoded data removed]",
      "text/plain": [
       "<Figure size 504x504 with 1 Axes>"
      ]
     },
     "metadata": {},
     "output_type": "display_data"
    },
    {
     "data": {
      "image/png": "[encoded data removed]",
      "text/plain": [
       "<Figure size 504x504 with 1 Axes>"
      ]
     },
     "metadata": {},
     "output_type": "display_data"
    }
   ],
   "source": [
    "gv = lambda x:data[data['CO_TURNO_GRADUACAO'] == x]['QE_I25'].value_counts()\n",
    "for categoria in categorias:\n",
    "    v = gv(categoria)\n",
    "    v = v.sort_index()\n",
    "    fig, ax = plt.subplots(1, 1, figsize=(7,7))\n",
    "    plt.title(categoria)\n",
    "    plt.pie(v.values, labels=v.index, autopct='%1.1f%%', startangle=140)\n",
    "plt.show()"
   ]
  },
  {
   "cell_type": "markdown",
   "metadata": {},
   "source": [
    "Comente sobre os resultados obtidos."
   ]
  },
  {
   "cell_type": "markdown",
   "metadata": {},
   "source": [
    "### Resposta 7:\n",
    "Segundo os gráficos anteriores, vemos que não há uma grande variação da motivação dos alunos entre os diversos turnos.\n",
    "\n",
    "Em primeiro lugar temos como motivo a vocação do aluno pelo curso de física. Para os alunos do turno vespertino, a inserção no mercado de trabalho é o segundo maior motivo enquanto para os outros turnos a opção \"Outro motivo\" foi a segunda mais marcada.\n",
    "\n",
    "Em terceiro e quarto lugar temos ou inserção no mercado de trabalho ou \"Outros motivos\". Por fim, temos que alunos do período integral tem motivos de valorização profissional enquanto os alunos dos outros turnos escolheram o curso pela baxa concorrência de ingresso."
   ]
  },
  {
   "cell_type": "markdown",
   "metadata": {},
   "source": [
    "Considerando as seguintes faixas de renda (QE_I08):\n",
    "\n",
    "A = Até 1,5 salário mínimo (até R\\$ 1.086,00).\n",
    "\n",
    "B = De 1,5 a 3 salários mínimos (R\\$ 1.086,01 a R\\$ 2.172,00).<br>\n",
    "C = De 3 a 4,5 salários mínimos (R\\$ 2.172,01 a R\\$ 3.258,00).<br>D = De 4,5 a 6 salários mínimos (R\\$ 3.258,01 a R\\$ 4.344,00).<br>E = De 6 a 10 salários mínimos (R\\$ 4.344,01 a R\\$ 7.240,00).<br>F = De 10 a 30 salários mínimos (R\\$ 7.240,01 a R\\$ 21.720,00).<br>G = Acima de 30 salários mínimos (mais de R\\$ 21.720,01).\n",
    "\n",
    "<div class=\"alert alert-info\">\n",
    "<b>8</b> - É verdade que, quando comparado às instituíções privadas, estão nos cursos das universidades federais tanto os estudantes mais pobres quanto os mais ricos do país?\n",
    "</div>"
   ]
  },
  {
   "cell_type": "code",
   "execution_count": 41,
   "metadata": {},
   "outputs": [],
   "source": [
    "data = egeral.copy()\n",
    "colunas = ['QE_I08', 'CO_CATEGAD']\n",
    "data = data[colunas]\n",
    "\n",
    "# Removendo dados com 7 por não ter resposta\n",
    "data = data.drop(data[data['CO_CATEGAD'] == 7].index)\n",
    "data = data.drop(data[data['QE_I08'] == 'Z'].index)\n",
    "\n",
    "categorias = ['Pública Federal', 'Pública Estadual', 'Pública Municipal',\n",
    "              'Privada com FL', 'Privada sem FL', 'Especial']\n",
    "data['CO_CATEGAD'] = data['CO_CATEGAD'].apply(lambda x: categorias[x - 1])\n",
    "\n",
    "# Agrupando alunos de instituições públicas:\n",
    "categorias_publicas = ['Pública Federal', 'Pública Estadual', 'Pública Municipal']\n",
    "data['INSTITUICAO'] = data['CO_CATEGAD'].apply(lambda x: 'Pública' if x in categorias_publicas else 'Privada')"
   ]
  },
  {
   "cell_type": "code",
   "execution_count": 42,
   "metadata": {},
   "outputs": [
    {
     "data": {
      "text/html": [
       "<div>\n",
       "<style scoped>\n",
       "    .dataframe tbody tr th:only-of-type {\n",
       "        vertical-align: middle;\n",
       "    }\n",
       "\n",
       "    .dataframe tbody tr th {\n",
       "        vertical-align: top;\n",
       "    }\n",
       "\n",
       "    .dataframe thead th {\n",
       "        text-align: right;\n",
       "    }\n",
       "</style>\n",
       "<table border=\"1\" class=\"dataframe\">\n",
       "  <thead>\n",
       "    <tr style=\"text-align: right;\">\n",
       "      <th></th>\n",
       "      <th>QE_I08</th>\n",
       "      <th>CO_CATEGAD</th>\n",
       "      <th>INSTITUICAO</th>\n",
       "    </tr>\n",
       "  </thead>\n",
       "  <tbody>\n",
       "    <tr>\n",
       "      <th>0</th>\n",
       "      <td>B</td>\n",
       "      <td>Pública Federal</td>\n",
       "      <td>Pública</td>\n",
       "    </tr>\n",
       "    <tr>\n",
       "      <th>1</th>\n",
       "      <td>A</td>\n",
       "      <td>Pública Federal</td>\n",
       "      <td>Pública</td>\n",
       "    </tr>\n",
       "    <tr>\n",
       "      <th>2</th>\n",
       "      <td>A</td>\n",
       "      <td>Pública Federal</td>\n",
       "      <td>Pública</td>\n",
       "    </tr>\n",
       "    <tr>\n",
       "      <th>3</th>\n",
       "      <td>C</td>\n",
       "      <td>Pública Federal</td>\n",
       "      <td>Pública</td>\n",
       "    </tr>\n",
       "    <tr>\n",
       "      <th>4</th>\n",
       "      <td>F</td>\n",
       "      <td>Pública Federal</td>\n",
       "      <td>Pública</td>\n",
       "    </tr>\n",
       "  </tbody>\n",
       "</table>\n",
       "</div>"
      ],
      "text/plain": [
       "  QE_I08       CO_CATEGAD INSTITUICAO\n",
       "0      B  Pública Federal     Pública\n",
       "1      A  Pública Federal     Pública\n",
       "2      A  Pública Federal     Pública\n",
       "3      C  Pública Federal     Pública\n",
       "4      F  Pública Federal     Pública"
      ]
     },
     "execution_count": 42,
     "metadata": {},
     "output_type": "execute_result"
    }
   ],
   "source": [
    "data.head()"
   ]
  },
  {
   "cell_type": "code",
   "execution_count": 43,
   "metadata": {},
   "outputs": [
    {
     "name": "stdout",
     "output_type": "stream",
     "text": [
      "A    0.271813\n",
      "B    0.292248\n",
      "C    0.192994\n",
      "D    0.093740\n",
      "E    0.085955\n",
      "F    0.059358\n",
      "G    0.003892\n",
      "Name: QE_I08, dtype: float64\n",
      "A    0.131980\n",
      "B    0.284264\n",
      "C    0.228426\n",
      "D    0.131980\n",
      "E    0.142132\n",
      "F    0.071066\n",
      "G    0.010152\n",
      "Name: QE_I08, dtype: float64\n"
     ]
    }
   ],
   "source": [
    "print(data[data['INSTITUICAO'] == 'Pública']['QE_I08'].value_counts(normalize=True).sort_index())\n",
    "print(data[data['INSTITUICAO'] == 'Privada']['QE_I08'].value_counts(normalize=True).sort_index())"
   ]
  },
  {
   "cell_type": "code",
   "execution_count": 44,
   "metadata": {},
   "outputs": [
    {
     "data": {
      "image/png": "[encoded data removed]",
      "text/plain": [
       "<Figure size 504x504 with 1 Axes>"
      ]
     },
     "metadata": {},
     "output_type": "display_data"
    },
    {
     "data": {
      "image/png": "[encoded data removed]",
      "text/plain": [
       "<Figure size 504x504 with 1 Axes>"
      ]
     },
     "metadata": {},
     "output_type": "display_data"
    }
   ],
   "source": [
    "gv = lambda x:data[data['INSTITUICAO'] == x]['QE_I08'].value_counts()\n",
    "for categoria in ['Pública', 'Privada']:\n",
    "    v = gv(categoria)\n",
    "    v = v.sort_index()\n",
    "    fig, ax = plt.subplots(1, 1, figsize=(7,7))\n",
    "    plt.title(categoria)\n",
    "    plt.pie(v.values, labels=v.index, autopct='%1.1f%%', startangle=140)\n",
    "plt.show()"
   ]
  },
  {
   "cell_type": "markdown",
   "metadata": {},
   "source": [
    "Comente sobre os resultados."
   ]
  },
  {
   "cell_type": "markdown",
   "metadata": {},
   "source": [
    "### Resposta 8:\n",
    "Podemos observar nos gráficos que as instituições de ensino públicas tem maior quantidade de alunos de baixa renda (A e B) comparado as instituições de ensino privado e o contrário acontece nas instituições de ensino privadas (maior quantidade de alunos de alta renda)."
   ]
  },
  {
   "cell_type": "markdown",
   "metadata": {},
   "source": [
    "#### Obtendo valor consolidado sobre dados cruzados (pivô)"
   ]
  },
  {
   "cell_type": "markdown",
   "metadata": {},
   "source": [
    "Considerando como foi o ensino médio dos alunos, de acordo com as opções em QE_I17:\n",
    "\n",
    "A = Todo em escola pública.<br>B = Todo em escola privada (particular).<br>C = Todo no exterior.<br>D = A maior parte em escola pública.<br>E = A maior parte em escola privada (particular).<br>F = Parte no Brasil e parte no exterior.\n",
    "\n",
    "<div class=\"alert alert-info\">\n",
    "<b>9</b> - Qual a nota geral média dos alunos, de acordo com a forma como ele cursou ensino médio?\n",
    "</div>"
   ]
  },
  {
   "cell_type": "code",
   "execution_count": 45,
   "metadata": {},
   "outputs": [
    {
     "data": {
      "text/html": [
       "<div>\n",
       "<style scoped>\n",
       "    .dataframe tbody tr th:only-of-type {\n",
       "        vertical-align: middle;\n",
       "    }\n",
       "\n",
       "    .dataframe tbody tr th {\n",
       "        vertical-align: top;\n",
       "    }\n",
       "\n",
       "    .dataframe thead th {\n",
       "        text-align: right;\n",
       "    }\n",
       "</style>\n",
       "<table border=\"1\" class=\"dataframe\">\n",
       "  <thead>\n",
       "    <tr style=\"text-align: right;\">\n",
       "      <th></th>\n",
       "      <th>NT_GER</th>\n",
       "      <th>QE_I17</th>\n",
       "    </tr>\n",
       "  </thead>\n",
       "  <tbody>\n",
       "    <tr>\n",
       "      <th>0</th>\n",
       "      <td>12.1</td>\n",
       "      <td>A</td>\n",
       "    </tr>\n",
       "    <tr>\n",
       "      <th>1</th>\n",
       "      <td>25.1</td>\n",
       "      <td>A</td>\n",
       "    </tr>\n",
       "    <tr>\n",
       "      <th>2</th>\n",
       "      <td>47.3</td>\n",
       "      <td>B</td>\n",
       "    </tr>\n",
       "    <tr>\n",
       "      <th>3</th>\n",
       "      <td>24.4</td>\n",
       "      <td>A</td>\n",
       "    </tr>\n",
       "    <tr>\n",
       "      <th>4</th>\n",
       "      <td>64.9</td>\n",
       "      <td>A</td>\n",
       "    </tr>\n",
       "  </tbody>\n",
       "</table>\n",
       "</div>"
      ],
      "text/plain": [
       "   NT_GER QE_I17\n",
       "0    12.1      A\n",
       "1    25.1      A\n",
       "2    47.3      B\n",
       "3    24.4      A\n",
       "4    64.9      A"
      ]
     },
     "execution_count": 45,
     "metadata": {},
     "output_type": "execute_result"
    }
   ],
   "source": [
    "# Preparação dos dados\n",
    "data = egeral.copy()\n",
    "colunas = ['NT_GER', 'QE_I17']\n",
    "data = data[colunas]\n",
    "\n",
    "data = data[data['QE_I17'] != 'Z']\n",
    "\n",
    "data.head()"
   ]
  },
  {
   "cell_type": "code",
   "execution_count": 46,
   "metadata": {},
   "outputs": [
    {
     "data": {
      "image/png": "[encoded data removed]",
      "text/plain": [
       "<Figure size 864x432 with 1 Axes>"
      ]
     },
     "metadata": {
      "needs_background": "light"
     },
     "output_type": "display_data"
    }
   ],
   "source": [
    "# Plotando Gráfico\n",
    "bp(data, 'QE_I17', 'Nota dos alunos por tipo de ensino médio', 'Tipos de Ensino Médio', 'Nota')"
   ]
  },
  {
   "cell_type": "code",
   "execution_count": 47,
   "metadata": {},
   "outputs": [
    {
     "name": "stdout",
     "output_type": "stream",
     "text": [
      "Média de nota dos alunos:             NT_GER\n",
      "QE_I17           \n",
      "A       38.370152\n",
      "B       43.879612\n",
      "C       43.033333\n",
      "D       39.494030\n",
      "E       42.652778\n",
      "F       25.100000\n",
      "Quantidade de alunos por categoria:         NT_GER\n",
      "QE_I17        \n",
      "A         2305\n",
      "B          927\n",
      "C            6\n",
      "D          134\n",
      "E          108\n",
      "F            2\n"
     ]
    }
   ],
   "source": [
    "# Calculando a média de cada tipo de aluno\n",
    "print(\"Média de nota dos alunos: \", data.groupby('QE_I17').mean())\n",
    "print(\"Quantidade de alunos por categoria:\", data.groupby('QE_I17').count())"
   ]
  },
  {
   "cell_type": "raw",
   "metadata": {},
   "source": [
    "Comente sobre os resultados."
   ]
  },
  {
   "cell_type": "markdown",
   "metadata": {},
   "source": [
    "### Resposta 9:\n",
    "A partir da média vemos que estudaram em escola particular se saíram melhor que os outros grupos enquanto alunos que estudaram parte no brasil e parte no exterior obtiveram os piores resultados, entretando por existirem apenas 2 alunos na base de dados da categoria de alunos que estudaram parte no brasil e parte no exterior, é difícil generalizar esta afirmação.\n",
    "\n",
    "O que podemos afirmar com um pouco mais de certeza é que os alunos que estudaram apenas em escola pública tiveram média pior que os outros grupos (com exceção do F) e que alunso que estudaram a maior parte em escola pública se saíram um pouco melhor."
   ]
  },
  {
   "cell_type": "markdown",
   "metadata": {},
   "source": [
    "<div class=\"alert alert-info\">\n",
    "<b>10</b> - Qual a nota geral média dos alunos, de acordo com sua renda, por regiao? Caso sua base se refira a uma única região, considere a renda por estado daquela região.\n",
    "</div>"
   ]
  },
  {
   "cell_type": "code",
   "execution_count": 48,
   "metadata": {},
   "outputs": [
    {
     "data": {
      "text/html": [
       "<div>\n",
       "<style scoped>\n",
       "    .dataframe tbody tr th:only-of-type {\n",
       "        vertical-align: middle;\n",
       "    }\n",
       "\n",
       "    .dataframe tbody tr th {\n",
       "        vertical-align: top;\n",
       "    }\n",
       "\n",
       "    .dataframe thead th {\n",
       "        text-align: right;\n",
       "    }\n",
       "</style>\n",
       "<table border=\"1\" class=\"dataframe\">\n",
       "  <thead>\n",
       "    <tr style=\"text-align: right;\">\n",
       "      <th></th>\n",
       "      <th>NT_GER</th>\n",
       "      <th>REGIAO</th>\n",
       "      <th>QE_I08</th>\n",
       "    </tr>\n",
       "  </thead>\n",
       "  <tbody>\n",
       "    <tr>\n",
       "      <th>0</th>\n",
       "      <td>12.1</td>\n",
       "      <td>CO</td>\n",
       "      <td>B</td>\n",
       "    </tr>\n",
       "    <tr>\n",
       "      <th>1</th>\n",
       "      <td>25.1</td>\n",
       "      <td>CO</td>\n",
       "      <td>A</td>\n",
       "    </tr>\n",
       "    <tr>\n",
       "      <th>2</th>\n",
       "      <td>47.3</td>\n",
       "      <td>CO</td>\n",
       "      <td>A</td>\n",
       "    </tr>\n",
       "    <tr>\n",
       "      <th>3</th>\n",
       "      <td>24.4</td>\n",
       "      <td>CO</td>\n",
       "      <td>C</td>\n",
       "    </tr>\n",
       "    <tr>\n",
       "      <th>4</th>\n",
       "      <td>64.9</td>\n",
       "      <td>CO</td>\n",
       "      <td>F</td>\n",
       "    </tr>\n",
       "  </tbody>\n",
       "</table>\n",
       "</div>"
      ],
      "text/plain": [
       "   NT_GER REGIAO QE_I08\n",
       "0    12.1     CO      B\n",
       "1    25.1     CO      A\n",
       "2    47.3     CO      A\n",
       "3    24.4     CO      C\n",
       "4    64.9     CO      F"
      ]
     },
     "execution_count": 48,
     "metadata": {},
     "output_type": "execute_result"
    }
   ],
   "source": [
    "data = egeral.copy()\n",
    "colunas = ['NT_GER', 'REGIAO', 'QE_I08']\n",
    "data = data[colunas]\n",
    "\n",
    "data = data[data['QE_I08'] != 'Z']\n",
    "\n",
    "data.head()"
   ]
  },
  {
   "cell_type": "code",
   "execution_count": 49,
   "metadata": {},
   "outputs": [
    {
     "name": "stdout",
     "output_type": "stream",
     "text": [
      "Média de notas dos alunos por renda por região:\n"
     ]
    },
    {
     "data": {
      "text/html": [
       "<div>\n",
       "<style scoped>\n",
       "    .dataframe tbody tr th:only-of-type {\n",
       "        vertical-align: middle;\n",
       "    }\n",
       "\n",
       "    .dataframe tbody tr th {\n",
       "        vertical-align: top;\n",
       "    }\n",
       "\n",
       "    .dataframe thead th {\n",
       "        text-align: right;\n",
       "    }\n",
       "</style>\n",
       "<table border=\"1\" class=\"dataframe\">\n",
       "  <thead>\n",
       "    <tr style=\"text-align: right;\">\n",
       "      <th></th>\n",
       "      <th></th>\n",
       "      <th>NT_GER</th>\n",
       "    </tr>\n",
       "    <tr>\n",
       "      <th>REGIAO</th>\n",
       "      <th>QE_I08</th>\n",
       "      <th></th>\n",
       "    </tr>\n",
       "  </thead>\n",
       "  <tbody>\n",
       "    <tr>\n",
       "      <th rowspan=\"7\" valign=\"top\">CO</th>\n",
       "      <th>A</th>\n",
       "      <td>35.123913</td>\n",
       "    </tr>\n",
       "    <tr>\n",
       "      <th>B</th>\n",
       "      <td>38.053012</td>\n",
       "    </tr>\n",
       "    <tr>\n",
       "      <th>C</th>\n",
       "      <td>39.165306</td>\n",
       "    </tr>\n",
       "    <tr>\n",
       "      <th>D</th>\n",
       "      <td>37.687500</td>\n",
       "    </tr>\n",
       "    <tr>\n",
       "      <th>E</th>\n",
       "      <td>43.272222</td>\n",
       "    </tr>\n",
       "    <tr>\n",
       "      <th>F</th>\n",
       "      <td>50.790323</td>\n",
       "    </tr>\n",
       "    <tr>\n",
       "      <th>G</th>\n",
       "      <td>50.700000</td>\n",
       "    </tr>\n",
       "    <tr>\n",
       "      <th rowspan=\"7\" valign=\"top\">NE</th>\n",
       "      <th>A</th>\n",
       "      <td>35.740238</td>\n",
       "    </tr>\n",
       "    <tr>\n",
       "      <th>B</th>\n",
       "      <td>36.383673</td>\n",
       "    </tr>\n",
       "    <tr>\n",
       "      <th>C</th>\n",
       "      <td>38.817610</td>\n",
       "    </tr>\n",
       "    <tr>\n",
       "      <th>D</th>\n",
       "      <td>40.708621</td>\n",
       "    </tr>\n",
       "    <tr>\n",
       "      <th>E</th>\n",
       "      <td>48.960000</td>\n",
       "    </tr>\n",
       "    <tr>\n",
       "      <th>F</th>\n",
       "      <td>47.239130</td>\n",
       "    </tr>\n",
       "    <tr>\n",
       "      <th>G</th>\n",
       "      <td>48.700000</td>\n",
       "    </tr>\n",
       "    <tr>\n",
       "      <th rowspan=\"6\" valign=\"top\">NO</th>\n",
       "      <th>A</th>\n",
       "      <td>31.895977</td>\n",
       "    </tr>\n",
       "    <tr>\n",
       "      <th>B</th>\n",
       "      <td>34.461538</td>\n",
       "    </tr>\n",
       "    <tr>\n",
       "      <th>C</th>\n",
       "      <td>35.407813</td>\n",
       "    </tr>\n",
       "    <tr>\n",
       "      <th>D</th>\n",
       "      <td>35.328000</td>\n",
       "    </tr>\n",
       "    <tr>\n",
       "      <th>E</th>\n",
       "      <td>41.015000</td>\n",
       "    </tr>\n",
       "    <tr>\n",
       "      <th>F</th>\n",
       "      <td>35.537500</td>\n",
       "    </tr>\n",
       "    <tr>\n",
       "      <th rowspan=\"7\" valign=\"top\">SE</th>\n",
       "      <th>A</th>\n",
       "      <td>39.433143</td>\n",
       "    </tr>\n",
       "    <tr>\n",
       "      <th>B</th>\n",
       "      <td>41.085933</td>\n",
       "    </tr>\n",
       "    <tr>\n",
       "      <th>C</th>\n",
       "      <td>42.950181</td>\n",
       "    </tr>\n",
       "    <tr>\n",
       "      <th>D</th>\n",
       "      <td>43.894194</td>\n",
       "    </tr>\n",
       "    <tr>\n",
       "      <th>E</th>\n",
       "      <td>46.610067</td>\n",
       "    </tr>\n",
       "    <tr>\n",
       "      <th>F</th>\n",
       "      <td>43.470968</td>\n",
       "    </tr>\n",
       "    <tr>\n",
       "      <th>G</th>\n",
       "      <td>47.200000</td>\n",
       "    </tr>\n",
       "    <tr>\n",
       "      <th rowspan=\"7\" valign=\"top\">SU</th>\n",
       "      <th>A</th>\n",
       "      <td>43.615190</td>\n",
       "    </tr>\n",
       "    <tr>\n",
       "      <th>B</th>\n",
       "      <td>41.482517</td>\n",
       "    </tr>\n",
       "    <tr>\n",
       "      <th>C</th>\n",
       "      <td>43.638686</td>\n",
       "    </tr>\n",
       "    <tr>\n",
       "      <th>D</th>\n",
       "      <td>42.735443</td>\n",
       "    </tr>\n",
       "    <tr>\n",
       "      <th>E</th>\n",
       "      <td>44.926316</td>\n",
       "    </tr>\n",
       "    <tr>\n",
       "      <th>F</th>\n",
       "      <td>49.044643</td>\n",
       "    </tr>\n",
       "    <tr>\n",
       "      <th>G</th>\n",
       "      <td>50.300000</td>\n",
       "    </tr>\n",
       "  </tbody>\n",
       "</table>\n",
       "</div>"
      ],
      "text/plain": [
       "                  NT_GER\n",
       "REGIAO QE_I08           \n",
       "CO     A       35.123913\n",
       "       B       38.053012\n",
       "       C       39.165306\n",
       "       D       37.687500\n",
       "       E       43.272222\n",
       "       F       50.790323\n",
       "       G       50.700000\n",
       "NE     A       35.740238\n",
       "       B       36.383673\n",
       "       C       38.817610\n",
       "       D       40.708621\n",
       "       E       48.960000\n",
       "       F       47.239130\n",
       "       G       48.700000\n",
       "NO     A       31.895977\n",
       "       B       34.461538\n",
       "       C       35.407813\n",
       "       D       35.328000\n",
       "       E       41.015000\n",
       "       F       35.537500\n",
       "SE     A       39.433143\n",
       "       B       41.085933\n",
       "       C       42.950181\n",
       "       D       43.894194\n",
       "       E       46.610067\n",
       "       F       43.470968\n",
       "       G       47.200000\n",
       "SU     A       43.615190\n",
       "       B       41.482517\n",
       "       C       43.638686\n",
       "       D       42.735443\n",
       "       E       44.926316\n",
       "       F       49.044643\n",
       "       G       50.300000"
      ]
     },
     "execution_count": 49,
     "metadata": {},
     "output_type": "execute_result"
    }
   ],
   "source": [
    "print(\"Média de notas dos alunos por renda por região:\")\n",
    "data.groupby(['REGIAO', 'QE_I08']).mean()"
   ]
  },
  {
   "cell_type": "markdown",
   "metadata": {},
   "source": [
    "Explique os resultados."
   ]
  },
  {
   "cell_type": "markdown",
   "metadata": {},
   "source": [
    "### Resposta 10:\n",
    "A tabela mostra que há uma tendência da nota do aluno ser melhor caso este aluno pertença a uma família com uma faixa de renda alta. Quase todos as regiões seguem esse padrão com exceção da região norte.\n",
    "\n",
    "Além disso podemos ver que as regiões mais ao Sul do país tem desempenho melhor quando comparadas as regiões ao norte."
   ]
  },
  {
   "cell_type": "markdown",
   "metadata": {},
   "source": [
    "#### Agrupando e ordenando dados"
   ]
  },
  {
   "cell_type": "markdown",
   "metadata": {},
   "source": [
    "<div class=\"alert alert-info\">\n",
    "<b>11</b> - Qual o ranking dos estados de acordo com a nota média obtida por alunos, considerando apenas instituições públicas?\n",
    "</div>"
   ]
  },
  {
   "cell_type": "code",
   "execution_count": 50,
   "metadata": {},
   "outputs": [
    {
     "data": {
      "text/html": [
       "<div>\n",
       "<style scoped>\n",
       "    .dataframe tbody tr th:only-of-type {\n",
       "        vertical-align: middle;\n",
       "    }\n",
       "\n",
       "    .dataframe tbody tr th {\n",
       "        vertical-align: top;\n",
       "    }\n",
       "\n",
       "    .dataframe thead th {\n",
       "        text-align: right;\n",
       "    }\n",
       "</style>\n",
       "<table border=\"1\" class=\"dataframe\">\n",
       "  <thead>\n",
       "    <tr style=\"text-align: right;\">\n",
       "      <th></th>\n",
       "      <th>NT_GER</th>\n",
       "      <th>REGIAO</th>\n",
       "    </tr>\n",
       "  </thead>\n",
       "  <tbody>\n",
       "    <tr>\n",
       "      <th>0</th>\n",
       "      <td>12.1</td>\n",
       "      <td>CO</td>\n",
       "    </tr>\n",
       "    <tr>\n",
       "      <th>1</th>\n",
       "      <td>25.1</td>\n",
       "      <td>CO</td>\n",
       "    </tr>\n",
       "    <tr>\n",
       "      <th>2</th>\n",
       "      <td>47.3</td>\n",
       "      <td>CO</td>\n",
       "    </tr>\n",
       "    <tr>\n",
       "      <th>3</th>\n",
       "      <td>24.4</td>\n",
       "      <td>CO</td>\n",
       "    </tr>\n",
       "    <tr>\n",
       "      <th>4</th>\n",
       "      <td>64.9</td>\n",
       "      <td>CO</td>\n",
       "    </tr>\n",
       "  </tbody>\n",
       "</table>\n",
       "</div>"
      ],
      "text/plain": [
       "   NT_GER REGIAO\n",
       "0    12.1     CO\n",
       "1    25.1     CO\n",
       "2    47.3     CO\n",
       "3    24.4     CO\n",
       "4    64.9     CO"
      ]
     },
     "execution_count": 50,
     "metadata": {},
     "output_type": "execute_result"
    }
   ],
   "source": [
    "data = egeral.copy()\n",
    "colunas = ['NT_GER', 'CO_CATEGAD', 'REGIAO']\n",
    "data = data[colunas]\n",
    "\n",
    "# Removendo dados com 7 por não ter resposta\n",
    "data = data.drop(data[data['CO_CATEGAD'] == 7].index)\n",
    "\n",
    "categorias = ['Pública Federal', 'Pública Estadual', 'Pública Municipal',\n",
    "              'Privada com FL', 'Privada sem FL', 'Especial']\n",
    "data['CO_CATEGAD'] = data['CO_CATEGAD'].apply(lambda x: categorias[x - 1])\n",
    "\n",
    "# Agrupando alunos de instituições públicas:\n",
    "categorias_publicas = ['Pública Federal', 'Pública Estadual', 'Pública Municipal']\n",
    "data['INSTITUICAO'] = data['CO_CATEGAD'].apply(lambda x: 'Pública' if x in categorias_publicas else 'Privada')\n",
    "\n",
    "# Removendo dados de instituições privadas\n",
    "data = data[data['INSTITUICAO'] == 'Pública']\n",
    "\n",
    "# Removendo colunas não necessárias:\n",
    "data = data.drop(['CO_CATEGAD', 'INSTITUICAO'], axis=1)\n",
    "data.head()"
   ]
  },
  {
   "cell_type": "code",
   "execution_count": 51,
   "metadata": {},
   "outputs": [
    {
     "data": {
      "text/html": [
       "<div>\n",
       "<style scoped>\n",
       "    .dataframe tbody tr th:only-of-type {\n",
       "        vertical-align: middle;\n",
       "    }\n",
       "\n",
       "    .dataframe tbody tr th {\n",
       "        vertical-align: top;\n",
       "    }\n",
       "\n",
       "    .dataframe thead th {\n",
       "        text-align: right;\n",
       "    }\n",
       "</style>\n",
       "<table border=\"1\" class=\"dataframe\">\n",
       "  <thead>\n",
       "    <tr style=\"text-align: right;\">\n",
       "      <th></th>\n",
       "      <th>NT_GER</th>\n",
       "    </tr>\n",
       "    <tr>\n",
       "      <th>REGIAO</th>\n",
       "      <th></th>\n",
       "    </tr>\n",
       "  </thead>\n",
       "  <tbody>\n",
       "    <tr>\n",
       "      <th>SU</th>\n",
       "      <td>44.546094</td>\n",
       "    </tr>\n",
       "    <tr>\n",
       "      <th>SE</th>\n",
       "      <td>43.125953</td>\n",
       "    </tr>\n",
       "    <tr>\n",
       "      <th>CO</th>\n",
       "      <td>39.677016</td>\n",
       "    </tr>\n",
       "    <tr>\n",
       "      <th>NE</th>\n",
       "      <td>37.311331</td>\n",
       "    </tr>\n",
       "    <tr>\n",
       "      <th>NO</th>\n",
       "      <td>33.816912</td>\n",
       "    </tr>\n",
       "  </tbody>\n",
       "</table>\n",
       "</div>"
      ],
      "text/plain": [
       "           NT_GER\n",
       "REGIAO           \n",
       "SU      44.546094\n",
       "SE      43.125953\n",
       "CO      39.677016\n",
       "NE      37.311331\n",
       "NO      33.816912"
      ]
     },
     "execution_count": 51,
     "metadata": {},
     "output_type": "execute_result"
    }
   ],
   "source": [
    "data.groupby('REGIAO').mean().sort_values(by='NT_GER', ascending=False)"
   ]
  },
  {
   "cell_type": "markdown",
   "metadata": {},
   "source": [
    "Explique os resultados obtidos."
   ]
  },
  {
   "cell_type": "markdown",
   "metadata": {},
   "source": [
    "### Resposta 11:\n",
    "\n",
    "As regiões são classificadas nas seguintes posições:\n",
    "\n",
    "1. Sul\n",
    "2. Sudeste\n",
    "3. Centro-Oeste\n",
    "4. Nordeste\n",
    "5. Norte"
   ]
  },
  {
   "cell_type": "markdown",
   "metadata": {},
   "source": [
    "#### Comportamentos anômalos"
   ]
  },
  {
   "cell_type": "markdown",
   "metadata": {},
   "source": [
    "<div class=\"alert alert-info\">\n",
    "<b>12</b> - Como se comparam as variáveis **idade**, **nota geral**, **ano de início da graduação** e **ano de fim do ensino médio** em termos de anomalias?\n",
    "</div>"
   ]
  },
  {
   "cell_type": "code",
   "execution_count": 52,
   "metadata": {},
   "outputs": [
    {
     "data": {
      "text/html": [
       "<div>\n",
       "<style scoped>\n",
       "    .dataframe tbody tr th:only-of-type {\n",
       "        vertical-align: middle;\n",
       "    }\n",
       "\n",
       "    .dataframe tbody tr th {\n",
       "        vertical-align: top;\n",
       "    }\n",
       "\n",
       "    .dataframe thead th {\n",
       "        text-align: right;\n",
       "    }\n",
       "</style>\n",
       "<table border=\"1\" class=\"dataframe\">\n",
       "  <thead>\n",
       "    <tr style=\"text-align: right;\">\n",
       "      <th></th>\n",
       "      <th>NU_IDADE</th>\n",
       "      <th>NT_GER</th>\n",
       "      <th>ANO_FIM_EM</th>\n",
       "      <th>ANO_IN_GRAD</th>\n",
       "    </tr>\n",
       "  </thead>\n",
       "  <tbody>\n",
       "    <tr>\n",
       "      <th>0</th>\n",
       "      <td>23</td>\n",
       "      <td>12.1</td>\n",
       "      <td>2011.0</td>\n",
       "      <td>2012.0</td>\n",
       "    </tr>\n",
       "    <tr>\n",
       "      <th>1</th>\n",
       "      <td>25</td>\n",
       "      <td>25.1</td>\n",
       "      <td>2009.0</td>\n",
       "      <td>2012.0</td>\n",
       "    </tr>\n",
       "    <tr>\n",
       "      <th>2</th>\n",
       "      <td>24</td>\n",
       "      <td>47.3</td>\n",
       "      <td>2010.0</td>\n",
       "      <td>2013.0</td>\n",
       "    </tr>\n",
       "    <tr>\n",
       "      <th>3</th>\n",
       "      <td>38</td>\n",
       "      <td>24.4</td>\n",
       "      <td>1996.0</td>\n",
       "      <td>2017.0</td>\n",
       "    </tr>\n",
       "    <tr>\n",
       "      <th>4</th>\n",
       "      <td>53</td>\n",
       "      <td>64.9</td>\n",
       "      <td>1982.0</td>\n",
       "      <td>2015.0</td>\n",
       "    </tr>\n",
       "  </tbody>\n",
       "</table>\n",
       "</div>"
      ],
      "text/plain": [
       "   NU_IDADE  NT_GER  ANO_FIM_EM  ANO_IN_GRAD\n",
       "0        23    12.1      2011.0       2012.0\n",
       "1        25    25.1      2009.0       2012.0\n",
       "2        24    47.3      2010.0       2013.0\n",
       "3        38    24.4      1996.0       2017.0\n",
       "4        53    64.9      1982.0       2015.0"
      ]
     },
     "execution_count": 52,
     "metadata": {},
     "output_type": "execute_result"
    }
   ],
   "source": [
    "data = egeral.copy()\n",
    "colunas = ['NU_IDADE', 'NT_GER', 'ANO_FIM_EM', 'ANO_IN_GRAD']\n",
    "data = data[colunas]\n",
    "\n",
    "data.head()"
   ]
  },
  {
   "cell_type": "code",
   "execution_count": 53,
   "metadata": {},
   "outputs": [
    {
     "data": {
      "image/png": "[encoded data removed]",
      "text/plain": [
       "<Figure size 432x288 with 1 Axes>"
      ]
     },
     "metadata": {
      "needs_background": "light"
     },
     "output_type": "display_data"
    },
    {
     "data": {
      "image/png": "[encoded data removed]",
      "text/plain": [
       "<Figure size 432x288 with 1 Axes>"
      ]
     },
     "metadata": {
      "needs_background": "light"
     },
     "output_type": "display_data"
    },
    {
     "data": {
      "image/png": "[encoded data removed]",
      "text/plain": [
       "<Figure size 432x288 with 1 Axes>"
      ]
     },
     "metadata": {
      "needs_background": "light"
     },
     "output_type": "display_data"
    },
    {
     "data": {
      "image/png": "[encoded data removed]",
      "text/plain": [
       "<Figure size 432x288 with 1 Axes>"
      ]
     },
     "metadata": {
      "needs_background": "light"
     },
     "output_type": "display_data"
    }
   ],
   "source": [
    "for column in data.columns:\n",
    "    data[[column]].boxplot(showmeans=True)\n",
    "    plt.show()"
   ]
  },
  {
   "cell_type": "code",
   "execution_count": 54,
   "metadata": {},
   "outputs": [
    {
     "name": "stderr",
     "output_type": "stream",
     "text": [
      "/Users/mikael/.pyenv/ammd/lib/python3.7/site-packages/IPython/core/interactiveshell.py:3296: UserWarning: To output multiple subplots, the figure containing the passed axes is being cleared\n",
      "  exec(code_obj, self.user_global_ns, self.user_ns)\n"
     ]
    },
    {
     "data": {
      "text/plain": [
       "array([[<matplotlib.axes._subplots.AxesSubplot object at 0x117109cc0>,\n",
       "        <matplotlib.axes._subplots.AxesSubplot object at 0x11722d470>],\n",
       "       [<matplotlib.axes._subplots.AxesSubplot object at 0x11725ea20>,\n",
       "        <matplotlib.axes._subplots.AxesSubplot object at 0x117291fd0>]],\n",
       "      dtype=object)"
      ]
     },
     "execution_count": 54,
     "metadata": {},
     "output_type": "execute_result"
    },
    {
     "data": {
      "image/png": "[encoded data removed]",
      "text/plain": [
       "<Figure size 1008x720 with 4 Axes>"
      ]
     },
     "metadata": {
      "needs_background": "light"
     },
     "output_type": "display_data"
    }
   ],
   "source": [
    "img, ax = plt.subplots(figsize=(14,10))\n",
    "data.hist(ax=ax, bins=100)"
   ]
  },
  {
   "cell_type": "markdown",
   "metadata": {},
   "source": [
    "Dica: Utilize BOXPLOT ou histograma para facilitar o entendimento."
   ]
  },
  {
   "cell_type": "markdown",
   "metadata": {},
   "source": [
    "Comente sobre os resultados."
   ]
  },
  {
   "cell_type": "markdown",
   "metadata": {},
   "source": [
    "### Resposta 12:\n",
    "\n"
   ]
  },
  {
   "cell_type": "markdown",
   "metadata": {},
   "source": [
    "#### Engenharia de atributos"
   ]
  },
  {
   "cell_type": "markdown",
   "metadata": {},
   "source": [
    "As questões QE_I27 a QE_I68 nos permitem avaliar quão boa é a instituição de acordo com a visão dos estudantes. Ela deve ser calculada como:\n",
    "\n",
    "NT_INST = $\\frac{1}{N} \\sum_{i=27}^{68} \\frac{f(\\text{QE_I}_i) - 1}{5}$\n",
    "\n",
    "onde $f$ é uma função que retorna o valor de QE_I$_i$ se ele estiver entre 1 a 6; ela retorna 1, caso contrário. $N$ é o total de questões, entre QE_I27 a QE_I68, que tiveram nota entre 1 a 6.\n",
    "\n",
    "<div class=\"alert alert-info\">\n",
    "<b>13</b> - Seguindo a definição dada, crie a coluna NT_INST que reflete a nota que cada estudante daria para a instituição. \n",
    "</div>    "
   ]
  },
  {
   "cell_type": "code",
   "execution_count": 55,
   "metadata": {},
   "outputs": [
    {
     "data": {
      "text/plain": [
       "Index(['QE_I27', 'QE_I28', 'QE_I29', 'QE_I30', 'QE_I31', 'QE_I32', 'QE_I33',\n",
       "       'QE_I34', 'QE_I35', 'QE_I36', 'QE_I37', 'QE_I38', 'QE_I39', 'QE_I40',\n",
       "       'QE_I41', 'QE_I42', 'QE_I43', 'QE_I44', 'QE_I45', 'QE_I46', 'QE_I47',\n",
       "       'QE_I48', 'QE_I49', 'QE_I50', 'QE_I51', 'QE_I52', 'QE_I53', 'QE_I54',\n",
       "       'QE_I55', 'QE_I56', 'QE_I57', 'QE_I58', 'QE_I59', 'QE_I60', 'QE_I61',\n",
       "       'QE_I62', 'QE_I63', 'QE_I64', 'QE_I65', 'QE_I66', 'QE_I67', 'QE_I68'],\n",
       "      dtype='object')"
      ]
     },
     "execution_count": 55,
     "metadata": {},
     "output_type": "execute_result"
    }
   ],
   "source": [
    "data = egeral.copy()\n",
    "colunas = [x for x in egeral.columns if x.startswith('QE_')]\n",
    "colunas = colunas[26:68]\n",
    "data = data[colunas]\n",
    "data.columns"
   ]
  },
  {
   "cell_type": "code",
   "execution_count": 56,
   "metadata": {},
   "outputs": [],
   "source": [
    "f = lambda x: 1 if x > 6 else x\n",
    "\n",
    "values = list()\n",
    "for row in data.values:\n",
    "    s = 0\n",
    "    for value in row:\n",
    "        s += f(value) - 1\n",
    "    s = s / (5 * len(row))\n",
    "    values.append(s)\n",
    "values = np.array(values)\n",
    "values\n",
    "\n",
    "data['NT_INST'] = values\n",
    "nt_inst = values"
   ]
  },
  {
   "cell_type": "code",
   "execution_count": 57,
   "metadata": {},
   "outputs": [
    {
     "data": {
      "text/html": [
       "<div>\n",
       "<style scoped>\n",
       "    .dataframe tbody tr th:only-of-type {\n",
       "        vertical-align: middle;\n",
       "    }\n",
       "\n",
       "    .dataframe tbody tr th {\n",
       "        vertical-align: top;\n",
       "    }\n",
       "\n",
       "    .dataframe thead th {\n",
       "        text-align: right;\n",
       "    }\n",
       "</style>\n",
       "<table border=\"1\" class=\"dataframe\">\n",
       "  <thead>\n",
       "    <tr style=\"text-align: right;\">\n",
       "      <th></th>\n",
       "      <th>QE_I27</th>\n",
       "      <th>QE_I28</th>\n",
       "      <th>QE_I29</th>\n",
       "      <th>QE_I30</th>\n",
       "      <th>QE_I31</th>\n",
       "      <th>QE_I32</th>\n",
       "      <th>QE_I33</th>\n",
       "      <th>QE_I34</th>\n",
       "      <th>QE_I35</th>\n",
       "      <th>QE_I36</th>\n",
       "      <th>...</th>\n",
       "      <th>QE_I60</th>\n",
       "      <th>QE_I61</th>\n",
       "      <th>QE_I62</th>\n",
       "      <th>QE_I63</th>\n",
       "      <th>QE_I64</th>\n",
       "      <th>QE_I65</th>\n",
       "      <th>QE_I66</th>\n",
       "      <th>QE_I67</th>\n",
       "      <th>QE_I68</th>\n",
       "      <th>NT_INST</th>\n",
       "    </tr>\n",
       "  </thead>\n",
       "  <tbody>\n",
       "    <tr>\n",
       "      <th>0</th>\n",
       "      <td>5.0</td>\n",
       "      <td>5.0</td>\n",
       "      <td>5.0</td>\n",
       "      <td>6.0</td>\n",
       "      <td>6.0</td>\n",
       "      <td>6.0</td>\n",
       "      <td>6.0</td>\n",
       "      <td>6.0</td>\n",
       "      <td>6.0</td>\n",
       "      <td>6.0</td>\n",
       "      <td>...</td>\n",
       "      <td>6.0</td>\n",
       "      <td>5.0</td>\n",
       "      <td>4.0</td>\n",
       "      <td>4.0</td>\n",
       "      <td>2.0</td>\n",
       "      <td>2.0</td>\n",
       "      <td>6.0</td>\n",
       "      <td>6.0</td>\n",
       "      <td>4.0</td>\n",
       "      <td>0.828571</td>\n",
       "    </tr>\n",
       "    <tr>\n",
       "      <th>1</th>\n",
       "      <td>4.0</td>\n",
       "      <td>3.0</td>\n",
       "      <td>5.0</td>\n",
       "      <td>2.0</td>\n",
       "      <td>4.0</td>\n",
       "      <td>5.0</td>\n",
       "      <td>6.0</td>\n",
       "      <td>3.0</td>\n",
       "      <td>6.0</td>\n",
       "      <td>5.0</td>\n",
       "      <td>...</td>\n",
       "      <td>5.0</td>\n",
       "      <td>4.0</td>\n",
       "      <td>3.0</td>\n",
       "      <td>3.0</td>\n",
       "      <td>2.0</td>\n",
       "      <td>2.0</td>\n",
       "      <td>2.0</td>\n",
       "      <td>2.0</td>\n",
       "      <td>3.0</td>\n",
       "      <td>0.523810</td>\n",
       "    </tr>\n",
       "    <tr>\n",
       "      <th>2</th>\n",
       "      <td>5.0</td>\n",
       "      <td>5.0</td>\n",
       "      <td>3.0</td>\n",
       "      <td>6.0</td>\n",
       "      <td>6.0</td>\n",
       "      <td>6.0</td>\n",
       "      <td>5.0</td>\n",
       "      <td>6.0</td>\n",
       "      <td>1.0</td>\n",
       "      <td>5.0</td>\n",
       "      <td>...</td>\n",
       "      <td>4.0</td>\n",
       "      <td>1.0</td>\n",
       "      <td>5.0</td>\n",
       "      <td>2.0</td>\n",
       "      <td>4.0</td>\n",
       "      <td>1.0</td>\n",
       "      <td>5.0</td>\n",
       "      <td>6.0</td>\n",
       "      <td>6.0</td>\n",
       "      <td>0.638095</td>\n",
       "    </tr>\n",
       "    <tr>\n",
       "      <th>3</th>\n",
       "      <td>6.0</td>\n",
       "      <td>6.0</td>\n",
       "      <td>6.0</td>\n",
       "      <td>8.0</td>\n",
       "      <td>8.0</td>\n",
       "      <td>6.0</td>\n",
       "      <td>8.0</td>\n",
       "      <td>8.0</td>\n",
       "      <td>8.0</td>\n",
       "      <td>8.0</td>\n",
       "      <td>...</td>\n",
       "      <td>6.0</td>\n",
       "      <td>3.0</td>\n",
       "      <td>6.0</td>\n",
       "      <td>6.0</td>\n",
       "      <td>6.0</td>\n",
       "      <td>6.0</td>\n",
       "      <td>6.0</td>\n",
       "      <td>3.0</td>\n",
       "      <td>4.0</td>\n",
       "      <td>0.700000</td>\n",
       "    </tr>\n",
       "    <tr>\n",
       "      <th>4</th>\n",
       "      <td>3.0</td>\n",
       "      <td>4.0</td>\n",
       "      <td>2.0</td>\n",
       "      <td>2.0</td>\n",
       "      <td>2.0</td>\n",
       "      <td>3.0</td>\n",
       "      <td>2.0</td>\n",
       "      <td>2.0</td>\n",
       "      <td>2.0</td>\n",
       "      <td>2.0</td>\n",
       "      <td>...</td>\n",
       "      <td>3.0</td>\n",
       "      <td>3.0</td>\n",
       "      <td>4.0</td>\n",
       "      <td>3.0</td>\n",
       "      <td>5.0</td>\n",
       "      <td>4.0</td>\n",
       "      <td>3.0</td>\n",
       "      <td>4.0</td>\n",
       "      <td>3.0</td>\n",
       "      <td>0.347619</td>\n",
       "    </tr>\n",
       "    <tr>\n",
       "      <th>5</th>\n",
       "      <td>8.0</td>\n",
       "      <td>5.0</td>\n",
       "      <td>3.0</td>\n",
       "      <td>1.0</td>\n",
       "      <td>2.0</td>\n",
       "      <td>8.0</td>\n",
       "      <td>6.0</td>\n",
       "      <td>8.0</td>\n",
       "      <td>3.0</td>\n",
       "      <td>6.0</td>\n",
       "      <td>...</td>\n",
       "      <td>2.0</td>\n",
       "      <td>4.0</td>\n",
       "      <td>4.0</td>\n",
       "      <td>3.0</td>\n",
       "      <td>5.0</td>\n",
       "      <td>1.0</td>\n",
       "      <td>8.0</td>\n",
       "      <td>1.0</td>\n",
       "      <td>4.0</td>\n",
       "      <td>0.504762</td>\n",
       "    </tr>\n",
       "    <tr>\n",
       "      <th>6</th>\n",
       "      <td>7.0</td>\n",
       "      <td>6.0</td>\n",
       "      <td>7.0</td>\n",
       "      <td>7.0</td>\n",
       "      <td>6.0</td>\n",
       "      <td>6.0</td>\n",
       "      <td>6.0</td>\n",
       "      <td>6.0</td>\n",
       "      <td>6.0</td>\n",
       "      <td>6.0</td>\n",
       "      <td>...</td>\n",
       "      <td>6.0</td>\n",
       "      <td>1.0</td>\n",
       "      <td>4.0</td>\n",
       "      <td>4.0</td>\n",
       "      <td>3.0</td>\n",
       "      <td>1.0</td>\n",
       "      <td>6.0</td>\n",
       "      <td>6.0</td>\n",
       "      <td>6.0</td>\n",
       "      <td>0.728571</td>\n",
       "    </tr>\n",
       "    <tr>\n",
       "      <th>7</th>\n",
       "      <td>6.0</td>\n",
       "      <td>5.0</td>\n",
       "      <td>1.0</td>\n",
       "      <td>4.0</td>\n",
       "      <td>6.0</td>\n",
       "      <td>5.0</td>\n",
       "      <td>6.0</td>\n",
       "      <td>5.0</td>\n",
       "      <td>3.0</td>\n",
       "      <td>5.0</td>\n",
       "      <td>...</td>\n",
       "      <td>5.0</td>\n",
       "      <td>5.0</td>\n",
       "      <td>5.0</td>\n",
       "      <td>2.0</td>\n",
       "      <td>6.0</td>\n",
       "      <td>5.0</td>\n",
       "      <td>5.0</td>\n",
       "      <td>4.0</td>\n",
       "      <td>6.0</td>\n",
       "      <td>0.638095</td>\n",
       "    </tr>\n",
       "    <tr>\n",
       "      <th>8</th>\n",
       "      <td>5.0</td>\n",
       "      <td>5.0</td>\n",
       "      <td>5.0</td>\n",
       "      <td>5.0</td>\n",
       "      <td>5.0</td>\n",
       "      <td>6.0</td>\n",
       "      <td>6.0</td>\n",
       "      <td>5.0</td>\n",
       "      <td>6.0</td>\n",
       "      <td>5.0</td>\n",
       "      <td>...</td>\n",
       "      <td>4.0</td>\n",
       "      <td>2.0</td>\n",
       "      <td>3.0</td>\n",
       "      <td>3.0</td>\n",
       "      <td>5.0</td>\n",
       "      <td>3.0</td>\n",
       "      <td>3.0</td>\n",
       "      <td>3.0</td>\n",
       "      <td>1.0</td>\n",
       "      <td>0.638095</td>\n",
       "    </tr>\n",
       "    <tr>\n",
       "      <th>9</th>\n",
       "      <td>4.0</td>\n",
       "      <td>5.0</td>\n",
       "      <td>6.0</td>\n",
       "      <td>5.0</td>\n",
       "      <td>6.0</td>\n",
       "      <td>5.0</td>\n",
       "      <td>6.0</td>\n",
       "      <td>6.0</td>\n",
       "      <td>6.0</td>\n",
       "      <td>6.0</td>\n",
       "      <td>...</td>\n",
       "      <td>5.0</td>\n",
       "      <td>5.0</td>\n",
       "      <td>4.0</td>\n",
       "      <td>5.0</td>\n",
       "      <td>5.0</td>\n",
       "      <td>7.0</td>\n",
       "      <td>5.0</td>\n",
       "      <td>6.0</td>\n",
       "      <td>6.0</td>\n",
       "      <td>0.676190</td>\n",
       "    </tr>\n",
       "  </tbody>\n",
       "</table>\n",
       "<p>10 rows × 43 columns</p>\n",
       "</div>"
      ],
      "text/plain": [
       "   QE_I27  QE_I28  QE_I29  QE_I30  QE_I31  QE_I32  QE_I33  QE_I34  QE_I35  \\\n",
       "0     5.0     5.0     5.0     6.0     6.0     6.0     6.0     6.0     6.0   \n",
       "1     4.0     3.0     5.0     2.0     4.0     5.0     6.0     3.0     6.0   \n",
       "2     5.0     5.0     3.0     6.0     6.0     6.0     5.0     6.0     1.0   \n",
       "3     6.0     6.0     6.0     8.0     8.0     6.0     8.0     8.0     8.0   \n",
       "4     3.0     4.0     2.0     2.0     2.0     3.0     2.0     2.0     2.0   \n",
       "5     8.0     5.0     3.0     1.0     2.0     8.0     6.0     8.0     3.0   \n",
       "6     7.0     6.0     7.0     7.0     6.0     6.0     6.0     6.0     6.0   \n",
       "7     6.0     5.0     1.0     4.0     6.0     5.0     6.0     5.0     3.0   \n",
       "8     5.0     5.0     5.0     5.0     5.0     6.0     6.0     5.0     6.0   \n",
       "9     4.0     5.0     6.0     5.0     6.0     5.0     6.0     6.0     6.0   \n",
       "\n",
       "   QE_I36  ...  QE_I60  QE_I61  QE_I62  QE_I63  QE_I64  QE_I65  QE_I66  \\\n",
       "0     6.0  ...     6.0     5.0     4.0     4.0     2.0     2.0     6.0   \n",
       "1     5.0  ...     5.0     4.0     3.0     3.0     2.0     2.0     2.0   \n",
       "2     5.0  ...     4.0     1.0     5.0     2.0     4.0     1.0     5.0   \n",
       "3     8.0  ...     6.0     3.0     6.0     6.0     6.0     6.0     6.0   \n",
       "4     2.0  ...     3.0     3.0     4.0     3.0     5.0     4.0     3.0   \n",
       "5     6.0  ...     2.0     4.0     4.0     3.0     5.0     1.0     8.0   \n",
       "6     6.0  ...     6.0     1.0     4.0     4.0     3.0     1.0     6.0   \n",
       "7     5.0  ...     5.0     5.0     5.0     2.0     6.0     5.0     5.0   \n",
       "8     5.0  ...     4.0     2.0     3.0     3.0     5.0     3.0     3.0   \n",
       "9     6.0  ...     5.0     5.0     4.0     5.0     5.0     7.0     5.0   \n",
       "\n",
       "   QE_I67  QE_I68   NT_INST  \n",
       "0     6.0     4.0  0.828571  \n",
       "1     2.0     3.0  0.523810  \n",
       "2     6.0     6.0  0.638095  \n",
       "3     3.0     4.0  0.700000  \n",
       "4     4.0     3.0  0.347619  \n",
       "5     1.0     4.0  0.504762  \n",
       "6     6.0     6.0  0.728571  \n",
       "7     4.0     6.0  0.638095  \n",
       "8     3.0     1.0  0.638095  \n",
       "9     6.0     6.0  0.676190  \n",
       "\n",
       "[10 rows x 43 columns]"
      ]
     },
     "execution_count": 57,
     "metadata": {},
     "output_type": "execute_result"
    }
   ],
   "source": [
    "data.head(10)"
   ]
  },
  {
   "cell_type": "markdown",
   "metadata": {},
   "source": [
    "#### Preparando dados para classificação"
   ]
  },
  {
   "cell_type": "markdown",
   "metadata": {},
   "source": [
    "Queremos tentar prever a nota de um aluno apartir das seguintes informações:\n",
    "\n",
    "* CO_CATEGAD, CO_ORGACAD, CO_MODALIDADE, CO_UF_CURSO, REGIAO,  \n",
    "* NU_IDADE, TP_SEXO, CO_TURNO_GRADUACAO, \n",
    "* QE_I01, QE_I02, QE_I03, QE_I04, QE_I05, QE_I06, QE_I07, QE_I08, QE_I09, QE_I10, QE_I11, QE_I12, QE_I13, QE_I14, QE_I15, QE_I17, QE_I18, QE_I19, QE_I20, QE_I21, QE_I22, QE_I23, QE_I24, QE_I25, QE_I26 \n",
    "* NT_INST\n",
    "\n",
    "<div class=\"alert alert-info\">\n",
    "<b>14</b> - Prepare os dados para aprendizado, convertendo strings para dados categóricos, dados categóricos não binários para hot-vectors e padronizando dados numéricos usando Z-score.\n",
    "</div> "
   ]
  },
  {
   "cell_type": "code",
   "execution_count": 58,
   "metadata": {},
   "outputs": [],
   "source": [
    "data = egeral.copy()\n",
    "colunas = ['CO_CATEGAD', 'CO_ORGACAD', 'CO_MODALIDADE', 'CO_UF_CURSO', 'REGIAO',\n",
    "'NU_IDADE', 'TP_SEXO', 'CO_TURNO_GRADUACAO',\n",
    "'QE_I01', 'QE_I02', 'QE_I03', 'QE_I04', 'QE_I05', 'QE_I06', 'QE_I07',\n",
    "'QE_I08', 'QE_I09', 'QE_I10', 'QE_I11', 'QE_I12', 'QE_I13', 'QE_I14',\n",
    "'QE_I15', 'QE_I17', 'QE_I18', 'QE_I19', 'QE_I20', 'QE_I21', 'QE_I22',\n",
    "'QE_I23', 'QE_I24', 'QE_I25', 'QE_I26']\n",
    "data = data[colunas]\n",
    "data['NT_INST'] = nt_inst\n",
    "colunas.append('NT_INST')"
   ]
  },
  {
   "cell_type": "code",
   "execution_count": 59,
   "metadata": {},
   "outputs": [
    {
     "data": {
      "text/plain": [
       "CO_UF_CURSO    27\n",
       "REGIAO          5\n",
       "TP_SEXO         2\n",
       "QE_I01          6\n",
       "QE_I02          7\n",
       "QE_I03          4\n",
       "QE_I04          7\n",
       "QE_I05          7\n",
       "QE_I06          7\n",
       "QE_I07          9\n",
       "QE_I08          8\n",
       "QE_I09          7\n",
       "QE_I10          6\n",
       "QE_I11         12\n",
       "QE_I12          7\n",
       "QE_I13          7\n",
       "QE_I14          7\n",
       "QE_I15          7\n",
       "QE_I17          7\n",
       "QE_I18          6\n",
       "QE_I19          8\n",
       "QE_I20         12\n",
       "QE_I21          3\n",
       "QE_I22          6\n",
       "QE_I23          6\n",
       "QE_I24          6\n",
       "QE_I25          9\n",
       "QE_I26         10\n",
       "dtype: int64"
      ]
     },
     "execution_count": 59,
     "metadata": {},
     "output_type": "execute_result"
    }
   ],
   "source": [
    "# Dividindo os dados em 3 tipos:\n",
    "# Dados de string categóricos que serão convertidos pra hot vectors,\n",
    "# Dados numéricos categóricos que serão convertidos para hot vectors e\n",
    "# Dados numéricos não categóricos que serão normalizados.\n",
    "\n",
    "data_string = data.select_dtypes(exclude=[np.number])\n",
    "string_columns = data_string.columns\n",
    "data[string_columns].nunique()"
   ]
  },
  {
   "cell_type": "code",
   "execution_count": 60,
   "metadata": {},
   "outputs": [],
   "source": [
    "# Dataframe contendo os dados de string categóricos:\n",
    "data_string = pd.get_dummies(data_string)"
   ]
  },
  {
   "cell_type": "code",
   "execution_count": 61,
   "metadata": {},
   "outputs": [
    {
     "data": {
      "text/html": [
       "<div>\n",
       "<style scoped>\n",
       "    .dataframe tbody tr th:only-of-type {\n",
       "        vertical-align: middle;\n",
       "    }\n",
       "\n",
       "    .dataframe tbody tr th {\n",
       "        vertical-align: top;\n",
       "    }\n",
       "\n",
       "    .dataframe thead th {\n",
       "        text-align: right;\n",
       "    }\n",
       "</style>\n",
       "<table border=\"1\" class=\"dataframe\">\n",
       "  <thead>\n",
       "    <tr style=\"text-align: right;\">\n",
       "      <th></th>\n",
       "      <th>CO_MODALIDADE</th>\n",
       "      <th>CO_CATEGAD</th>\n",
       "      <th>CO_ORGACAD</th>\n",
       "      <th>NU_IDADE</th>\n",
       "      <th>CO_TURNO_GRADUACAO</th>\n",
       "      <th>NT_INST</th>\n",
       "    </tr>\n",
       "  </thead>\n",
       "  <tbody>\n",
       "    <tr>\n",
       "      <th>0</th>\n",
       "      <td>1</td>\n",
       "      <td>1</td>\n",
       "      <td>10028</td>\n",
       "      <td>23</td>\n",
       "      <td>1.0</td>\n",
       "      <td>0.828571</td>\n",
       "    </tr>\n",
       "    <tr>\n",
       "      <th>1</th>\n",
       "      <td>1</td>\n",
       "      <td>1</td>\n",
       "      <td>10028</td>\n",
       "      <td>25</td>\n",
       "      <td>1.0</td>\n",
       "      <td>0.523810</td>\n",
       "    </tr>\n",
       "    <tr>\n",
       "      <th>2</th>\n",
       "      <td>1</td>\n",
       "      <td>1</td>\n",
       "      <td>10028</td>\n",
       "      <td>24</td>\n",
       "      <td>1.0</td>\n",
       "      <td>0.638095</td>\n",
       "    </tr>\n",
       "    <tr>\n",
       "      <th>3</th>\n",
       "      <td>1</td>\n",
       "      <td>1</td>\n",
       "      <td>10028</td>\n",
       "      <td>38</td>\n",
       "      <td>4.0</td>\n",
       "      <td>0.700000</td>\n",
       "    </tr>\n",
       "    <tr>\n",
       "      <th>4</th>\n",
       "      <td>1</td>\n",
       "      <td>1</td>\n",
       "      <td>10028</td>\n",
       "      <td>53</td>\n",
       "      <td>4.0</td>\n",
       "      <td>0.347619</td>\n",
       "    </tr>\n",
       "  </tbody>\n",
       "</table>\n",
       "</div>"
      ],
      "text/plain": [
       "   CO_MODALIDADE  CO_CATEGAD  CO_ORGACAD  NU_IDADE  CO_TURNO_GRADUACAO  \\\n",
       "0              1           1       10028        23                 1.0   \n",
       "1              1           1       10028        25                 1.0   \n",
       "2              1           1       10028        24                 1.0   \n",
       "3              1           1       10028        38                 4.0   \n",
       "4              1           1       10028        53                 4.0   \n",
       "\n",
       "    NT_INST  \n",
       "0  0.828571  \n",
       "1  0.523810  \n",
       "2  0.638095  \n",
       "3  0.700000  \n",
       "4  0.347619  "
      ]
     },
     "execution_count": 61,
     "metadata": {},
     "output_type": "execute_result"
    }
   ],
   "source": [
    "data_nonstring = data[list(set(colunas) - set(string_columns))]\n",
    "data_nonstring.head()"
   ]
  },
  {
   "cell_type": "code",
   "execution_count": 62,
   "metadata": {},
   "outputs": [
    {
     "data": {
      "text/plain": [
       "CO_MODALIDADE           2\n",
       "CO_CATEGAD              6\n",
       "CO_ORGACAD              5\n",
       "NU_IDADE               49\n",
       "CO_TURNO_GRADUACAO      4\n",
       "NT_INST               190\n",
       "dtype: int64"
      ]
     },
     "execution_count": 62,
     "metadata": {},
     "output_type": "execute_result"
    }
   ],
   "source": [
    "data_nonstring.nunique()"
   ]
  },
  {
   "cell_type": "code",
   "execution_count": 63,
   "metadata": {},
   "outputs": [],
   "source": [
    "# Categorias numéricas não binárias:\n",
    "categorias_numericas = ['CO_ORGACAD', 'CO_TURNO_GRADUACAO', 'CO_CATEGAD']\n",
    "data_num_cat = pd.get_dummies(data_nonstring[categorias_numericas].applymap(str))"
   ]
  },
  {
   "cell_type": "code",
   "execution_count": 64,
   "metadata": {},
   "outputs": [],
   "source": [
    "numerico = ['NT_INST', 'NU_IDADE']\n",
    "data_num = data[numerico]"
   ]
  },
  {
   "cell_type": "code",
   "execution_count": 65,
   "metadata": {},
   "outputs": [],
   "source": [
    "ss = sklearn.preprocessing.StandardScaler()\n",
    "data_num = pd.DataFrame(ss.fit_transform(data_num), columns=numerico)"
   ]
  },
  {
   "cell_type": "code",
   "execution_count": 66,
   "metadata": {},
   "outputs": [
    {
     "data": {
      "text/html": [
       "<div>\n",
       "<style scoped>\n",
       "    .dataframe tbody tr th:only-of-type {\n",
       "        vertical-align: middle;\n",
       "    }\n",
       "\n",
       "    .dataframe tbody tr th {\n",
       "        vertical-align: top;\n",
       "    }\n",
       "\n",
       "    .dataframe thead th {\n",
       "        text-align: right;\n",
       "    }\n",
       "</style>\n",
       "<table border=\"1\" class=\"dataframe\">\n",
       "  <thead>\n",
       "    <tr style=\"text-align: right;\">\n",
       "      <th></th>\n",
       "      <th>NT_INST</th>\n",
       "      <th>NU_IDADE</th>\n",
       "    </tr>\n",
       "  </thead>\n",
       "  <tbody>\n",
       "    <tr>\n",
       "      <th>0</th>\n",
       "      <td>0.635364</td>\n",
       "      <td>-0.630898</td>\n",
       "    </tr>\n",
       "    <tr>\n",
       "      <th>1</th>\n",
       "      <td>-0.741364</td>\n",
       "      <td>-0.349389</td>\n",
       "    </tr>\n",
       "    <tr>\n",
       "      <th>2</th>\n",
       "      <td>-0.225091</td>\n",
       "      <td>-0.490143</td>\n",
       "    </tr>\n",
       "    <tr>\n",
       "      <th>3</th>\n",
       "      <td>0.054557</td>\n",
       "      <td>1.480420</td>\n",
       "    </tr>\n",
       "    <tr>\n",
       "      <th>4</th>\n",
       "      <td>-1.537285</td>\n",
       "      <td>3.591737</td>\n",
       "    </tr>\n",
       "  </tbody>\n",
       "</table>\n",
       "</div>"
      ],
      "text/plain": [
       "    NT_INST  NU_IDADE\n",
       "0  0.635364 -0.630898\n",
       "1 -0.741364 -0.349389\n",
       "2 -0.225091 -0.490143\n",
       "3  0.054557  1.480420\n",
       "4 -1.537285  3.591737"
      ]
     },
     "execution_count": 66,
     "metadata": {},
     "output_type": "execute_result"
    }
   ],
   "source": [
    "data_num.head()"
   ]
  },
  {
   "cell_type": "code",
   "execution_count": 67,
   "metadata": {},
   "outputs": [],
   "source": [
    "# Dataframe final:\n",
    "\n",
    "data = pd.concat([data_string, data_num_cat, data_num, egeral[['CO_MODALIDADE']]], axis=1)"
   ]
  },
  {
   "cell_type": "code",
   "execution_count": 68,
   "metadata": {},
   "outputs": [
    {
     "data": {
      "text/html": [
       "<div>\n",
       "<style scoped>\n",
       "    .dataframe tbody tr th:only-of-type {\n",
       "        vertical-align: middle;\n",
       "    }\n",
       "\n",
       "    .dataframe tbody tr th {\n",
       "        vertical-align: top;\n",
       "    }\n",
       "\n",
       "    .dataframe thead th {\n",
       "        text-align: right;\n",
       "    }\n",
       "</style>\n",
       "<table border=\"1\" class=\"dataframe\">\n",
       "  <thead>\n",
       "    <tr style=\"text-align: right;\">\n",
       "      <th></th>\n",
       "      <th>CO_UF_CURSO_AC</th>\n",
       "      <th>CO_UF_CURSO_AL</th>\n",
       "      <th>CO_UF_CURSO_AM</th>\n",
       "      <th>CO_UF_CURSO_AP</th>\n",
       "      <th>CO_UF_CURSO_BA</th>\n",
       "      <th>CO_UF_CURSO_CE</th>\n",
       "      <th>CO_UF_CURSO_DF</th>\n",
       "      <th>CO_UF_CURSO_ES</th>\n",
       "      <th>CO_UF_CURSO_GO</th>\n",
       "      <th>CO_UF_CURSO_MA</th>\n",
       "      <th>...</th>\n",
       "      <th>CO_TURNO_GRADUACAO_4.0</th>\n",
       "      <th>CO_CATEGAD_1</th>\n",
       "      <th>CO_CATEGAD_2</th>\n",
       "      <th>CO_CATEGAD_3</th>\n",
       "      <th>CO_CATEGAD_4</th>\n",
       "      <th>CO_CATEGAD_5</th>\n",
       "      <th>CO_CATEGAD_7</th>\n",
       "      <th>NT_INST</th>\n",
       "      <th>NU_IDADE</th>\n",
       "      <th>CO_MODALIDADE</th>\n",
       "    </tr>\n",
       "  </thead>\n",
       "  <tbody>\n",
       "    <tr>\n",
       "      <th>0</th>\n",
       "      <td>0</td>\n",
       "      <td>0</td>\n",
       "      <td>0</td>\n",
       "      <td>0</td>\n",
       "      <td>0</td>\n",
       "      <td>0</td>\n",
       "      <td>0</td>\n",
       "      <td>0</td>\n",
       "      <td>0</td>\n",
       "      <td>0</td>\n",
       "      <td>...</td>\n",
       "      <td>0</td>\n",
       "      <td>1</td>\n",
       "      <td>0</td>\n",
       "      <td>0</td>\n",
       "      <td>0</td>\n",
       "      <td>0</td>\n",
       "      <td>0</td>\n",
       "      <td>0.635364</td>\n",
       "      <td>-0.630898</td>\n",
       "      <td>1</td>\n",
       "    </tr>\n",
       "    <tr>\n",
       "      <th>1</th>\n",
       "      <td>0</td>\n",
       "      <td>0</td>\n",
       "      <td>0</td>\n",
       "      <td>0</td>\n",
       "      <td>0</td>\n",
       "      <td>0</td>\n",
       "      <td>0</td>\n",
       "      <td>0</td>\n",
       "      <td>0</td>\n",
       "      <td>0</td>\n",
       "      <td>...</td>\n",
       "      <td>0</td>\n",
       "      <td>1</td>\n",
       "      <td>0</td>\n",
       "      <td>0</td>\n",
       "      <td>0</td>\n",
       "      <td>0</td>\n",
       "      <td>0</td>\n",
       "      <td>-0.741364</td>\n",
       "      <td>-0.349389</td>\n",
       "      <td>1</td>\n",
       "    </tr>\n",
       "    <tr>\n",
       "      <th>2</th>\n",
       "      <td>0</td>\n",
       "      <td>0</td>\n",
       "      <td>0</td>\n",
       "      <td>0</td>\n",
       "      <td>0</td>\n",
       "      <td>0</td>\n",
       "      <td>0</td>\n",
       "      <td>0</td>\n",
       "      <td>0</td>\n",
       "      <td>0</td>\n",
       "      <td>...</td>\n",
       "      <td>0</td>\n",
       "      <td>1</td>\n",
       "      <td>0</td>\n",
       "      <td>0</td>\n",
       "      <td>0</td>\n",
       "      <td>0</td>\n",
       "      <td>0</td>\n",
       "      <td>-0.225091</td>\n",
       "      <td>-0.490143</td>\n",
       "      <td>1</td>\n",
       "    </tr>\n",
       "    <tr>\n",
       "      <th>3</th>\n",
       "      <td>0</td>\n",
       "      <td>0</td>\n",
       "      <td>0</td>\n",
       "      <td>0</td>\n",
       "      <td>0</td>\n",
       "      <td>0</td>\n",
       "      <td>1</td>\n",
       "      <td>0</td>\n",
       "      <td>0</td>\n",
       "      <td>0</td>\n",
       "      <td>...</td>\n",
       "      <td>1</td>\n",
       "      <td>1</td>\n",
       "      <td>0</td>\n",
       "      <td>0</td>\n",
       "      <td>0</td>\n",
       "      <td>0</td>\n",
       "      <td>0</td>\n",
       "      <td>0.054557</td>\n",
       "      <td>1.480420</td>\n",
       "      <td>1</td>\n",
       "    </tr>\n",
       "    <tr>\n",
       "      <th>4</th>\n",
       "      <td>0</td>\n",
       "      <td>0</td>\n",
       "      <td>0</td>\n",
       "      <td>0</td>\n",
       "      <td>0</td>\n",
       "      <td>0</td>\n",
       "      <td>1</td>\n",
       "      <td>0</td>\n",
       "      <td>0</td>\n",
       "      <td>0</td>\n",
       "      <td>...</td>\n",
       "      <td>1</td>\n",
       "      <td>1</td>\n",
       "      <td>0</td>\n",
       "      <td>0</td>\n",
       "      <td>0</td>\n",
       "      <td>0</td>\n",
       "      <td>0</td>\n",
       "      <td>-1.537285</td>\n",
       "      <td>3.591737</td>\n",
       "      <td>1</td>\n",
       "    </tr>\n",
       "  </tbody>\n",
       "</table>\n",
       "<p>5 rows × 233 columns</p>\n",
       "</div>"
      ],
      "text/plain": [
       "   CO_UF_CURSO_AC  CO_UF_CURSO_AL  CO_UF_CURSO_AM  CO_UF_CURSO_AP  \\\n",
       "0               0               0               0               0   \n",
       "1               0               0               0               0   \n",
       "2               0               0               0               0   \n",
       "3               0               0               0               0   \n",
       "4               0               0               0               0   \n",
       "\n",
       "   CO_UF_CURSO_BA  CO_UF_CURSO_CE  CO_UF_CURSO_DF  CO_UF_CURSO_ES  \\\n",
       "0               0               0               0               0   \n",
       "1               0               0               0               0   \n",
       "2               0               0               0               0   \n",
       "3               0               0               1               0   \n",
       "4               0               0               1               0   \n",
       "\n",
       "   CO_UF_CURSO_GO  CO_UF_CURSO_MA  ...  CO_TURNO_GRADUACAO_4.0  CO_CATEGAD_1  \\\n",
       "0               0               0  ...                       0             1   \n",
       "1               0               0  ...                       0             1   \n",
       "2               0               0  ...                       0             1   \n",
       "3               0               0  ...                       1             1   \n",
       "4               0               0  ...                       1             1   \n",
       "\n",
       "   CO_CATEGAD_2  CO_CATEGAD_3  CO_CATEGAD_4  CO_CATEGAD_5  CO_CATEGAD_7  \\\n",
       "0             0             0             0             0             0   \n",
       "1             0             0             0             0             0   \n",
       "2             0             0             0             0             0   \n",
       "3             0             0             0             0             0   \n",
       "4             0             0             0             0             0   \n",
       "\n",
       "    NT_INST  NU_IDADE  CO_MODALIDADE  \n",
       "0  0.635364 -0.630898              1  \n",
       "1 -0.741364 -0.349389              1  \n",
       "2 -0.225091 -0.490143              1  \n",
       "3  0.054557  1.480420              1  \n",
       "4 -1.537285  3.591737              1  \n",
       "\n",
       "[5 rows x 233 columns]"
      ]
     },
     "execution_count": 68,
     "metadata": {},
     "output_type": "execute_result"
    }
   ],
   "source": [
    "data.head()"
   ]
  },
  {
   "cell_type": "code",
   "execution_count": null,
   "metadata": {},
   "outputs": [],
   "source": []
  }
 ],
 "metadata": {
  "kernelspec": {
   "display_name": "Python 3",
   "language": "python",
   "name": "python3"
  },
  "language_info": {
   "codemirror_mode": {
    "name": "ipython",
    "version": 3
   },
   "file_extension": ".py",
   "mimetype": "text/x-python",
   "name": "python",
   "nbconvert_exporter": "python",
   "pygments_lexer": "ipython3",
   "version": "3.7.3"
  }
 },
 "nbformat": 4,
 "nbformat_minor": 2
}
