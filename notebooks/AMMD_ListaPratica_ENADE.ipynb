{
 "cells": [
  {
   "cell_type": "markdown",
   "metadata": {},
   "source": [
    "<table style=\"width: 100%; margin-left: auto; margin-right: auto; background-color: white;\">\n",
    "<tbody>\n",
    "<tr>\n",
    "\n",
    "<td style=\"text-align: center; width: 12%;\"><img src=imagens/brasil-brasao.png alt=\"\" /></td>\n",
    "\n",
    "<td style=\"width: 68%;\">\n",
    "<h2 style=\"text-align: center; margin-top: 1%;\">Rep&uacute;blica Federativa do Brasil</h2>\n",
    "<h2 style=\"text-align: center; margin-top: 1%;\">Minist&eacute;rio da Educa&ccedil;&atilde;o</h2>\n",
    "<h2 style=\"text-align: center; margin-top: 1%;\">Universidade Federal do Amazonas</h2>\n",
    "<h2 style=\"text-align: center; margin-top: 1%;\">Instituto de Computa&ccedil;&atilde;o</h2>\n",
    "</td>\n",
    "\n",
    "<td style=\"width: 12%;\"><img src=\"imagens/UFAM-logo.png\" alt=\"\" /></td>\n",
    "\n",
    "</tr>\n",
    "</tbody>\n",
    "</table>"
   ]
  },
  {
   "cell_type": "markdown",
   "metadata": {},
   "source": [
    "# Aprendizado de Máquina e Mineração de Dados\n",
    "## Lista Prática de Análise de Dados"
   ]
  },
  {
   "cell_type": "markdown",
   "metadata": {},
   "source": [
    "Professor _Marco Cristo_ \n",
    "\n",
    "**Aluno**:"
   ]
  },
  {
   "cell_type": "markdown",
   "metadata": {
    "collapsed": true
   },
   "source": []
  },
  {
   "cell_type": "markdown",
   "metadata": {},
   "source": [
    "__Introdução__: Neste trabalho, vamos analisar dados do INEP sobre o ENADE 2017. Estes dados estão organizados em uma releção com as informações do candidato necessárias para realizar a prova, além das suas notas e as respostas que os candidatos deram a questionários sobre a prova, seus dados pessoais e curso realizado. Em anexo, ao fim deste notebook, temos uma descrição detalhada das informações obtidas. "
   ]
  },
  {
   "cell_type": "markdown",
   "metadata": {},
   "source": [
    "#### Preliminares"
   ]
  },
  {
   "cell_type": "code",
   "execution_count": null,
   "metadata": {},
   "outputs": [],
   "source": [
    "# usar versão do Python 3.x\n",
    "\n",
    "# Imports\n",
    "import pandas as pd\n",
    "import numpy as np\n",
    "import matplotlib.pyplot as plt\n",
    "import sklearn\n",
    "import sys"
   ]
  },
  {
   "cell_type": "code",
   "execution_count": null,
   "metadata": {},
   "outputs": [],
   "source": [
    "print('Python', sys.version)\n",
    "print('--------')\n",
    "print('Pandas:', pd.__version__)\n",
    "print('Numpy:', np.__version__)\n",
    "print('SKLearn:', sklearn.__version__)"
   ]
  },
  {
   "cell_type": "code",
   "execution_count": null,
   "metadata": {},
   "outputs": [],
   "source": [
    "# Caminho do arquivo\n",
    "egeral = pd.read_csv('./nome_do_arquivo.csv', sep=';') "
   ]
  },
  {
   "cell_type": "markdown",
   "metadata": {},
   "source": [
    "#### Análise de valores faltantes"
   ]
  },
  {
   "cell_type": "markdown",
   "metadata": {},
   "source": [
    "<div class=\"alert alert-info\">\n",
    "<b>1</b> - Que colunas possuem campos nulos em **egeral**?\n",
    "</div>"
   ]
  },
  {
   "cell_type": "markdown",
   "metadata": {},
   "source": [
    "Há muitas formas de fazer isso em Pandas, como por exemplo através da utilização do método isnull()"
   ]
  },
  {
   "cell_type": "code",
   "execution_count": null,
   "metadata": {},
   "outputs": [],
   "source": []
  },
  {
   "cell_type": "markdown",
   "metadata": {},
   "source": [
    "<div class=\"alert alert-info\">\n",
    "<b>2</b> - Substitua dados faltantes por valores razoáveis. No caso dos questionários, as colunas até QE_I26 podem ser substituídas por um 'Z'. As colunas após a QE_I26 podem ser substituídas por 7 (7 = _Não sei responder_).\n",
    "</div>"
   ]
  },
  {
   "cell_type": "markdown",
   "metadata": {},
   "source": [
    "No caso das notas, se elas forem NaN, podemos substituí-las por 0. Após isso, imprima o vetor resultante para confirmar se não há mais valores NaNs"
   ]
  },
  {
   "cell_type": "code",
   "execution_count": null,
   "metadata": {},
   "outputs": [],
   "source": []
  },
  {
   "cell_type": "markdown",
   "metadata": {
    "collapsed": true
   },
   "source": [
    "#### Consultando os dados e comparando distribuições"
   ]
  },
  {
   "cell_type": "markdown",
   "metadata": {},
   "source": [
    "<div class=\"alert alert-info\">\n",
    "<b>3</b> - Considerando as distribuições de notas, quem se saiu melhor, os alunos da modalidade presencial ou à distância? _Dica_: boxplots são ótimos para comparar distribuições\n",
    "</div>"
   ]
  },
  {
   "cell_type": "markdown",
   "metadata": {},
   "source": [
    "Para várias questões a partir daqui, vamos eventualmente usar um dataframe extra, onde criamos colunas novas, em geral, que servem para fornecer descrição para outra colunas."
   ]
  },
  {
   "cell_type": "code",
   "execution_count": null,
   "metadata": {},
   "outputs": [],
   "source": []
  },
  {
   "cell_type": "markdown",
   "metadata": {},
   "source": [
    "Explique os resultados obtidos."
   ]
  },
  {
   "cell_type": "markdown",
   "metadata": {},
   "source": []
  },
  {
   "cell_type": "markdown",
   "metadata": {},
   "source": [
    "<div class=\"alert alert-info\">\n",
    "<b>4</b> - Novamente considere as distribuições de notas. Como se comparam os alunos do turno noturno com os dos demais turnos? Há mais alunos estudando ao dia ou à noite? \n",
    "</div> "
   ]
  },
  {
   "cell_type": "code",
   "execution_count": null,
   "metadata": {},
   "outputs": [],
   "source": []
  },
  {
   "cell_type": "markdown",
   "metadata": {},
   "source": [
    "Explique os resultados obtidos."
   ]
  },
  {
   "cell_type": "markdown",
   "metadata": {},
   "source": []
  },
  {
   "cell_type": "markdown",
   "metadata": {},
   "source": [
    "<div class=\"alert alert-info\">\n",
    "<b>5</b> - Em geral, o MEC acredita que **não** há importantes diferenças de desepenho entre alunos quotistas e não quotistas. Isto é o que você observa, considerando as distribuições de notas dos dois grupos? _Dica_: não são quotistas os alunos que responderam A à pergunta QE_I15.\n",
    "</div>"
   ]
  },
  {
   "cell_type": "code",
   "execution_count": null,
   "metadata": {},
   "outputs": [],
   "source": []
  },
  {
   "cell_type": "markdown",
   "metadata": {},
   "source": [
    "Explique os resultados obtidos."
   ]
  },
  {
   "cell_type": "markdown",
   "metadata": {},
   "source": []
  },
  {
   "cell_type": "markdown",
   "metadata": {},
   "source": [
    "<div class=\"alert alert-info\">\n",
    "<b>6</b> - Como se comparam os desempenhos dos alunos de instituíções públicas, privadas sem fim lucrativo e privadas com fim lucrativo?\n",
    "</div>"
   ]
  },
  {
   "cell_type": "code",
   "execution_count": null,
   "metadata": {},
   "outputs": [],
   "source": []
  },
  {
   "cell_type": "markdown",
   "metadata": {},
   "source": [
    "Comente sobre os resultados obtidos."
   ]
  },
  {
   "cell_type": "markdown",
   "metadata": {},
   "source": []
  },
  {
   "cell_type": "markdown",
   "metadata": {},
   "source": [
    "#### Cruzando dados"
   ]
  },
  {
   "cell_type": "markdown",
   "metadata": {},
   "source": [
    "Os motivos elencados para descrever o que leva um candidato a escolher seu curso incluem:\n",
    "\n",
    "A = Inserção no mercado de trabalho.<br>B = Influência familiar.<br>C = Valorização profissional.<br>D = Prestígio Social.<br>E = Vocação.<br>F = Oferecimento do curso na modalidade a distância.<br>G = Baixa concorrência para ingresso.<br>H = Outro motivo. \n",
    "\n",
    "<div class=\"alert alert-info\">\n",
    "<b>7</b> - Cruze a informação sobre o turno do curso do aluno com a resposta dada a esta pergunta (QE_I25), de forma a obter, para os motivos dados, o percentual de alunos que os escolheram, de acordo com os cursos realizados.\n",
    "</div>"
   ]
  },
  {
   "cell_type": "code",
   "execution_count": null,
   "metadata": {},
   "outputs": [],
   "source": []
  },
  {
   "cell_type": "markdown",
   "metadata": {},
   "source": [
    "Comente sobre os resultados obtidos."
   ]
  },
  {
   "cell_type": "markdown",
   "metadata": {},
   "source": []
  },
  {
   "cell_type": "markdown",
   "metadata": {},
   "source": [
    "Considerando as seguintes faixas de renda (QE_I08):\n",
    "\n",
    "A = Até 1,5 salário mínimo (até R\\$ 1.086,00).<br>B = De 1,5 a 3 salários mínimos (R\\$ 1.086,01 a R\\$ 2.172,00).<br>C = De 3 a 4,5 salários mínimos (R\\$ 2.172,01 a R\\$ 3.258,00).<br>D = De 4,5 a 6 salários mínimos (R\\$ 3.258,01 a R\\$ 4.344,00).<br>E = De 6 a 10 salários mínimos (R\\$ 4.344,01 a R\\$ 7.240,00).<br>F = De 10 a 30 salários mínimos (R\\$ 7.240,01 a R\\$ 21.720,00).<br>G = Acima de 30 salários mínimos (mais de R\\$ 21.720,01).\n",
    "\n",
    "<div class=\"alert alert-info\">\n",
    "<b>8</b> - É verdade que, quando comparado às instituíções privadas, estão nos cursos das universidades federais tanto os estudantes mais pobres quanto os mais ricos do país?\n",
    "</div>"
   ]
  },
  {
   "cell_type": "code",
   "execution_count": null,
   "metadata": {},
   "outputs": [],
   "source": []
  },
  {
   "cell_type": "markdown",
   "metadata": {},
   "source": [
    "Comente sobre os resultados."
   ]
  },
  {
   "cell_type": "markdown",
   "metadata": {},
   "source": []
  },
  {
   "cell_type": "markdown",
   "metadata": {
    "scrolled": true
   },
   "source": [
    "#### Obtendo valor consolidado sobre dados cruzados (pivô)"
   ]
  },
  {
   "cell_type": "markdown",
   "metadata": {},
   "source": [
    "Considerando como foi o ensino médio dos alunos, de acordo com as opções em QE_I17:\n",
    "\n",
    "A = Todo em escola pública.<br>B = Todo em escola privada (particular).<br>C = Todo no exterior.<br>D = A maior parte em escola pública.<br>E = A maior parte em escola privada (particular).<br>F = Parte no Brasil e parte no exterior.\n",
    "\n",
    "<div class=\"alert alert-info\">\n",
    "<b>9</b> - Qual a nota geral média dos alunos, de acordo com a forma como ele cursou ensino médio?\n",
    "</div>"
   ]
  },
  {
   "cell_type": "code",
   "execution_count": null,
   "metadata": {},
   "outputs": [],
   "source": []
  },
  {
   "cell_type": "markdown",
   "metadata": {},
   "source": [
    "Comente sobre os resultados."
   ]
  },
  {
   "cell_type": "markdown",
   "metadata": {},
   "source": []
  },
  {
   "cell_type": "markdown",
   "metadata": {},
   "source": [
    "<div class=\"alert alert-info\">\n",
    "<b>10</b> - Qual a nota geral média dos alunos, de acordo com sua renda, por regiao? Caso sua base se refira a uma única região, considere a renda por estado daquela região.\n",
    "</div>"
   ]
  },
  {
   "cell_type": "code",
   "execution_count": null,
   "metadata": {},
   "outputs": [],
   "source": []
  },
  {
   "cell_type": "markdown",
   "metadata": {},
   "source": [
    "Explique os resultados."
   ]
  },
  {
   "cell_type": "markdown",
   "metadata": {},
   "source": []
  },
  {
   "cell_type": "markdown",
   "metadata": {
    "scrolled": false
   },
   "source": [
    "#### Agrupando e ordenando dados"
   ]
  },
  {
   "cell_type": "markdown",
   "metadata": {},
   "source": [
    "<div class=\"alert alert-info\">\n",
    "<b>11</b> - Qual o ranking dos estados de acordo com a nota média obtida por alunos, considerando apenas instituições públicas?\n",
    "</div>"
   ]
  },
  {
   "cell_type": "code",
   "execution_count": null,
   "metadata": {},
   "outputs": [],
   "source": []
  },
  {
   "cell_type": "markdown",
   "metadata": {},
   "source": [
    "Explique os resultados obtidos."
   ]
  },
  {
   "cell_type": "markdown",
   "metadata": {},
   "source": []
  },
  {
   "cell_type": "markdown",
   "metadata": {},
   "source": [
    "#### Comportamentos anômalos"
   ]
  },
  {
   "cell_type": "markdown",
   "metadata": {},
   "source": [
    "<div class=\"alert alert-info\">\n",
    "<b>12</b> - Como se comparam as variáveis **idade**, **nota geral**, **ano de início da graduação** e **ano de fim do ensino médio** em termos de anomalias?\n",
    "</div>"
   ]
  },
  {
   "cell_type": "code",
   "execution_count": null,
   "metadata": {},
   "outputs": [],
   "source": []
  },
  {
   "cell_type": "markdown",
   "metadata": {},
   "source": [
    "Dica: Utilize BOXPLOT ou histograma para facilitar o entendimento."
   ]
  },
  {
   "cell_type": "markdown",
   "metadata": {},
   "source": [
    "Comente sobre os resultados."
   ]
  },
  {
   "cell_type": "markdown",
   "metadata": {},
   "source": []
  },
  {
   "cell_type": "markdown",
   "metadata": {},
   "source": [
    "#### Engenharia de atributos"
   ]
  },
  {
   "cell_type": "markdown",
   "metadata": {},
   "source": [
    "As questões QE_I27 a QE_I68 nos permitem avaliar quão boa é a instituição de acordo com a visão dos estudantes. Ela deve ser calculada como:\n",
    "\n",
    "NT_INST = $\\frac{1}{N} \\sum_{i=27}^{68} \\frac{f(\\text{QE_I}_i) - 1}{5}$\n",
    "\n",
    "onde $f$ é uma função que retorna o valor de QE_I$_i$ se ele estiver entre 1 a 6; ela retorna 1, caso contrário. $N$ é o total de questões, entre QE_I27 a QE_I68, que tiveram nota entre 1 a 6.\n",
    "\n",
    "<div class=\"alert alert-info\">\n",
    "<b>13</b> - Seguindo a definição dada, crie a coluna NT_INST que reflete a nota que cada estudante daria para a instituição. \n",
    "</div>    "
   ]
  },
  {
   "cell_type": "code",
   "execution_count": null,
   "metadata": {},
   "outputs": [],
   "source": []
  },
  {
   "cell_type": "markdown",
   "metadata": {},
   "source": [
    "#### Preparando dados para classificação"
   ]
  },
  {
   "cell_type": "markdown",
   "metadata": {},
   "source": [
    "Queremos tentar prever a nota de um aluno apartir das seguintes informações:\n",
    "\n",
    "* CO_CATEGAD, CO_ORGACAD, CO_MODALIDADE, CO_UF_CURSO, REGIAO,  \n",
    "* NU_IDADE, TP_SEXO, CO_TURNO_GRADUACAO, \n",
    "* QE_I01, QE_I02, QE_I03, QE_I04, QE_I05, QE_I06, QE_I07, QE_I08, QE_I09, QE_I10, QE_I11, QE_I12, QE_I13, QE_I14, QE_I15, QE_I17, QE_I18, QE_I19, QE_I20, QE_I21, QE_I22, QE_I23, QE_I24, QE_I25, QE_I26 \n",
    "* NT_INST\n",
    "\n",
    "<div class=\"alert alert-info\">\n",
    "<b>14</b> - Prepare os dados para aprendizado, convertendo strings para dados categóricos, dados categóricos não binários para hot-vectors e padronizando dados numéricos usando Z-score.\n",
    "</div> "
   ]
  },
  {
   "cell_type": "code",
   "execution_count": null,
   "metadata": {},
   "outputs": [],
   "source": []
  },
  {
   "cell_type": "markdown",
   "metadata": {},
   "source": [
    "## Questão bônus \n",
    "### Classificação"
   ]
  },
  {
   "cell_type": "markdown",
   "metadata": {},
   "source": [
    "Se você gerou os dados corretamente, você pode agora tentar prever, dado um aluno, se ele vai passar ou não no ENADE:"
   ]
  },
  {
   "cell_type": "code",
   "execution_count": null,
   "metadata": {},
   "outputs": [],
   "source": [
    "# imports a serem utilizados\n",
    "\n",
    "# utilize a train_test_split para separar o treino e teste\n",
    "from sklearn.model_selection import train_test_split\n",
    "\n",
    "# utilize o Random Forest\n",
    "from sklearn.ensemble import RandomForestClassifier"
   ]
  },
  {
   "cell_type": "code",
   "execution_count": null,
   "metadata": {},
   "outputs": [],
   "source": [
    "### Implemente seu treinamento e inferência:"
   ]
  },
  {
   "cell_type": "code",
   "execution_count": null,
   "metadata": {},
   "outputs": [],
   "source": [
    "# utilize a matriz de confusão para auxiliar na interpretação dos resultados\n",
    "from sklearn.metrics import confusion_matrix\n",
    "y_pred = clf.predict(X_test)\n",
    "confusion_matrix(y_test, y_pred)"
   ]
  },
  {
   "cell_type": "markdown",
   "metadata": {},
   "source": [
    "<div class=\"alert alert-info\">\n",
    "<b>15</b> - Que atributos a RandomForest julgou mais relevantes para determinar se o aluno vai ou não passar?\n",
    "</div>"
   ]
  },
  {
   "cell_type": "code",
   "execution_count": null,
   "metadata": {},
   "outputs": [],
   "source": []
  }
 ],
 "metadata": {
  "kernelspec": {
   "display_name": "Python 3",
   "language": "python",
   "name": "python3"
  },
  "language_info": {
   "codemirror_mode": {
    "name": "ipython",
    "version": 3
   },
   "file_extension": ".py",
   "mimetype": "text/x-python",
   "name": "python",
   "nbconvert_exporter": "python",
   "pygments_lexer": "ipython3",
   "version": "3.6.7"
  }
 },
 "nbformat": 4,
 "nbformat_minor": 2
}
